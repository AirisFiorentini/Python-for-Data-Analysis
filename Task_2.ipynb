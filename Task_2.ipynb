{
 "cells": [
  {
   "cell_type": "markdown",
   "metadata": {},
   "source": [
    "# Задание 2.\n",
    "\n",
    "**NB. Все упражнения ниже нужно делать без использования циклов Python в явном (`while`, `for`) и неявном виде (list comprehension, `map`, `reduce` и пр)**\n",
    "\n",
    "Задания по манипуляциям с массивами чаще всего решаются в одно/два выражения. "
   ]
  },
  {
   "cell_type": "code",
   "execution_count": 3,
   "metadata": {},
   "outputs": [
    {
     "data": {
      "text/plain": [
       "array([[49, 53, 73, ..., 47, 11, 81],\n",
       "       [86, 68, 51, ..., 47, 93, 83],\n",
       "       [23, 47, 59, ..., 94,  7, 81],\n",
       "       ...,\n",
       "       [ 0, 72, 23, ..., 40, 43, 76],\n",
       "       [26, 28, 29, ..., 64, 49, 97],\n",
       "       [66, 19, 36, ..., 15, 27, 40]])"
      ]
     },
     "execution_count": 3,
     "metadata": {},
     "output_type": "execute_result"
    }
   ],
   "source": [
    "%matplotlib inline\n",
    "\n",
    "import numpy as np\n",
    "import matplotlib.pyplot as plt\n",
    "import seaborn as sns\n",
    "sns.set_theme()\n",
    "\n",
    "A = np.random.randint(0, 100, size=(200, 50))\n",
    "A"
   ]
  },
  {
   "cell_type": "markdown",
   "metadata": {},
   "source": [
    "# Задание 2.1 (2 балла)\n",
    "\n",
    "Сгенерируйте новый массив, в котором столбцы массива `A` переставлены в случайном порядке"
   ]
  },
  {
   "cell_type": "code",
   "execution_count": 4,
   "metadata": {},
   "outputs": [
    {
     "data": {
      "text/plain": [
       "array([[81,  3, 74, ..., 66,  6, 50],\n",
       "       [83, 64, 26, ..., 19, 64,  1],\n",
       "       [81, 59, 69, ..., 97, 89, 11],\n",
       "       ...,\n",
       "       [76, 20, 26, ..., 90, 49, 39],\n",
       "       [97, 99, 47, ..., 87, 70, 87],\n",
       "       [40, 23, 78, ..., 31, 27, 46]])"
      ]
     },
     "execution_count": 4,
     "metadata": {},
     "output_type": "execute_result"
    }
   ],
   "source": [
    "B = np.transpose(np.random.permutation(np.transpose(A)))\n",
    "B"
   ]
  },
  {
   "cell_type": "markdown",
   "metadata": {},
   "source": [
    "# Задание 2.2 (5 баллов)\n",
    "\n",
    "Сгенерируйте новый массив, который содержит только те строки массива `A`, в которых: \n",
    "- сумма элементов по четным столбцам (индексы $0, 2, \\ldots$) больше среднего значения (по всему массиву) суммы элементов по нечетным столбцам (индексы $1, 3, \\ldots$) "
   ]
  },
  {
   "cell_type": "code",
   "execution_count": 5,
   "metadata": {},
   "outputs": [
    {
     "data": {
      "text/plain": [
       "array([[49, 53, 73, ..., 47, 11, 81],\n",
       "       [86, 68, 51, ..., 47, 93, 83],\n",
       "       [23, 47, 59, ..., 94,  7, 81],\n",
       "       ...,\n",
       "       [ 0, 72, 23, ..., 40, 43, 76],\n",
       "       [26, 28, 29, ..., 64, 49, 97],\n",
       "       [66, 19, 36, ..., 15, 27, 40]])"
      ]
     },
     "execution_count": 5,
     "metadata": {},
     "output_type": "execute_result"
    }
   ],
   "source": [
    "C = A[A[:,::2].sum(axis=1) > A[:,1::2].mean()]\n",
    "C"
   ]
  },
  {
   "cell_type": "markdown",
   "metadata": {},
   "source": [
    "# Задача 2.3 (3 балла)\n",
    "\n",
    "Найдите индекс строки массива `A`, в которой разница между максимальным и минимальным элементом максимальна"
   ]
  },
  {
   "cell_type": "code",
   "execution_count": 6,
   "metadata": {},
   "outputs": [
    {
     "data": {
      "text/plain": [
       "3"
      ]
     },
     "execution_count": 6,
     "metadata": {},
     "output_type": "execute_result"
    }
   ],
   "source": [
    "i = np.argmax(np.max(A, axis=1) - np.min(A, axis=1))\n",
    "i"
   ]
  },
  {
   "cell_type": "markdown",
   "metadata": {},
   "source": [
    "# Задание 2.4 (7 баллов)\n",
    "\n",
    "Сгенерируйте массив той же размерности, что и `A`, но в котором каждый элемент заменен на его порядковый номер (начиная с 1) в отсортированном по возрастанию массиве из элементов `A`\n",
    "\n",
    "Если `A` выглядит так:\n",
    "$$\n",
    "\\begin{pmatrix}\n",
    "12 & 14\\\\\n",
    "1 & 2\n",
    "\\end{pmatrix}\n",
    "$$\n",
    "то результат должен быть\n",
    "$$\n",
    "\\begin{pmatrix}\n",
    "3 & 4\\\\\n",
    "1 & 2\n",
    "\\end{pmatrix}\n",
    "$$\n",
    "\n",
    "*Tip: рассмотрите возможность неоднократного применения [argsort()](https://numpy.org/doc/stable/reference/generated/numpy.ndarray.argsort.html)*"
   ]
  },
  {
   "cell_type": "code",
   "execution_count": 7,
   "metadata": {},
   "outputs": [
    {
     "data": {
      "text/plain": [
       "array([[9220, 1041, 2203, ..., 3391, 4067, 6374],\n",
       "       [9420,  979, 4704, ...,  449, 2440, 6754],\n",
       "       [4324, 7338, 3143, ..., 8876,  512, 4642],\n",
       "       ...,\n",
       "       [4496, 8921, 5281, ..., 6194, 6442, 9133],\n",
       "       [8091, 9975, 1504, ..., 5677, 7324, 2903],\n",
       "       [7330, 9552, 6819, ..., 1430, 3942,  766]])"
      ]
     },
     "execution_count": 7,
     "metadata": {},
     "output_type": "execute_result"
    }
   ],
   "source": [
    "D = np.argsort(A.reshape(1, len(A)*len(A[0]))).reshape(len(A),len(A[0])) + 1\n",
    "D"
   ]
  },
  {
   "cell_type": "markdown",
   "metadata": {},
   "source": [
    "# Задание 2.5 (2 балла)\n",
    "\n",
    "Примените $\\min-\\max$ - нормализацию к строкам массива `A`. То есть нужно получить новый массив, в каждой строке которого максимальный элемент равен $1$, минимальный - $0$. "
   ]
  },
  {
   "cell_type": "code",
   "execution_count": 8,
   "metadata": {},
   "outputs": [
    {
     "data": {
      "text/plain": [
       "array([[0.58333333, 0.63095238, 0.86904762, ..., 0.55952381, 0.13095238,\n",
       "        0.96428571],\n",
       "       [1.02380952, 0.80952381, 0.60714286, ..., 0.55952381, 1.10714286,\n",
       "        0.98809524],\n",
       "       [0.27380952, 0.55952381, 0.70238095, ..., 1.11904762, 0.08333333,\n",
       "        0.96428571],\n",
       "       ...,\n",
       "       [0.        , 0.85714286, 0.27380952, ..., 0.47619048, 0.51190476,\n",
       "        0.9047619 ],\n",
       "       [0.30952381, 0.33333333, 0.3452381 , ..., 0.76190476, 0.58333333,\n",
       "        1.1547619 ],\n",
       "       [0.78571429, 0.22619048, 0.42857143, ..., 0.17857143, 0.32142857,\n",
       "        0.47619048]])"
      ]
     },
     "execution_count": 8,
     "metadata": {},
     "output_type": "execute_result"
    }
   ],
   "source": [
    "E = (A - A.min(axis=1)[:1]) / (A.max(axis=1)[:1] - A.min(axis=1)[:1])\n",
    "E"
   ]
  },
  {
   "cell_type": "markdown",
   "metadata": {},
   "source": [
    "# Задание 2.6 (2 балла)\n",
    "\n",
    "Сгенерируйте новый трехмерный массив, размерности $10 \\times 200 \\times 50$. Подмассивы по нулевой оси должны состоять из элементов `A`, умноженных на $1 - 10$ соответственно"
   ]
  },
  {
   "cell_type": "code",
   "execution_count": 9,
   "metadata": {},
   "outputs": [
    {
     "data": {
      "text/plain": [
       "array([[[ 49,  53,  73, ...,  47,  11,  81],\n",
       "        [ 86,  68,  51, ...,  47,  93,  83],\n",
       "        [ 23,  47,  59, ...,  94,   7,  81],\n",
       "        ...,\n",
       "        [  0,  72,  23, ...,  40,  43,  76],\n",
       "        [ 26,  28,  29, ...,  64,  49,  97],\n",
       "        [ 66,  19,  36, ...,  15,  27,  40]],\n",
       "\n",
       "       [[ 98, 106, 146, ...,  94,  22, 162],\n",
       "        [172, 136, 102, ...,  94, 186, 166],\n",
       "        [ 46,  94, 118, ..., 188,  14, 162],\n",
       "        ...,\n",
       "        [  0, 144,  46, ...,  80,  86, 152],\n",
       "        [ 52,  56,  58, ..., 128,  98, 194],\n",
       "        [132,  38,  72, ...,  30,  54,  80]],\n",
       "\n",
       "       [[147, 159, 219, ..., 141,  33, 243],\n",
       "        [258, 204, 153, ..., 141, 279, 249],\n",
       "        [ 69, 141, 177, ..., 282,  21, 243],\n",
       "        ...,\n",
       "        [  0, 216,  69, ..., 120, 129, 228],\n",
       "        [ 78,  84,  87, ..., 192, 147, 291],\n",
       "        [198,  57, 108, ...,  45,  81, 120]],\n",
       "\n",
       "       ...,\n",
       "\n",
       "       [[392, 424, 584, ..., 376,  88, 648],\n",
       "        [688, 544, 408, ..., 376, 744, 664],\n",
       "        [184, 376, 472, ..., 752,  56, 648],\n",
       "        ...,\n",
       "        [  0, 576, 184, ..., 320, 344, 608],\n",
       "        [208, 224, 232, ..., 512, 392, 776],\n",
       "        [528, 152, 288, ..., 120, 216, 320]],\n",
       "\n",
       "       [[441, 477, 657, ..., 423,  99, 729],\n",
       "        [774, 612, 459, ..., 423, 837, 747],\n",
       "        [207, 423, 531, ..., 846,  63, 729],\n",
       "        ...,\n",
       "        [  0, 648, 207, ..., 360, 387, 684],\n",
       "        [234, 252, 261, ..., 576, 441, 873],\n",
       "        [594, 171, 324, ..., 135, 243, 360]],\n",
       "\n",
       "       [[490, 530, 730, ..., 470, 110, 810],\n",
       "        [860, 680, 510, ..., 470, 930, 830],\n",
       "        [230, 470, 590, ..., 940,  70, 810],\n",
       "        ...,\n",
       "        [  0, 720, 230, ..., 400, 430, 760],\n",
       "        [260, 280, 290, ..., 640, 490, 970],\n",
       "        [660, 190, 360, ..., 150, 270, 400]]])"
      ]
     },
     "execution_count": 9,
     "metadata": {},
     "output_type": "execute_result"
    }
   ],
   "source": [
    "c = np.arange(1, 11).reshape((-1, 1, 1))   # shape: (10, 1, 1)\n",
    "A * c   # shape: (200, 50) * (10, 1, 1) = (1, 200, 50) * (10, 1, 1) = (10, 200, 50)"
   ]
  },
  {
   "cell_type": "markdown",
   "metadata": {},
   "source": [
    "# Задание 2.7 (2 балла)\n",
    "\n",
    "Создайте новый массив, такой же размерности, как и `A`, в котором сначала сгруппированы четные столбцы `A`, потом  нечетные. Используйте [np.concat()](https://numpy.org/doc/stable/reference/generated/numpy.concatenate.html) "
   ]
  },
  {
   "cell_type": "code",
   "execution_count": 10,
   "metadata": {},
   "outputs": [
    {
     "data": {
      "text/plain": [
       "array([[49, 73, 67, ..., 66, 47, 81],\n",
       "       [86, 51,  6, ..., 19, 47, 83],\n",
       "       [23, 59, 21, ..., 97, 94, 81],\n",
       "       ...,\n",
       "       [ 0, 23, 66, ..., 90, 40, 76],\n",
       "       [26, 29, 71, ..., 87, 64, 97],\n",
       "       [66, 36, 61, ..., 31, 15, 40]])"
      ]
     },
     "execution_count": 10,
     "metadata": {},
     "output_type": "execute_result"
    }
   ],
   "source": [
    "a1 = A[:,1::2]\n",
    "a1\n",
    "a2 = A[:,0::2]\n",
    "F = np.concatenate((a2, a1), axis=1)\n",
    "F"
   ]
  },
  {
   "cell_type": "markdown",
   "metadata": {},
   "source": [
    "# Задание 2.8 (2 балла)\n",
    "\n",
    "Посчитайте количество строк массива `A`, в который все элементы больше 5. Используйте [np.all()](https://numpy.org/doc/stable/reference/generated/numpy.all.html) "
   ]
  },
  {
   "cell_type": "code",
   "execution_count": 11,
   "metadata": {},
   "outputs": [
    {
     "data": {
      "text/plain": [
       "10"
      ]
     },
     "execution_count": 11,
     "metadata": {},
     "output_type": "execute_result"
    }
   ],
   "source": [
    "len(A[np.all(A > 5, axis=1)])"
   ]
  },
  {
   "cell_type": "markdown",
   "metadata": {},
   "source": [
    "# Задание 2.9 (2 балла)\n",
    "\n",
    "Поделите массив `A` горизонтально на 10 частей и создайте новый массив размерности $20 \\times 50$, который является средним этих частей. Используйте [np.split()](https://numpy.org/doc/stable/reference/generated/numpy.split.html)"
   ]
  },
  {
   "cell_type": "code",
   "execution_count": 12,
   "metadata": {},
   "outputs": [
    {
     "data": {
      "text/plain": [
       "array([[42.8, 44.9, 66. , 51.8, 42.9, 47.7, 36.2, 55. , 47. , 50.2, 39.5,\n",
       "        55. , 41.6, 39.8, 48.6, 45.5, 63.9, 42.5, 49.8, 67.6, 53.6, 49.2,\n",
       "        47.3, 42.6, 58.8, 52.2, 43.4, 59.7, 47. , 39.9, 41.4, 45.6, 45. ,\n",
       "        47.2, 42.3, 51.8, 61.1, 52.3, 50. , 46.6, 37.2, 48.5, 52.6, 38. ,\n",
       "        33.9, 55.3, 53.9, 38.9, 43. , 63.6],\n",
       "       [66.5, 60.5, 51.5, 37.4, 50.7, 30.5, 48.5, 45.3, 59.6, 59.9, 48.5,\n",
       "        27.8, 50.7, 38.7, 52.7, 68. , 28.8, 54.5, 47. , 48.2, 60.9, 73.2,\n",
       "        61.8, 56.3, 43.2, 55.3, 41.7, 45.8, 46.5, 40.8, 62.5, 42.2, 45.9,\n",
       "        36.1, 41.9, 42.1, 51.7, 48.8, 53.4, 57.1, 62.8, 63.8, 54.2, 58.1,\n",
       "        52.7, 51.9, 37.7, 54.8, 58.1, 46.9],\n",
       "       [71.8, 37. , 48.8, 31.5, 34.1, 54.7, 48.2, 54.6, 53.5, 43. , 38. ,\n",
       "        51.8, 47.2, 47.9, 28.9, 44.7, 55.5, 48.3, 58.5, 41.9, 52.2, 54.6,\n",
       "        51.4, 53.8, 53.8, 34.7, 64.5, 41.8, 41.2, 48.3, 50.7, 66.7, 68. ,\n",
       "        51.7, 47.2, 49.9, 46. , 45.5, 39.4, 49.5, 38.7, 54.4, 33.6, 56.5,\n",
       "        50.9, 49.9, 53.5, 39.9, 48.6, 52.3],\n",
       "       [54.9, 49.8, 42.7, 38.1, 41.4, 46.5, 62.9, 47.5, 55.7, 27.6, 33.5,\n",
       "        33.9, 49.2, 48.6, 58. , 63.6, 36.6, 65.7, 54.5, 66.7, 37.9, 61.2,\n",
       "        49.6, 41.6, 40.9, 62.3, 47.1, 58.3, 61.2, 34.2, 48.8, 57.4, 52. ,\n",
       "        38.5, 58.8, 70.9, 49.1, 40.7, 38.3, 41. , 66.3, 53.9, 48.8, 57.9,\n",
       "        63.2, 48.7, 42.6, 39.9, 50. , 61.9],\n",
       "       [39.9, 40.5, 53.5, 53.1, 47.9, 41.3, 58.6, 49.8, 49.9, 38.9, 50.5,\n",
       "        59.8, 45.7, 26.3, 59.4, 35.5, 44.2, 41.7, 47.7, 36.2, 35.1, 63.7,\n",
       "        45.1, 51.8, 46.7, 50.4, 49.9, 68.2, 39.4, 52. , 46.4, 49.5, 38.7,\n",
       "        36. , 64.1, 59.7, 61.8, 72.2, 57.6, 37.9, 46.9, 35.1, 54.1, 26.6,\n",
       "        57.9, 43.6, 58.1, 46. , 70.7, 60.7],\n",
       "       [38.9, 48.7, 34.6, 40.1, 32.7, 49.2, 46.5, 53. , 39.4, 31.2, 41.5,\n",
       "        49.6, 55.2, 56.4, 31.6, 37.2, 55.4, 65.1, 62.7, 44.1, 36.5, 40.2,\n",
       "        38.1, 55.1, 49.9, 41.4, 64.2, 48. , 35.9, 44.5, 49.3, 59. , 43.7,\n",
       "        53. , 59.1, 58.4, 47.1, 43.9, 38.8, 42.1, 36. , 56.9, 48.1, 46.6,\n",
       "        49.7, 55.7, 58.3, 55.6, 53.3, 49.3],\n",
       "       [41.9, 57.9, 56.7, 40.9, 31.6, 44.7, 56. , 45.4, 43.8, 31. , 33.8,\n",
       "        50.9, 55.8, 49.4, 42.1, 51.8, 63.3, 41.7, 55.2, 46. , 42.2, 41.6,\n",
       "        34. , 41.3, 55.1, 56.8, 34.1, 41.3, 44.5, 62.7, 54.9, 42.3, 57.7,\n",
       "        61.7, 46.7, 47.2, 38. , 43.1, 41. , 58. , 50.9, 67.3, 48.4, 33.5,\n",
       "        50.1, 53.6, 56.4, 61.2, 47.1, 61.1],\n",
       "       [38.1, 60.8, 37.3, 53.4, 34.4, 57.1, 40.2, 33.5, 35.1, 55.8, 48.4,\n",
       "        44.8, 53.5, 42.5, 36.5, 42.7, 51.4, 44.3, 56.4, 46.1, 43.3, 41.3,\n",
       "        42.2, 55.2, 39.6, 44.1, 44.5, 56.7, 62.9, 61.2, 49.7, 49.8, 42.9,\n",
       "        61.1, 34.8, 49. , 52.8, 57.6, 40. , 60. , 39. , 45.7, 59.2, 61.6,\n",
       "        57.3, 61.3, 53.2, 45.6, 39. , 55.4],\n",
       "       [45.9, 52.4, 41.2, 39.8, 45.9, 44. , 53.6, 54.3, 40.7, 67.1, 54.5,\n",
       "        43.8, 44.7, 55.3, 32.8, 33. , 53.2, 48.4, 50.9, 52.6, 42.6, 43.3,\n",
       "        50.6, 30.3, 51. , 59. , 55.2, 55. , 53.1, 55.5, 41.3, 54.2, 47.2,\n",
       "        58.7, 49.2, 49.4, 32.5, 56.4, 46.3, 33.6, 70.5, 47.1, 41.4, 46.7,\n",
       "        25. , 65.7, 50.4, 46.8, 37.1, 54.5],\n",
       "       [47.1, 60.8, 55.4, 47.8, 48.5, 47.4, 48.6, 52.6, 47.6, 55.8, 33.5,\n",
       "        51.9, 49.9, 37.6, 38.8, 31. , 56.2, 43.8, 48.2, 50.9, 67.2, 44.6,\n",
       "        69.2, 45.3, 34.4, 42.7, 58.9, 61. , 64.9, 59.8, 43.6, 50.4, 49. ,\n",
       "        65.5, 42.9, 65.6, 54.4, 31.5, 44.2, 49.9, 50.6, 36.8, 38.8, 50. ,\n",
       "        36.9, 50.2, 52. , 68.5, 56.9, 41.5],\n",
       "       [27.8, 28.3, 43.1, 41.8, 65.2, 44.4, 63.8, 42.8, 58.7, 47.1, 62.2,\n",
       "        41.1, 47.7, 46.2, 48.2, 47.3, 56.5, 40.9, 71. , 49.9, 43.9, 52.7,\n",
       "        66.9, 54.8, 45.9, 26.3, 51.4, 66.2, 48.5, 54.2, 44.9, 47.5, 49.9,\n",
       "        41.2, 49.9, 43.2, 53.8, 57.5, 54. , 38.4, 57.7, 40.6, 46.7, 39.6,\n",
       "        52.1, 57. , 38. , 59.5, 54.3, 58.6],\n",
       "       [52.5, 50.8, 51.7, 63.7, 48.4, 45. , 64.8, 42.5, 60.5, 43.8, 46.5,\n",
       "        60.3, 44.1, 57.9, 50.9, 30.1, 56.1, 58.9, 54.8, 59.2, 45.9, 73.8,\n",
       "        28.3, 65.9, 47.9, 49.6, 46.8, 61.2, 53.4, 71.8, 41.9, 55.3, 55.7,\n",
       "        52.4, 41. , 42. , 60.7, 28.8, 45.2, 53.8, 53.8, 47.6, 54.2, 64.5,\n",
       "        62.1, 56. , 70.4, 45.9, 56.5, 70.5],\n",
       "       [43.6, 42. , 49.3, 28.9, 41.8, 41.4, 42.5, 52.7, 38.4, 52.7, 47.1,\n",
       "        41. , 68.4, 57.5, 44.2, 52.3, 41. , 43.6, 65. , 54.1, 37.3, 52.5,\n",
       "        55.6, 58.1, 47.6, 61.3, 50.4, 53.7, 35. , 64. , 53.4, 56.2, 63.7,\n",
       "        53.9, 42.3, 50.9, 61.8, 60.1, 60.2, 61.3, 60.2, 48.6, 39.7, 56.1,\n",
       "        47.5, 50.2, 41.6, 51.7, 59.2, 48.2],\n",
       "       [48.1, 49.2, 49.4, 64.5, 40.7, 64.3, 56.8, 60. , 67.5, 57.9, 64.1,\n",
       "        50. , 58.3, 55.2, 47.6, 51.1, 44.4, 69.4, 66.2, 35.9, 32.8, 61.4,\n",
       "        50.4, 40.7, 42.4, 56.3, 46.6, 42.9, 51. , 60.3, 56.7, 50.1, 40.4,\n",
       "        43.1, 60.4, 60.1, 62.8, 41. , 61.6, 50. , 46.4, 57.8, 59. , 61. ,\n",
       "        47.2, 41.8, 54.2, 57.9, 68.2, 44.4],\n",
       "       [42.9, 56.7, 50.7, 42. , 48.7, 45.7, 60. , 42.5, 45. , 47.3, 55. ,\n",
       "        55.3, 36.5, 52.4, 41.3, 51.2, 47.8, 55.2, 44.3, 60.2, 42.8, 45.8,\n",
       "        45.8, 51.2, 47.9, 50.5, 45.7, 42.9, 38.2, 57.9, 53.2, 60.5, 42.3,\n",
       "        46.9, 70. , 46.1, 34.5, 49.1, 45.9, 47.5, 42.1, 50.9, 47.8, 58.6,\n",
       "        42.1, 50.7, 42.6, 53.5, 39.3, 47.3],\n",
       "       [53.5, 48.6, 44.3, 46.3, 62.2, 44. , 41.9, 65.3, 32.2, 45.4, 34.4,\n",
       "        39.4, 54.5, 50. , 60.2, 58.9, 57.2, 54. , 56.6, 43. , 65.5, 45.1,\n",
       "        69.6, 60.8, 41.9, 53.5, 45.6, 55.4, 43.3, 49.1, 64.4, 53.7, 46.9,\n",
       "        36.4, 42.4, 55.7, 36.6, 32.8, 58.7, 56.7, 66.8, 57.1, 65.1, 51.9,\n",
       "        50.2, 64.7, 47.2, 62.1, 38.3, 28.1],\n",
       "       [54.1, 53.5, 54.3, 46.8, 38.8, 40. , 47.6, 52.5, 56.9, 43.8, 54.7,\n",
       "        58.6, 44.4, 53.6, 57.1, 45.3, 54.5, 60.6, 49.6, 52.8, 69.3, 68.3,\n",
       "        55.1, 49.3, 50.5, 48.5, 58.7, 63.1, 55. , 54.9, 62.3, 50.9, 42.9,\n",
       "        53.6, 62.9, 53.2, 52.4, 60.9, 58.6, 44.7, 56.5, 52.3, 59.6, 50.6,\n",
       "        51.5, 46.4, 42.6, 39.3, 48.6, 53.5],\n",
       "       [43.1, 67. , 52.3, 60.6, 39.3, 53.5, 54. , 64.9, 47.4, 65.6, 52.2,\n",
       "        41.8, 48.9, 63. , 61.4, 37.5, 61.4, 49.7, 52.4, 40.4, 53.5, 38.6,\n",
       "        59.6, 41.8, 62.3, 55.5, 48.5, 55.3, 46.3, 48.8, 43.4, 52.1, 36.7,\n",
       "        46. , 60.9, 57.4, 40. , 44.8, 70.9, 55. , 49.5, 38.8, 46.9, 40.8,\n",
       "        42.9, 52.1, 60.3, 48.4, 49.3, 41.7],\n",
       "       [55.1, 49.8, 47.6, 65.6, 46.1, 52. , 52.3, 17.4, 50.1, 55.7, 40.6,\n",
       "        32. , 46.1, 49. , 56.9, 49.9, 61.9, 47. , 33.7, 43.5, 49.6, 56.1,\n",
       "        32. , 48.9, 43.3, 64.4, 39. , 70.4, 44.1, 42.9, 49.6, 56.4, 44.9,\n",
       "        61.7, 44.6, 51.8, 63.1, 42.5, 56.5, 50.4, 43.4, 75.3, 53.4, 47.1,\n",
       "        32.7, 36.7, 56.9, 38.7, 59.3, 47.7],\n",
       "       [35. , 56.4, 33. , 48.9, 60.1, 61.4, 39.3, 50.9, 58. , 43.1, 58.8,\n",
       "        58.3, 45.9, 43.3, 43.9, 46. , 36.3, 32.6, 54.8, 43.5, 24.6, 33.9,\n",
       "        34.6, 42.9, 50.4, 28.5, 40.6, 38.5, 59.8, 47.2, 53.9, 45. , 49. ,\n",
       "        49.5, 37.9, 45.9, 48.7, 43.2, 46.2, 39.2, 54.4, 35.8, 58.3, 47.3,\n",
       "        55.3, 60.4, 49.9, 47. , 51.2, 47.2]])"
      ]
     },
     "execution_count": 12,
     "metadata": {},
     "output_type": "execute_result"
    }
   ],
   "source": [
    "np.mean(np.split(A, 10), axis=0)"
   ]
  },
  {
   "cell_type": "markdown",
   "metadata": {},
   "source": [
    "# Задание 2.10 (4 балла)\n",
    "\n",
    "\"Разверните\" массив `A` в одномерный массив. Оставьте в нём только уникальные элементы в том же порядке, в котором они встречаются в массиве. Используйте [np.unique()](https://numpy.org/doc/stable/reference/generated/numpy.unique.html)"
   ]
  },
  {
   "cell_type": "code",
   "execution_count": 13,
   "metadata": {},
   "outputs": [
    {
     "data": {
      "text/plain": [
       "array([49, 53, 73, 63, 67, 27, 45, 19, 47, 68,  8, 32, 84, 14, 12, 31, 62,\n",
       "       20, 61,  3, 24, 23,  1, 35, 76, 44,  6, 50,  7, 80, 55,  0, 74, 60,\n",
       "       66, 81, 11, 86, 51, 28, 54, 42, 65, 46, 52, 92, 29, 33, 64, 99, 41,\n",
       "       40, 16, 79, 70, 57, 82, 26, 95, 96, 91, 15, 93, 83, 59, 21, 48, 37,\n",
       "       77,  9, 72, 89, 69,  2, 38, 97, 94, 87, 13, 17, 78, 85,  4, 18, 75,\n",
       "       98, 56, 36, 34, 71, 22, 39, 25,  5, 90, 88, 10, 30, 58, 43])"
      ]
     },
     "execution_count": 13,
     "metadata": {},
     "output_type": "execute_result"
    }
   ],
   "source": [
    "_, ind = np.unique(A, return_index=True)\n",
    "J = A.reshape((1, len(A) * len(A[0])))\n",
    "J[0][np.sort(ind)]  "
   ]
  },
  {
   "cell_type": "markdown",
   "metadata": {},
   "source": [
    "# Задание 2.11 (3 балла)\n",
    "\n",
    "Создайте одномерный массив размерности $200$, в котором каждый элемент - евклидово расстояние между соответствующей строкой `A` и \"средней\" строкой `A`"
   ]
  },
  {
   "cell_type": "code",
   "execution_count": 14,
   "metadata": {},
   "outputs": [
    {
     "data": {
      "text/plain": [
       "array([191.86474833, 205.455644  , 190.2851325 , 215.73039111,\n",
       "       213.90538013, 198.0246996 , 192.68923595, 222.08552778,\n",
       "       213.51068275, 217.80344729, 213.05987809, 213.20373273,\n",
       "       185.89258094, 192.62492479, 190.86545431, 192.01273825,\n",
       "       194.51912926, 210.54484475, 233.28172164, 203.57234992,\n",
       "       224.41225824, 210.88473546, 198.75497893, 192.43461656,\n",
       "       185.1355764 , 211.82013986, 199.13423023, 197.83172559,\n",
       "       214.77446694, 216.02743263, 187.64943818, 194.32048695,\n",
       "       209.59733216, 196.76748118, 192.15046617, 227.14354855,\n",
       "       225.71398196, 193.0958613 , 179.6059065 , 214.37208692,\n",
       "       203.4342932 , 198.59189724, 220.86989756, 182.47904441,\n",
       "       186.57127767, 183.32130714, 186.92603256, 196.55437327,\n",
       "       195.15240621, 228.79410318, 187.84768205, 223.52165812,\n",
       "       177.32256385, 209.87463317, 204.08750978, 191.1995859 ,\n",
       "       178.64300056, 189.86253356, 212.09281376, 199.85320025,\n",
       "       207.21959765, 185.28672821, 210.57998872, 198.01735189,\n",
       "       206.85026384, 180.22414281, 199.93631899, 213.93714416,\n",
       "       189.0603122 , 207.68483731, 208.5708792 , 205.0465841 ,\n",
       "       193.70310181, 209.94859287, 183.36057823, 180.29825748,\n",
       "       216.45468729, 221.09430488, 186.78287301, 216.8134259 ,\n",
       "       217.36807873, 195.11366341, 225.76578937, 211.45288281,\n",
       "       225.72366214, 178.64370028, 211.39948356, 188.95182362,\n",
       "       197.77611496, 227.57320064, 221.32840227, 220.68903835,\n",
       "       222.25269773, 204.62177707, 186.55278516, 212.23171688,\n",
       "       216.39586791, 197.91905328, 207.34264311, 209.34486297,\n",
       "       214.66597693, 189.34740994, 206.18099246, 186.47791196,\n",
       "       206.38508098, 204.16096995, 215.59789343, 187.65026419,\n",
       "       183.71004777, 198.80407855, 194.78147153, 202.46284017,\n",
       "       210.00148011, 214.25842259, 196.35208593, 205.42928625,\n",
       "       189.63826526, 207.76674818, 216.05640849, 198.63849488,\n",
       "       188.16873186, 188.43444921, 192.55210113, 206.66398247,\n",
       "       205.59693979, 193.97966814, 200.09208293, 222.57962991,\n",
       "       203.30890696, 213.65304035, 190.44033619, 206.50654142,\n",
       "       206.05242452, 210.68438872, 216.14139273, 200.21711128,\n",
       "       205.95502337, 189.63713152, 190.9678812 , 210.54019011,\n",
       "       184.88775419, 219.79008542, 200.44820191, 205.68743678,\n",
       "       187.03181989, 212.92243106, 223.31314706, 222.48033992,\n",
       "       208.86579818, 203.68959632, 195.72338044, 205.8805519 ,\n",
       "       211.07859117, 213.66904701, 226.08943286, 194.46030868,\n",
       "       223.65095942, 198.05896003, 212.47990881, 211.90934772,\n",
       "       205.09537208, 208.08962408, 229.40662948, 194.75749446,\n",
       "       211.07207691, 214.23699879, 183.38413685, 185.35434079,\n",
       "       195.39022916, 201.17639437, 190.26463584, 195.3432918 ,\n",
       "       218.2327236 , 193.89706457, 207.22312045, 190.72365257,\n",
       "       216.33885839, 218.56077336, 189.83643394, 197.82730259,\n",
       "       209.93570837, 220.36604015, 209.80608106, 185.1697104 ,\n",
       "       209.19907182, 192.14055181, 208.36386839, 205.7259382 ,\n",
       "       222.18229374, 207.29983514, 211.74676302, 207.37049368,\n",
       "       177.93060909, 208.88267437, 196.8274159 , 207.10292526,\n",
       "       230.53208378, 190.09056171, 210.60487091, 183.50670737])"
      ]
     },
     "execution_count": 14,
     "metadata": {},
     "output_type": "execute_result"
    }
   ],
   "source": [
    "np.linalg.norm(A - np.mean(A, axis=0), axis=1)"
   ]
  },
  {
   "cell_type": "markdown",
   "metadata": {},
   "source": [
    "# Задание 2.12 (2 балла)\n",
    "\n",
    "Создайте новый массив, который состоит из элементов `A`, измененных по следующим правилам:\n",
    "- если элемент меньше $50$, то он умножается на $2$\n",
    "- в противном случае он умножается на $3$\n",
    "\n",
    "Используйте [np.where()](https://numpy.org/doc/stable/reference/generated/numpy.where.html)"
   ]
  },
  {
   "cell_type": "code",
   "execution_count": 15,
   "metadata": {},
   "outputs": [
    {
     "data": {
      "text/plain": [
       "array([[ 98, 159, 219, ...,  94,  22, 243],\n",
       "       [258, 204, 153, ...,  94, 279, 249],\n",
       "       [ 46,  94, 177, ..., 282,  14, 243],\n",
       "       ...,\n",
       "       [  0, 216,  46, ...,  80,  86, 228],\n",
       "       [ 52,  56,  58, ..., 192,  98, 291],\n",
       "       [198,  38,  72, ...,  30,  54,  80]])"
      ]
     },
     "execution_count": 15,
     "metadata": {},
     "output_type": "execute_result"
    }
   ],
   "source": [
    "np.where(A < 50, 2 * A, 3 * A)"
   ]
  },
  {
   "cell_type": "markdown",
   "metadata": {},
   "source": [
    "# Задание 2.13 (7 баллов)\n",
    "\n",
    "Разверните массив `A` в одномерный массив. Создайте три новых массива, подсчитав скользящие средние по окнам $3$, $5$, $10$. Найдите сумму этих массивов, выровнив из размерности нулями справа\n",
    "\n",
    "*Tip: реализуйте функцию, которая считает скользящее среднее. Используйте [np.cumsum()](https://numpy.org/doc/stable/reference/generated/numpy.cumsum.html) или [np.convolve()](https://numpy.org/doc/stable/reference/generated/numpy.convolve.html)*"
   ]
  },
  {
   "cell_type": "code",
   "execution_count": 16,
   "metadata": {},
   "outputs": [
    {
     "data": {
      "text/plain": [
       "array([170.43333333, 166.6       , 167.56666667, ...,  61.4       ,\n",
       "        28.66666667,  27.33333333])"
      ]
     },
     "execution_count": 16,
     "metadata": {},
     "output_type": "execute_result"
    }
   ],
   "source": [
    "def moving_average(arr:np.ndarray, window_size: int) -> np.ndarray:\n",
    "    return np.convolve(arr[0], np.ones(window_size) / window_size, mode='valid') \n",
    "    \n",
    "V = A.reshape((1, len(A) * len(A[0])))\n",
    "V3 = moving_average(V, 3)\n",
    "V5 = moving_average(V, 5)\n",
    "V10 = moving_average(V, 10)\n",
    "\n",
    "V5 = np.concatenate((V5,  np.zeros(V3.shape[0] - V5.shape[0])))\n",
    "V10 = np.concatenate((V10,  np.zeros(V3.shape[0] - V10.shape[0])))\n",
    "V3 + V5 + V10"
   ]
  },
  {
   "cell_type": "markdown",
   "metadata": {},
   "source": [
    "# Задание 2.14 (8 баллов)\n",
    "\n",
    "Постройте график функции $$f(x) = (5  \\sin(2x) - \\cos^2(x) - 1 + |x^3| - x^2) / (x^2 + 1)$$  \n",
    "\n",
    "и производной от этой функции.  Найдите минимум с помощью `scipy` и обозначьте его на графике. На этой же оси постройте графики скользящего среднего этой функции с окном $1$, $2$, $5$."
   ]
  },
  {
   "cell_type": "code",
   "execution_count": 17,
   "metadata": {},
   "outputs": [
    {
     "name": "stdout",
     "output_type": "stream",
     "text": [
      "Optimization terminated successfully.\n",
      "         Current function value: -4.882074\n",
      "         Iterations: 6\n",
      "         Function evaluations: 16\n",
      "         Gradient evaluations: 8\n"
     ]
    },
    {
     "data": {
      "image/png": "[encoded data removed]",
      "text/plain": [
       "<Figure size 640x480 with 1 Axes>"
      ]
     },
     "metadata": {},
     "output_type": "display_data"
    }
   ],
   "source": [
    "# Построй график функции $$f(x) = (5  \\sin(2x) - \\cos^2(x) - 1 + |x^3| - x^2) / (x^2 + 1)$$ и производной этой функции \n",
    "import numpy as np\n",
    "import scipy \n",
    "import matplotlib.pyplot as plt\n",
    "from scipy.misc import derivative\n",
    "from typing import Union, Callable\n",
    "\n",
    "\n",
    "def f(x: np.ndarray) -> np.ndarray:\n",
    "    return (5 * np.sin(2 * x) - np.cos(x) ** 2 - 1 + np.abs(x ** 3) - x ** 2) / (x ** 2 + 1)\n",
    "\n",
    "def df(f: Callable[[np.ndarray], np.ndarray], x: np.ndarray) -> np.ndarray:\n",
    "    return derivative(f, x, dx=1e-6)\n",
    "\n",
    "\n",
    "x = np.linspace(-10, 10, 200)  # (-10, 10, 1000)\n",
    "y = f(x) ## (5 * np.sin(2 * x) - np.cos(x) ** 2 - 1 + np.abs(x ** 3) - x ** 2) / (x ** 2 + 1)\n",
    "dy = df(f, x)\n",
    "\n",
    "# print(y)\n",
    "\n",
    "plt.plot(x, y, label='f(x)')\n",
    "plt.plot(x, dy, label='f\\'(x)')\n",
    "\n",
    "min_f_p = scipy.optimize.fmin_bfgs(f, 0, full_output=True)\n",
    "x_min, y_min = min_f_p[0][0], min_f_p[1]\n",
    "plt.plot(x_min, y_min, '*', label='min ') \n",
    "\n",
    "Y = y.reshape((1, len(x)))\n",
    "m_a_1 = moving_average(Y, 1)\n",
    "m_a_2 = moving_average(Y, 2)\n",
    "m_a_5 = moving_average(Y, 5)\n",
    "\n",
    "plt.plot(x, m_a_1, label='f moving average 1')  # ?\n",
    "plt.plot(x[:len(m_a_2)], m_a_2, label='f moving average 2')\n",
    "plt.plot(x[:len(m_a_5)], m_a_5, label='f moving average 5')\n",
    "\n",
    "plt.legend()\n",
    "plt.show()"
   ]
  },
  {
   "cell_type": "markdown",
   "metadata": {},
   "source": [
    "# Задание 2.15 (10 баллов)\n",
    "\n",
    "Есть следующий алгоритм семплинирования, на вход функции подается вектор из целых положительных чисел и число семплов."
   ]
  },
  {
   "cell_type": "code",
   "execution_count": 18,
   "metadata": {},
   "outputs": [
    {
     "data": {
      "text/plain": [
       "[0, 0, 0, 0, 3]"
      ]
     },
     "execution_count": 18,
     "metadata": {},
     "output_type": "execute_result"
    }
   ],
   "source": [
    "from typing import List \n",
    "\n",
    "def sample(x: List[int], c: int) -> List[int]:\n",
    "    assert len(x) > 0\n",
    "    \n",
    "    s = np.sum(x)\n",
    "    res = []\n",
    "    for _ in range(c):\n",
    "        val = s * np.random.random()\n",
    "        cur, idx = 0, 0        \n",
    "        while cur + x[idx] <= val:\n",
    "            cur += x[idx]\n",
    "            idx += 1    \n",
    "        res.append(idx)\n",
    "    return res\n",
    "\n",
    "            \n",
    "sample([50, 3, 1, 7, 20], 5)   "
   ]
  },
  {
   "cell_type": "markdown",
   "metadata": {},
   "source": [
    "Реализуйте данный алгоритм более оптимальным способом на массивах `numpy`, без использования циклов. Проверьте корректность и идентичность алгоритмов семплирования с помощью статистических тестов."
   ]
  },
  {
   "cell_type": "code",
   "execution_count": 19,
   "metadata": {},
   "outputs": [
    {
     "data": {
      "text/plain": [
       "array([0, 4, 3, 0, 4])"
      ]
     },
     "execution_count": 19,
     "metadata": {},
     "output_type": "execute_result"
    }
   ],
   "source": [
    "def sample_np(x: np.ndarray, c: int) -> np.ndarray:\n",
    "    assert len(x) > 0\n",
    "    \n",
    "    s = np.sum(x)\n",
    "    val = s * np.random.random(size=c)\n",
    "    cur = np.cumsum(x)\n",
    "    idx = np.searchsorted(cur, val)\n",
    "    return idx\n",
    "\n",
    "sample_np(np.array([50, 3, 1, 7, 20]), 5)\n"
   ]
  },
  {
   "cell_type": "code",
   "execution_count": 20,
   "metadata": {},
   "outputs": [
    {
     "data": {
      "text/plain": [
       "array([ 7,  1, 20,  7, 20])"
      ]
     },
     "execution_count": 20,
     "metadata": {},
     "output_type": "execute_result"
    }
   ],
   "source": [
    "def sample_np2(x, n):\n",
    "    return np.random.choice(x, n, replace=True)\n",
    "\n",
    "sample_np2(np.array([50, 3, 1, 7, 20]), 5)\n"
   ]
  },
  {
   "cell_type": "markdown",
   "metadata": {},
   "source": [
    "# Задание 2.16 (5 баллов)\n",
    "\n",
    "Есть следующий алгоритм \"случайного блуждания\""
   ]
  },
  {
   "cell_type": "code",
   "execution_count": 21,
   "metadata": {},
   "outputs": [
    {
     "data": {
      "text/plain": [
       "1986"
      ]
     },
     "execution_count": 21,
     "metadata": {},
     "output_type": "execute_result"
    }
   ],
   "source": [
    "import random \n",
    "\n",
    "def walk(n: int):\n",
    "    cur_position = 0\n",
    "    for i in range(n):\n",
    "        cur_position += random.choice([-3, -1, 0, 2, 3])\n",
    "\n",
    "    return cur_position\n",
    "\n",
    "walk(10_000)"
   ]
  },
  {
   "cell_type": "markdown",
   "metadata": {},
   "source": [
    "Реализуйте более эффективную версию с помощью `numpy`, сравните производительность (используя, например, magic `timeit`). Воспользовавшись [kdeplot()](https://seaborn.pydata.org/generated/seaborn.kdeplot.html) или аналогами, постройте график распределения значений `walk(10_000)` на каком-то разумном числе запусков. "
   ]
  },
  {
   "cell_type": "code",
   "execution_count": 22,
   "metadata": {},
   "outputs": [],
   "source": [
    "import timeit "
   ]
  },
  {
   "cell_type": "code",
   "execution_count": 23,
   "metadata": {},
   "outputs": [
    {
     "data": {
      "text/plain": [
       "1965"
      ]
     },
     "execution_count": 23,
     "metadata": {},
     "output_type": "execute_result"
    }
   ],
   "source": [
    "def walk_np(n: int) -> int:\n",
    "    return np.sum(np.random.choice([-3, -1, 0, 2, 3], size=n))\n",
    "\n",
    "walk_np(10_000)"
   ]
  },
  {
   "cell_type": "code",
   "execution_count": 24,
   "metadata": {},
   "outputs": [
    {
     "name": "stdout",
     "output_type": "stream",
     "text": [
      "Function walk:  4.559789165999973\n",
      "Function walk_np:  0.20983620900369715\n"
     ]
    }
   ],
   "source": [
    "print(\"Function walk: \", timeit.timeit('walk(10000)', globals=globals(), number=1000))\n",
    "print(\"Function walk_np: \", timeit.timeit('walk_np(10000)', globals=globals(), number=1000))"
   ]
  },
  {
   "cell_type": "code",
   "execution_count": 25,
   "metadata": {},
   "outputs": [
    {
     "data": {
      "image/png": "[encoded data removed]",
      "text/plain": [
       "<Figure size 640x480 with 1 Axes>"
      ]
     },
     "metadata": {},
     "output_type": "display_data"
    }
   ],
   "source": [
    "walk_values = [walk(10000) for _ in range(1000)]\n",
    "walk_np_values = [walk_np(10000) for _ in range(1000)]\n",
    "sns.kdeplot(walk_values, label='walk')\n",
    "sns.kdeplot(walk_np_values, label='walk_np')\n",
    "plt.legend()\n",
    "plt.show()\n"
   ]
  },
  {
   "cell_type": "markdown",
   "metadata": {},
   "source": [
    "# Задание 2.17 (5 баллов)\n",
    "\n",
    "Имеется функция, которая проделывает достаточно странные манипуляции с массивом `numpy`"
   ]
  },
  {
   "cell_type": "code",
   "execution_count": 26,
   "metadata": {},
   "outputs": [
    {
     "data": {
      "text/plain": [
       "0.7377616066966667"
      ]
     },
     "execution_count": 26,
     "metadata": {},
     "output_type": "execute_result"
    }
   ],
   "source": [
    "import numpy.typing as npt\n",
    "\n",
    "def strange_conv(a: npt.NDArray[np.float64]) -> np.float64:\n",
    "    x = a.shape[0]\n",
    "    y = a.shape[1]\n",
    "\n",
    "    t = 1.\n",
    "    for y in range(y - 5):\n",
    "        for x in range(x - 3):\n",
    "            c = 1.5 * a[y+1, x+2] - a[y+5, x+3] * a[y, x] + 0.2 * a[y+4, x]\n",
    "            t = 0.2 * t + 0.8 * c\n",
    "\n",
    "    return t\n",
    "\n",
    "\n",
    "a = np.random.random((10000, 10000))\n",
    "strange_conv(a)\n"
   ]
  },
  {
   "cell_type": "markdown",
   "metadata": {},
   "source": [
    "Оптимизируйте данную функцию с помощью (2 на выбор):\n",
    "- [Numba](https://numba.pydata.org)\n",
    "- `Cython` (+5 баллов)\n",
    "- [Taichi](https://github.com/taichi-dev/taichi) (+5 баллов)\n",
    "- `Pythran `[[1]](https://pythran.readthedocs.io/en/latest/), [[2]](https://serge-sans-paille.github.io/pythran-stories/pythran-tutorial.html) (+2 балла)\n",
    "\n",
    "Сравните производительность."
   ]
  },
  {
   "cell_type": "code",
   "execution_count": 27,
   "metadata": {},
   "outputs": [],
   "source": [
    "# import numba \n",
    "\n"
   ]
  }
 ],
 "metadata": {
  "kernelspec": {
   "display_name": "Python 3.10.6 ('python-for-data-analysis')",
   "language": "python",
   "name": "python3"
  },
  "language_info": {
   "codemirror_mode": {
    "name": "ipython",
    "version": 3
   },
   "file_extension": ".py",
   "mimetype": "text/x-python",
   "name": "python",
   "nbconvert_exporter": "python",
   "pygments_lexer": "ipython3",
   "version": "3.10.6"
  },
  "orig_nbformat": 4,
  "vscode": {
   "interpreter": {
    "hash": "cdcb8b47a48146c8bfd997adddf099df095524100ba9341af35969a11f235150"
   }
  }
 },
 "nbformat": 4,
 "nbformat_minor": 2
}
