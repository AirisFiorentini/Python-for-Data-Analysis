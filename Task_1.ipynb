{
 "cells": [
  {
   "cell_type": "markdown",
   "metadata": {},
   "source": [
    "# Задание 1\n",
    "\n",
    "(**NB.** для запуска примеров кода нужен Python версии не ниже **3.10**, допускается использование других версий, в этом случае нужно самостоятельно избавиться от конструкции `match`).\n",
    "\n",
    "Есть следующий код для [автоматического дифференцирования](https://en.wikipedia.org/wiki/Automatic_differentiation), в котором используются особенности системы типов языка `Python`: "
   ]
  },
  {
   "cell_type": "code",
   "execution_count": 2,
   "metadata": {},
   "outputs": [],
   "source": [
    "import numpy as np"
   ]
  },
  {
   "cell_type": "code",
   "execution_count": 152,
   "metadata": {},
   "outputs": [],
   "source": [
    "from dataclasses import dataclass\n",
    "from typing import Union, Callable\n",
    "from numbers import Number\n",
    "\n",
    "@dataclass\n",
    "class Dual:\n",
    "    value: float\n",
    "    d: float\n",
    "\n",
    "    def __add__(self, other: Union[\"Dual\", Number]) -> \"Dual\":\n",
    "         match other:\n",
    "            case Dual(o_value, o_d):\n",
    "                return Dual(self.value + o_value, self.d + o_d)\n",
    "            case Number():\n",
    "                return Dual(float(other) + self.value, self.d)\n",
    "\n",
    "    def __mul__(self, other: Union[\"Dual\", Number]) -> \"Dual\":\n",
    "         match other:\n",
    "            case Dual(o_value, o_d):\n",
    "                return Dual(self.value * o_value, self.value * o_d + self.d * o_value)\n",
    "            case Number():\n",
    "                return Dual(float(other) * self.value, float(other) * self.d)    \n",
    "\n",
    "    __rmul__ = __mul__  # https://docs.python.org/3/reference/datamodel.html#object.__mul__\n",
    "    __radd__ = __add__  # https://docs.python.org/3/reference/datamodel.html#object.__radd__\n",
    "    \n",
    "    def __sub__(self, other: Union[\"Dual\", Number]) -> \"Dual\":\n",
    "         match other:\n",
    "            case Dual(o_value, o_d):\n",
    "                return Dual(self.value - o_value, self.d - o_d)\n",
    "            case Number():\n",
    "                return Dual(float(other) - self.value, self.d)\n",
    "                \n",
    "    \"\"\"Task 1.1\"\"\"\n",
    "    \"\"\" Called to implement the unary arithmetic operations (-, +, abs() and ~). \"\"\"\n",
    "    def __neg__(self) -> \"Dual\":  # unary arithmetic -\n",
    "        return -1 * self\n",
    "\n",
    "    def __pos__(self) -> \"Dual\":  # unary arithmetic +\n",
    "        return self\n",
    "\n",
    "    def __abs__(self) -> \"Dual\":  # abs()\n",
    "        if self.value != 0:\n",
    "            return Dual(abs(self.value), self.d * np.sign(self.value))\n",
    "        else:  # case value = 0\n",
    "            return Dual(0, 0)\n",
    "\n",
    "    #TODO: write invert method\n",
    "    \"\"\"Something strange\"\"\"\n",
    "    def __invert__(self) -> \"Dual\":  # unary arithmetic ~\n",
    "        return Dual(~self.value, -1 * self.d)  # Dual(-1*(self.value+1), -1*(self.d))\n",
    "\n",
    "    def __truediv__(self, other: Union[\"Dual\", Number]):  # div by zero! \n",
    "        match other:\n",
    "            case Dual(o_value, o_d):\n",
    "                if o_value == 0:\n",
    "                    raise ZeroDivisionError\n",
    "                else:\n",
    "                    return Dual(self.value / o_value, (self.d * o_value - self.value * o_d) / (o_value * o_value))\n",
    "            case Number():\n",
    "                if other == 0:\n",
    "                    raise ZeroDivisionError\n",
    "                else:\n",
    "                    return Dual(self.value / float(other), self.d / float(other))\n",
    "           \n",
    "\n",
    "    def __pow__(self, k: float) -> \"Dual\":  # for numbers only\n",
    "        if self.value != 0:\n",
    "            return Dual(self.value**k, self.d * k * self.value**(k - 1))\n",
    "        else:\n",
    "            raise ValueError\n",
    "    \n",
    "    # ???\n",
    "    def __rpow__(self, other: Union[\"Dual\", Number]) -> \"Dual\":\n",
    "        match other:\n",
    "            case Dual(o_value, o_d):\n",
    "                return Dual(self.value ** o_value, self.value ** o_value * (other * self.log()).d)\n",
    "            case Number():\n",
    "                    return Dual(float(other) ** self.value, float(other)**self.value * np.log(float(other)))\n",
    "                \n",
    "    # ???\n",
    "    def __rtruediv__(self, other: Union[\"Dual\", Number]) -> \"Dual\":\n",
    "        try:\n",
    "            match other:\n",
    "                case Dual(o_value, o_d):\n",
    "                    return Dual(self.value / o_value, (self.d * o_value - o_d * self.value) / (o_value * o_value))\n",
    "                case Number():\n",
    "                    return Dual(float(other) / self.value, -self.d * float(other) / (self.value * self.value))\n",
    "        except ZeroDivisionError:\n",
    "            print(\"Деление на ноль\")\n",
    "            exit(-1)\n",
    "\n",
    "    # ???\n",
    "    def __rsub__(self, other: Union[\"Dual\", Number]) -> \"Dual\":\n",
    "        match other:\n",
    "            case Dual(o_value, o_d):\n",
    "                return Dual(self.value - o_value, self.d - o_d)\n",
    "            case Number():\n",
    "                return Dual(float(other) - self.value, -self.d)\n",
    "    ##################################################     \n",
    "\n",
    "    \"\"\"Task 1.2\"\"\"\n",
    "    def exp(self) -> \"Dual\":\n",
    "        return Dual(np.exp(self.value), self.d * np.exp(self.value))\n",
    "\n",
    "    def cos(self) -> \"Dual\":\n",
    "        return Dual(np.cos(self.value), -self.d * np.sin(self.value))\n",
    "\n",
    "    def sin(self) -> \"Dual\":\n",
    "        return Dual(np.sin(self.value), self.d * np.cos(self.value))\n",
    "\n",
    "    def log(self) -> \"Dual\":\n",
    "        if self.value > 0:\n",
    "            return Dual(np.log(self.value), self.d / self.value)\n",
    "        else:\n",
    "            raise ValueError\n",
    "\n",
    "\n",
    "def diff_1(func: Callable[[float], float]) -> Callable[[float], float]:\n",
    "    return lambda x: func(Dual(x, 1.0)).d \n",
    "    \n",
    "\"\"\"Task 1.5\"\"\"\n",
    "# differentiation with 2 variables\n",
    "def diff_2(func: Callable[[float], float]) -> Callable[[float], float]:\n",
    "    return lambda x, y: [func(Dual(x, 1.0), Dual(y, 0.0)).d, func(Dual(x, 0.0), Dual(y, 1.0)).d]\n",
    "\n",
    "# differentiation with 3 variables\n",
    "def diff_3(func: Callable[[float], float]) -> Callable[[float], float]:\n",
    "    return lambda x, y, z: [func(Dual(x, 1.0), Dual(y, 0.0), Dual(z, 0.0)).d, func(Dual(x, 0.0), Dual(y, 1.0), Dual(z, 0.0)).d, func(Dual(x, 0.0), Dual(y, 0.0), Dual(z, 1.0))]\n",
    "\n",
    "# diff with several variables\n",
    "def diff(func: Callable[[float], float]) -> Callable[[float], float]:\n",
    "    def newfunc(*args):\n",
    "        answers = []\n",
    "        for j in range(0, len(args)):\n",
    "            ans = func(*[Dual(args[i], float(i==j)) for i in range(0, len(args))])\n",
    "            if type(ans) != Dual:\n",
    "                ans = 0\n",
    "            else:\n",
    "                ans = ans.d\n",
    "            answers.append(ans)\n",
    "        return answers\n",
    "    return newfunc"
   ]
  },
  {
   "cell_type": "markdown",
   "metadata": {},
   "source": [
    "Поддерживаются две операции - сложение и умножение. Применить можно так:"
   ]
  },
  {
   "cell_type": "code",
   "execution_count": 144,
   "metadata": {},
   "outputs": [
    {
     "data": {
      "text/plain": [
       "22.0"
      ]
     },
     "execution_count": 144,
     "metadata": {},
     "output_type": "execute_result"
    }
   ],
   "source": [
    "# Функция, которую будем дифференцировать\n",
    "def f(x: float) -> float:\n",
    "    return 5 * x * x + 2 * x + 2\n",
    "\n",
    "f_diff = diff_1(f)\n",
    "\n",
    "# значение производной в точке x = 2\n",
    "f_diff(2)"
   ]
  },
  {
   "cell_type": "markdown",
   "metadata": {},
   "source": [
    "## Задание 1.1 (5 баллов)\n",
    "\n",
    "Какие недостатки вы видите в данной реализации? Реализуйте поддержку (полностью самостоятельно или модифицируя приведенный код):\n",
    "- [унарных операций](https://docs.python.org/3/reference/datamodel.html#object.__neg__) \n",
    "- деления\n",
    "- возведения в степень\n",
    "\n",
    "Каким образом можно проверить корректность решения?  Реализуйте достаточный, по вашему мнению, набор тестов."
   ]
  },
  {
   "cell_type": "code",
   "execution_count": 27,
   "metadata": {},
   "outputs": [],
   "source": [
    "import unittest\n",
    "import pytest"
   ]
  },
  {
   "cell_type": "code",
   "execution_count": 41,
   "metadata": {},
   "outputs": [],
   "source": [
    "# unary arithmetic -\n",
    "assert -Dual(0, 1) == Dual(0, -1)\n",
    "assert -Dual(1, 0) == Dual(-1, 0)\n",
    "assert -Dual(2, -5) == Dual(-2, 5)\n",
    "assert -Dual(-2, 5) == Dual(2, -5)"
   ]
  },
  {
   "cell_type": "code",
   "execution_count": 42,
   "metadata": {},
   "outputs": [],
   "source": [
    "# unary arithmetic +\n",
    "assert +Dual(0, 1) == Dual(0, 1)\n",
    "assert +Dual(-3, -1) == Dual(-3, -1)"
   ]
  },
  {
   "cell_type": "code",
   "execution_count": 44,
   "metadata": {},
   "outputs": [],
   "source": [
    "# abs()\n",
    "assert abs(Dual(2, 1)) == Dual(2, 1)\n",
    "assert abs(Dual(-2, 1)) == Dual(2, -1)\n",
    "assert abs(Dual(-2, -2)) == Dual(2, 2)\n",
    "assert abs(Dual(0, 1)) == Dual(0, 0)\n",
    "assert abs(Dual(0, 0)) == Dual(0, 0)"
   ]
  },
  {
   "cell_type": "code",
   "execution_count": 68,
   "metadata": {},
   "outputs": [],
   "source": [
    "# unary arithmetic ~\n",
    "assert ~Dual(2, 1) == Dual(-3, -1)\n",
    "assert ~Dual(0, 1) == Dual(-1, -1)\n",
    "assert ~Dual(1, 1) == Dual(-2, -1)\n",
    "assert ~Dual(2, 2) == Dual(-3, -2)\n",
    "assert ~Dual(3, 3) == Dual(-4, -3)\n",
    "\n",
    "assert ~Dual(0, 0) == Dual(-1, 0)\n",
    "assert ~Dual(1, 0) == Dual(-2, 0)\n",
    "#unit test for invert method for Dual with negative value\n",
    "assert ~Dual(-2, 1) == Dual(1, -1)\n",
    "assert ~Dual(-1, 1) == Dual(0, -1)\n",
    "assert ~Dual(-2, 2) == Dual(1, -2)\n",
    "assert ~Dual(-3, 3) == Dual(2, -3)"
   ]
  },
  {
   "cell_type": "code",
   "execution_count": 79,
   "metadata": {},
   "outputs": [
    {
     "data": {
      "text/plain": [
       "Dual(value=1.0, d=0.0)"
      ]
     },
     "execution_count": 79,
     "metadata": {},
     "output_type": "execute_result"
    }
   ],
   "source": [
    "Dual(2, 1)/ Dual(2, 1)"
   ]
  },
  {
   "cell_type": "code",
   "execution_count": 92,
   "metadata": {},
   "outputs": [
    {
     "data": {
      "text/plain": [
       "Dual(value=-1.0, d=2.5)"
      ]
     },
     "execution_count": 92,
     "metadata": {},
     "output_type": "execute_result"
    }
   ],
   "source": [
    "Dual(-2, 3) / Dual(2, 2)"
   ]
  },
  {
   "cell_type": "code",
   "execution_count": 100,
   "metadata": {},
   "outputs": [],
   "source": [
    "# dev\n",
    "with pytest.raises(ZeroDivisionError):\n",
    "    Dual(5, 1) / 0\n",
    "with pytest.raises(ZeroDivisionError):\n",
    "    Dual(5, 1) / Dual(0,1)\n",
    "with pytest.raises(ZeroDivisionError):\n",
    "    Dual(0, 2) / Dual(0,1)\n",
    "    \n",
    "assert Dual(2, 1) / Dual(2, 1) == Dual(1, 0)\n",
    "assert Dual(2, 1) / Dual(2, 2) == Dual(1, -0.5)\n",
    "assert Dual(2, 2) / Dual(4, 1) == Dual(0.5, 0.375)\n",
    "\n",
    "assert Dual(2, -3) / Dual(2, 1) == Dual(1, -2)\n",
    "assert Dual(-2, 3) / Dual(2, 2) == Dual(-1, 2.5)\n",
    "assert Dual(2, 5) / Dual(-5, 2) == Dual(-0.4, -29/25)\n",
    "assert Dual(2, 4) / Dual(2, -1) == Dual(1, 2.5)\n",
    "assert Dual(-2, -4) / -2 == Dual(1, 2)"
   ]
  },
  {
   "cell_type": "code",
   "execution_count": 34,
   "metadata": {},
   "outputs": [],
   "source": [
    "# pow\n",
    "assert Dual(2, 1)**2 == Dual(4, 4)\n",
    "assert Dual(2, 1)**3 == Dual(8, 12)\n",
    "assert Dual(2, 1)**4 == Dual(16, 32)\n",
    "assert Dual(2, 1)**5 == Dual(32, 80)\n",
    "\n",
    "assert Dual(2, 1)** (-1) == Dual(0.5, -0.25)\n",
    "assert Dual(2, 1) ** 0 == Dual(1, 0)\n",
    "with pytest.raises(ValueError):\n",
    "    Dual(0, 1) ** 2"
   ]
  },
  {
   "cell_type": "markdown",
   "metadata": {},
   "source": [
    "## Задание 1.2 (7 баллов)\n",
    "Придумайте способ и реализуйте поддержку функций:\n",
    "- `exp()`\n",
    "- `cos()`\n",
    "- `sin()`\n",
    "- `log()`\n",
    "\n",
    "Добавьте соответствующие тесты"
   ]
  },
  {
   "cell_type": "code",
   "execution_count": 39,
   "metadata": {},
   "outputs": [],
   "source": [
    "# exp()\n",
    "assert Dual(2, 1).exp() == Dual(np.exp(2), np.exp(2))\n",
    "assert Dual(2, -2).exp() == Dual(np.exp(2), -2 * np.exp(2))\n",
    "assert Dual(2, 0).exp() == Dual(np.exp(2), 0)\n",
    "assert Dual(-4, 0.5).exp() == Dual(np.exp(-4), 0.5 * np.exp(-4))\n",
    "assert Dual(0, 1).exp() == Dual(np.exp(0), 1 * np.exp(0))"
   ]
  },
  {
   "cell_type": "code",
   "execution_count": 109,
   "metadata": {},
   "outputs": [],
   "source": [
    "# cos() ?\n",
    "#unit-test for cos method for Dual\n",
    "assert Dual(2, 1).cos() == Dual(np.cos(2), -np.sin(2))\n",
    "assert Dual(2, 2).cos() == Dual(np.cos(2), -2 * np.sin(2))\n",
    "assert Dual(-2, -3).cos() == Dual(np.cos(-2), -(-3) * np.sin(-2))\n",
    "assert Dual(-2, 4).cos() == Dual(np.cos(-2), -4 * np.sin(-2))\n",
    "assert Dual(2, -5).cos() == Dual(np.cos(2), - (-5) * np.sin(2))\n",
    "assert Dual(0, 1).cos() == Dual(np.cos(0), -np.sin(0))\n",
    "assert Dual(2, 0).cos() == Dual(np.cos(2), 0)\n",
    "assert Dual(0, 0).cos() == Dual(np.cos(0), 0)"
   ]
  },
  {
   "cell_type": "code",
   "execution_count": 108,
   "metadata": {},
   "outputs": [],
   "source": [
    "# sin()\n",
    "#unit-test for sin method for Dual\n",
    "assert Dual(2, 1).sin() == Dual(np.sin(2), np.cos(2))\n",
    "assert Dual(10, 4).sin() == Dual(np.sin(10), 4 * np.cos(10))\n",
    "assert Dual(2, 5).sin() == Dual(np.sin(2), 5 * np.cos(2))\n",
    "\n",
    "assert Dual(0, 1).sin() == Dual(0, 1)\n",
    "\n",
    "assert Dual(-2, 1).sin() == Dual(np.sin(-2), np.cos(-2))\n",
    "assert Dual(2, -2).sin() == Dual(np.sin(2), -2 * np.cos(2))\n",
    "assert Dual(-2, 0).sin() == Dual(np.sin(-2), 0)\n",
    "assert Dual(0, 0).sin() == Dual(np.sin(0), 0)"
   ]
  },
  {
   "cell_type": "code",
   "execution_count": 117,
   "metadata": {},
   "outputs": [
    {
     "data": {
      "text/plain": [
       "Dual(value=2.302585092994046, d=0.3)"
      ]
     },
     "execution_count": 117,
     "metadata": {},
     "output_type": "execute_result"
    }
   ],
   "source": [
    "Dual(10, 3).log()"
   ]
  },
  {
   "cell_type": "code",
   "execution_count": 118,
   "metadata": {},
   "outputs": [],
   "source": [
    "# log()\n",
    "assert Dual(2, 1).log() == Dual(np.log(2), 1/2)\n",
    "assert Dual(2, 2).log() == Dual(np.log(2), 2/2)\n",
    "assert Dual(10, 3).log() == Dual(np.log(10), 3/10)\n",
    "assert Dual(4, -3).log() == Dual(np.log(4), -3/4)\n",
    "with pytest.raises(ValueError):\n",
    "    Dual(0, 1).log()\n",
    "with pytest.raises(ValueError):\n",
    "    Dual(-2, 1).log()"
   ]
  },
  {
   "cell_type": "markdown",
   "metadata": {},
   "source": [
    "## Задание 1.3 (3 балла)\n",
    "\n",
    "Воспользуйтесь методами **численного** дифференцирования для \"проверки\" работы кода на нескольких примерах. Например,  библиотеке `scipy` есть функция `derivative`. Или реализуйте какой-нибудь метод численного дифференцирования самостоятельно (**+5 баллов**)"
   ]
  },
  {
   "cell_type": "code",
   "execution_count": 11,
   "metadata": {},
   "outputs": [
    {
     "data": {
      "text/plain": [
       "22.0"
      ]
     },
     "execution_count": 11,
     "metadata": {},
     "output_type": "execute_result"
    }
   ],
   "source": [
    "from scipy.misc import derivative\n",
    "\n",
    "def f(x: float) -> float:\n",
    "    return 5 * x * x + 2 * x + 2\n",
    "\n",
    "derivative(f, 2.)"
   ]
  },
  {
   "cell_type": "code",
   "execution_count": 147,
   "metadata": {},
   "outputs": [
    {
     "name": "stdout",
     "output_type": "stream",
     "text": [
      "72.33333333333333 64.0\n"
     ]
    }
   ],
   "source": [
    "# ваш код\n",
    "def f1(x: float) -> float:\n",
    "    return 5 * x * x * x - (5 * x - 3) * x**(-2) + 7 * x + 1\n",
    "\n",
    "f_diff1 = diff_1(f1)\n",
    "# значение производной в точке x = 2\n",
    "print(derivative(f1, 2.), f_diff1(2))\n"
   ]
  },
  {
   "cell_type": "code",
   "execution_count": 148,
   "metadata": {},
   "outputs": [
    {
     "name": "stdout",
     "output_type": "stream",
     "text": [
      "8.239592165010823 8.465735902799727\n"
     ]
    }
   ],
   "source": [
    "def f(x: float) -> float:\n",
    "    return 5 * x * np.log(x)\n",
    "\n",
    "f_diff = diff_1(f)\n",
    "print(derivative(f, 2.), f_diff(2.))\n"
   ]
  },
  {
   "cell_type": "code",
   "execution_count": 154,
   "metadata": {},
   "outputs": [
    {
     "name": "stdout",
     "output_type": "stream",
     "text": [
      "25.036827341031838 25.156802495307925\n"
     ]
    }
   ],
   "source": [
    "def f(x: float) -> float:\n",
    "    return 3 * x * x + 0.4 * x + 2 + np.cos(x)\n",
    "\n",
    "f_diff = diff_1(f)\n",
    "print(derivative(f, 4.), f_diff(4.))\n"
   ]
  },
  {
   "cell_type": "code",
   "execution_count": 156,
   "metadata": {},
   "outputs": [
    {
     "name": "stdout",
     "output_type": "stream",
     "text": [
      "-0.5985022044389204 -0.7112570905526299\n"
     ]
    }
   ],
   "source": [
    "def f(x: float) -> float:\n",
    "    return np.cos(x) + np.sin(x)\n",
    "\n",
    "f_diff = diff_1(f)\n",
    "print(derivative(f, 3.4), f_diff(3.4))"
   ]
  },
  {
   "cell_type": "markdown",
   "metadata": {},
   "source": [
    "## Задание 1.4 (10 баллов)\n",
    "\n",
    "Необходимо разработать систему автоматического тестирования алгоритма дифференцирования в следующем виде:\n",
    "- реализовать механизм генерации \"случайных функций\" (например, что-то вроде такого: $f(x) = x + 5 * x - \\cos(20 * \\log(12 - 20 * x * x )) - 20 * x$ )\n",
    "- сгенерировать достаточно большое число функций и сравнить результаты символьного и численного дифференцирования в случайных точках "
   ]
  },
  {
   "cell_type": "markdown",
   "metadata": {},
   "source": [
    "Генерацию случайных функций можно осуществить, например, двумя путями. \n",
    "1. Генерировать функцию в текстовом виде, зачем использовать встроенную функцию [eval](https://docs.python.org/3/library/functions.html#eval)\n",
    "\n",
    "```python\n",
    "func = eval(\"lambda x: 2 * x + 5\")\n",
    "assert func(42) == 89 \n",
    "```\n",
    "\n",
    "2. Использовать стандартный модуль [ast](https://docs.python.org/3/library/ast.html), который позволяет во время выполнения программы манипулировать [Абстрактным Синтаксическим Деревом](https://ru.wikipedia.org/wiki/%D0%90%D0%B1%D1%81%D1%82%D1%80%D0%B0%D0%BA%D1%82%D0%BD%D0%BE%D0%B5_%D1%81%D0%B8%D0%BD%D1%82%D0%B0%D0%BA%D1%81%D0%B8%D1%87%D0%B5%D1%81%D0%BA%D0%BE%D0%B5_%D0%B4%D0%B5%D1%80%D0%B5%D0%B2%D0%BE).\n",
    "Например, выражение \n",
    "\n",
    "```python\n",
    "func = lambda x: 2 * x + 5\n",
    "```\n",
    "\n",
    "Можно запрограммировать с помощью кода:\n",
    "\n",
    "```python\n",
    "\n",
    "expr = ast.Expression(\n",
    "    body=ast.Lambda(\n",
    "        args=ast.arguments(\n",
    "            args=[\n",
    "                ast.arg(arg='x')\n",
    "            ],\n",
    "            posonlyargs=[],\n",
    "            kwonlyargs=[],\n",
    "            kw_defaults=[],\n",
    "            defaults=[]\n",
    "        ),\n",
    "        body=ast.BinOp(\n",
    "            left=ast.BinOp(\n",
    "                left=ast.Constant(value=2),\n",
    "                op=ast.Mult(),\n",
    "                right=ast.Name(id='x', ctx=ast.Load())\n",
    "            ),\n",
    "            op=ast.Add(),\n",
    "            right=ast.Constant(value=5)\n",
    "        )\n",
    "    )\n",
    ")\n",
    "\n",
    "ast.fix_missing_locations(expr)\n",
    "\n",
    "func = eval(compile(expr, filename=\"\", mode=\"eval\"))\n",
    "\n",
    "assert func(42) == 89\n",
    "```\n",
    "\n",
    "При реализации нужно учитывать области допустимых значений функций."
   ]
  },
  {
   "cell_type": "code",
   "execution_count": null,
   "metadata": {},
   "outputs": [],
   "source": [
    "# ваш код"
   ]
  },
  {
   "cell_type": "markdown",
   "metadata": {},
   "source": [
    "## Задание 1.5 (7 баллов)\n",
    "\n",
    "Реализуйте поддержку функций нескольких аргументов. Например\n",
    "\n",
    "```python\n",
    "def f(x: float, y: float, z: float) -> float:\n",
    "    return x * y + z - 5 * y  \n",
    "\n",
    "\n",
    "f_diff = diff(f)\n",
    "\n",
    "f_diff(10, 10, 10) # = [10, 5, 1]\n",
    "```"
   ]
  },
  {
   "cell_type": "code",
   "execution_count": 151,
   "metadata": {},
   "outputs": [
    {
     "data": {
      "text/plain": [
       "[10.0, 5.0, 1.0]"
      ]
     },
     "execution_count": 151,
     "metadata": {},
     "output_type": "execute_result"
    }
   ],
   "source": [
    "# ваш код\n",
    "def f(x: float, y: float, z: float) -> float:\n",
    "    return x * y + z - 5 * y  \n",
    "\n",
    "\n",
    "f_diff = diff(f)\n",
    "\n",
    "f_diff(10, 10, 10) # = [10, 5, 1]"
   ]
  }
 ],
 "metadata": {
  "kernelspec": {
   "display_name": "Python 3.10.6 ('python-for-data-analysis')",
   "language": "python",
   "name": "python3"
  },
  "language_info": {
   "codemirror_mode": {
    "name": "ipython",
    "version": 3
   },
   "file_extension": ".py",
   "mimetype": "text/x-python",
   "name": "python",
   "nbconvert_exporter": "python",
   "pygments_lexer": "ipython3",
   "version": "3.10.6"
  },
  "orig_nbformat": 4,
  "vscode": {
   "interpreter": {
    "hash": "cdcb8b47a48146c8bfd997adddf099df095524100ba9341af35969a11f235150"
   }
  }
 },
 "nbformat": 4,
 "nbformat_minor": 2
}
