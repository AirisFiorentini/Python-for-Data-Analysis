{
 "cells": [
  {
   "cell_type": "markdown",
   "metadata": {},
   "source": [
    "# Задание 2.\n",
    "\n",
    "**NB. Все упражнения ниже нужно делать без использования циклов Python в явном (`while`, `for`) и неявном виде (list comprehension, `map`, `reduce` и пр)**\n",
    "\n",
    "Задания по манипуляциям с массивами чаще всего решаются в одно/два выражения. "
   ]
  },
  {
   "cell_type": "code",
   "execution_count": 6,
   "metadata": {},
   "outputs": [
    {
     "data": {
      "text/plain": [
       "array([[81, 89, 30, ..., 75, 81,  6],\n",
       "       [78, 21,  8, ..., 32, 65, 22],\n",
       "       [97, 95, 83, ..., 91,  4, 15],\n",
       "       ...,\n",
       "       [26, 97,  1, ..., 30, 50, 97],\n",
       "       [69, 46, 76, ..., 15, 34,  5],\n",
       "       [65, 46, 80, ...,  2, 87, 64]])"
      ]
     },
     "execution_count": 6,
     "metadata": {},
     "output_type": "execute_result"
    }
   ],
   "source": [
    "%matplotlib inline\n",
    "\n",
    "import numpy as np\n",
    "import matplotlib.pyplot as plt\n",
    "import seaborn as sns\n",
    "sns.set_theme()\n",
    "\n",
    "A = np.random.randint(0, 100, size=(200, 50))\n",
    "A"
   ]
  },
  {
   "cell_type": "markdown",
   "metadata": {},
   "source": [
    "# Задание 2.1 (2 балла)\n",
    "\n",
    "Сгенерируйте новый массив, в котором столбцы массива `A` переставлены в случайном порядке"
   ]
  },
  {
   "cell_type": "code",
   "execution_count": 7,
   "metadata": {},
   "outputs": [
    {
     "data": {
      "text/plain": [
       "array([[75, 26, 19, ...,  6, 73,  3],\n",
       "       [11, 52, 74, ..., 79, 48, 41],\n",
       "       [11, 65,  3, ..., 11, 55, 17],\n",
       "       ...,\n",
       "       [24, 39, 41, ...,  1, 53, 29],\n",
       "       [63, 23, 75, ..., 63, 77, 30],\n",
       "       [90, 47, 84, ...,  3, 21, 63]])"
      ]
     },
     "execution_count": 7,
     "metadata": {},
     "output_type": "execute_result"
    }
   ],
   "source": [
    "B = np.transpose(np.random.permutation(np.transpose(A)))\n",
    "B"
   ]
  },
  {
   "cell_type": "markdown",
   "metadata": {},
   "source": [
    "# Задание 2.2 (5 баллов)\n",
    "\n",
    "Сгенерируйте новый массив, который содержит только те строки массива `A`, в которых: \n",
    "- сумма элементов по четным столбцам (индексы $0, 2, \\ldots$) больше среднего значения (по всему массиву) суммы элементов по нечетным столбцам (индексы $1, 3, \\ldots$) "
   ]
  },
  {
   "cell_type": "code",
   "execution_count": 8,
   "metadata": {},
   "outputs": [
    {
     "data": {
      "text/plain": [
       "array([[81, 89, 30, ..., 75, 81,  6],\n",
       "       [78, 21,  8, ..., 32, 65, 22],\n",
       "       [97, 95, 83, ..., 91,  4, 15],\n",
       "       ...,\n",
       "       [26, 97,  1, ..., 30, 50, 97],\n",
       "       [69, 46, 76, ..., 15, 34,  5],\n",
       "       [65, 46, 80, ...,  2, 87, 64]])"
      ]
     },
     "execution_count": 8,
     "metadata": {},
     "output_type": "execute_result"
    }
   ],
   "source": [
    "C = A[A[:,::2].sum(axis=1) > A[:,1::2].mean()]\n",
    "C"
   ]
  },
  {
   "cell_type": "markdown",
   "metadata": {},
   "source": [
    "# Задача 2.3 (3 балла)\n",
    "\n",
    "Найдите индекс строки массива `A`, в которой разница между максимальным и минимальным элементом максимальна"
   ]
  },
  {
   "cell_type": "code",
   "execution_count": 9,
   "metadata": {},
   "outputs": [
    {
     "data": {
      "text/plain": [
       "6"
      ]
     },
     "execution_count": 9,
     "metadata": {},
     "output_type": "execute_result"
    }
   ],
   "source": [
    "i = np.argmax(np.max(A, axis=1) - np.min(A, axis=1))\n",
    "i"
   ]
  },
  {
   "cell_type": "markdown",
   "metadata": {},
   "source": [
    "# Задание 2.4 (7 баллов)\n",
    "\n",
    "Сгенерируйте массив той же размерности, что и `A`, но в котором каждый элемент заменен на его порядковый номер (начиная с 1) в отсортированном по возрастанию массиве из элементов `A`\n",
    "\n",
    "Если `A` выглядит так:\n",
    "$$\n",
    "\\begin{pmatrix}\n",
    "12 & 14\\\\\n",
    "1 & 2\n",
    "\\end{pmatrix}\n",
    "$$\n",
    "то результат должен быть\n",
    "$$\n",
    "\\begin{pmatrix}\n",
    "3 & 4\\\\\n",
    "1 & 2\n",
    "\\end{pmatrix}\n",
    "$$\n",
    "\n",
    "*Tip: рассмотрите возможность неоднократного применения [argsort()](https://numpy.org/doc/stable/reference/generated/numpy.ndarray.argsort.html)*"
   ]
  },
  {
   "cell_type": "code",
   "execution_count": 10,
   "metadata": {},
   "outputs": [
    {
     "data": {
      "text/plain": [
       "array([[6498, 6673, 5373, ...,  861, 8361, 8425],\n",
       "       [6400, 4864, 4777, ..., 9607,  974, 9066],\n",
       "       [9770, 7945, 7659, ..., 7676, 9934, 5942],\n",
       "       ...,\n",
       "       [ 302, 8649, 4767, ..., 2527, 3177, 1455],\n",
       "       [3115, 5926, 3579, ..., 5928, 2567, 2623],\n",
       "       [ 814, 6294, 3493, ..., 9182, 1769, 1215]])"
      ]
     },
     "execution_count": 10,
     "metadata": {},
     "output_type": "execute_result"
    }
   ],
   "source": [
    "D = np.argsort(A.reshape(1, len(A)*len(A[0]))).reshape(len(A),len(A[0])) + 1\n",
    "D"
   ]
  },
  {
   "cell_type": "markdown",
   "metadata": {},
   "source": [
    "# Задание 2.5 (2 балла)\n",
    "\n",
    "Примените $\\min-\\max$ - нормализацию к строкам массива `A`. То есть нужно получить новый массив, в каждой строке которого максимальный элемент равен $1$, минимальный - $0$. "
   ]
  },
  {
   "cell_type": "code",
   "execution_count": 11,
   "metadata": {},
   "outputs": [
    {
     "data": {
      "text/plain": [
       "array([[ 0.82105263,  0.90526316,  0.28421053, ...,  0.75789474,\n",
       "         0.82105263,  0.03157895],\n",
       "       [ 0.78947368,  0.18947368,  0.05263158, ...,  0.30526316,\n",
       "         0.65263158,  0.2       ],\n",
       "       [ 0.98947368,  0.96842105,  0.84210526, ...,  0.92631579,\n",
       "         0.01052632,  0.12631579],\n",
       "       ...,\n",
       "       [ 0.24210526,  0.98947368, -0.02105263, ...,  0.28421053,\n",
       "         0.49473684,  0.98947368],\n",
       "       [ 0.69473684,  0.45263158,  0.76842105, ...,  0.12631579,\n",
       "         0.32631579,  0.02105263],\n",
       "       [ 0.65263158,  0.45263158,  0.81052632, ..., -0.01052632,\n",
       "         0.88421053,  0.64210526]])"
      ]
     },
     "execution_count": 11,
     "metadata": {},
     "output_type": "execute_result"
    }
   ],
   "source": [
    "E = (A - A.min(axis=1)[:1]) / (A.max(axis=1)[:1] - A.min(axis=1)[:1])\n",
    "E"
   ]
  },
  {
   "cell_type": "markdown",
   "metadata": {},
   "source": [
    "# Задание 2.6 (2 балла)\n",
    "\n",
    "Сгенерируйте новый трехмерный массив, размерности $10 \\times 200 \\times 50$. Подмассивы по нулевой оси должны состоять из элементов `A`, умноженных на $1 - 10$ соответственно"
   ]
  },
  {
   "cell_type": "code",
   "execution_count": 12,
   "metadata": {},
   "outputs": [
    {
     "data": {
      "text/plain": [
       "array([[[ 81,  89,  30, ...,  75,  81,   6],\n",
       "        [ 78,  21,   8, ...,  32,  65,  22],\n",
       "        [ 97,  95,  83, ...,  91,   4,  15],\n",
       "        ...,\n",
       "        [ 26,  97,   1, ...,  30,  50,  97],\n",
       "        [ 69,  46,  76, ...,  15,  34,   5],\n",
       "        [ 65,  46,  80, ...,   2,  87,  64]],\n",
       "\n",
       "       [[162, 178,  60, ..., 150, 162,  12],\n",
       "        [156,  42,  16, ...,  64, 130,  44],\n",
       "        [194, 190, 166, ..., 182,   8,  30],\n",
       "        ...,\n",
       "        [ 52, 194,   2, ...,  60, 100, 194],\n",
       "        [138,  92, 152, ...,  30,  68,  10],\n",
       "        [130,  92, 160, ...,   4, 174, 128]],\n",
       "\n",
       "       [[243, 267,  90, ..., 225, 243,  18],\n",
       "        [234,  63,  24, ...,  96, 195,  66],\n",
       "        [291, 285, 249, ..., 273,  12,  45],\n",
       "        ...,\n",
       "        [ 78, 291,   3, ...,  90, 150, 291],\n",
       "        [207, 138, 228, ...,  45, 102,  15],\n",
       "        [195, 138, 240, ...,   6, 261, 192]],\n",
       "\n",
       "       ...,\n",
       "\n",
       "       [[648, 712, 240, ..., 600, 648,  48],\n",
       "        [624, 168,  64, ..., 256, 520, 176],\n",
       "        [776, 760, 664, ..., 728,  32, 120],\n",
       "        ...,\n",
       "        [208, 776,   8, ..., 240, 400, 776],\n",
       "        [552, 368, 608, ..., 120, 272,  40],\n",
       "        [520, 368, 640, ...,  16, 696, 512]],\n",
       "\n",
       "       [[729, 801, 270, ..., 675, 729,  54],\n",
       "        [702, 189,  72, ..., 288, 585, 198],\n",
       "        [873, 855, 747, ..., 819,  36, 135],\n",
       "        ...,\n",
       "        [234, 873,   9, ..., 270, 450, 873],\n",
       "        [621, 414, 684, ..., 135, 306,  45],\n",
       "        [585, 414, 720, ...,  18, 783, 576]],\n",
       "\n",
       "       [[810, 890, 300, ..., 750, 810,  60],\n",
       "        [780, 210,  80, ..., 320, 650, 220],\n",
       "        [970, 950, 830, ..., 910,  40, 150],\n",
       "        ...,\n",
       "        [260, 970,  10, ..., 300, 500, 970],\n",
       "        [690, 460, 760, ..., 150, 340,  50],\n",
       "        [650, 460, 800, ...,  20, 870, 640]]])"
      ]
     },
     "execution_count": 12,
     "metadata": {},
     "output_type": "execute_result"
    }
   ],
   "source": [
    "c = np.arange(1, 11).reshape((-1, 1, 1))   # shape: (10, 1, 1)\n",
    "A * c   # shape: (200, 50) * (10, 1, 1) = (1, 200, 50) * (10, 1, 1) = (10, 200, 50)"
   ]
  },
  {
   "cell_type": "markdown",
   "metadata": {},
   "source": [
    "# Задание 2.7 (2 балла)\n",
    "\n",
    "Создайте новый массив, такой же размерности, как и `A`, в котором сначала сгруппированы четные столбцы `A`, потом  нечетные. Используйте [np.concat()](https://numpy.org/doc/stable/reference/generated/numpy.concatenate.html) "
   ]
  },
  {
   "cell_type": "code",
   "execution_count": 13,
   "metadata": {},
   "outputs": [
    {
     "data": {
      "text/plain": [
       "array([[81, 30, 21, ..., 64, 75,  6],\n",
       "       [78,  8, 52, ..., 34, 32, 22],\n",
       "       [97, 83, 68, ...,  3, 91, 15],\n",
       "       ...,\n",
       "       [26,  1, 82, ..., 95, 30, 97],\n",
       "       [69, 76, 26, ..., 86, 15,  5],\n",
       "       [65, 80, 40, ..., 19,  2, 64]])"
      ]
     },
     "execution_count": 13,
     "metadata": {},
     "output_type": "execute_result"
    }
   ],
   "source": [
    "a1 = A[:,1::2]\n",
    "a1\n",
    "a2 = A[:,0::2]\n",
    "F = np.concatenate((a2, a1), axis=1)\n",
    "F"
   ]
  },
  {
   "cell_type": "markdown",
   "metadata": {},
   "source": [
    "# Задание 2.8 (2 балла)\n",
    "\n",
    "Посчитайте количество строк массива `A`, в который все элементы больше 5. Используйте [np.all()](https://numpy.org/doc/stable/reference/generated/numpy.all.html) "
   ]
  },
  {
   "cell_type": "code",
   "execution_count": 14,
   "metadata": {},
   "outputs": [
    {
     "data": {
      "text/plain": [
       "6"
      ]
     },
     "execution_count": 14,
     "metadata": {},
     "output_type": "execute_result"
    }
   ],
   "source": [
    "len(A[np.all(A > 5, axis=1)])"
   ]
  },
  {
   "cell_type": "markdown",
   "metadata": {},
   "source": [
    "# Задание 2.9 (2 балла)\n",
    "\n",
    "Поделите массив `A` горизонтально на 10 частей и создайте новый массив размерности $20 \\times 50$, который является средним этих частей. Используйте [np.split()](https://numpy.org/doc/stable/reference/generated/numpy.split.html)"
   ]
  },
  {
   "cell_type": "code",
   "execution_count": 15,
   "metadata": {},
   "outputs": [
    {
     "data": {
      "text/plain": [
       "array([[57.7, 56.2, 66.7, 45.1, 45. , 56.1, 36. , 49.7, 51.2, 48.2, 39.7,\n",
       "        43.2, 50.6, 53.6, 56.1, 32.9, 17. , 43.4, 51.8, 45.7, 28.8, 43.2,\n",
       "        46.5, 39.8, 52.5, 52.8, 41.2, 46.4, 53.4, 51. , 60.5, 56.9, 51.1,\n",
       "        31.9, 66.3, 56.3, 41.7, 69.6, 57. , 46.3, 48.6, 49.8, 52.6, 51.6,\n",
       "        49.3, 44.6, 36.6, 50.8, 47.4, 65.7],\n",
       "       [52.6, 47.3, 42.9, 64.1, 63. , 41.1, 41.5, 45.8, 43.5, 48.2, 42.5,\n",
       "        52.2, 52.8, 38.4, 41.5, 45.6, 37.2, 60.1, 43.2, 47. , 41.5, 49.2,\n",
       "        64.4, 44.7, 48.4, 42.4, 51.1, 47.1, 45.6, 50.1, 47. , 56.9, 66.9,\n",
       "        59.1, 50.2, 54.3, 45.7, 48.1, 37.5, 54.1, 37. , 47.5, 47.1, 54.9,\n",
       "        43.2, 59.5, 56.2, 55.2, 48.2, 43. ],\n",
       "       [58.8, 58.1, 51.1, 52. , 37.4, 56.8, 44.1, 55.4, 31.8, 51.4, 67.2,\n",
       "        41.3, 31.5, 61.2, 52.8, 52.7, 55.4, 56.5, 36.2, 71.8, 51.5, 56.4,\n",
       "        53.1, 61.4, 48.7, 43.6, 58.5, 33.9, 64.7, 47.9, 51.5, 56.9, 37.9,\n",
       "        41.4, 26.9, 54.5, 47.3, 41.5, 53. , 54.6, 58.3, 51.1, 37.7, 41.9,\n",
       "        47.5, 47. , 51.2, 55. , 48. , 58.4],\n",
       "       [53.5, 57.7, 50.8, 36.6, 57.7, 65.9, 40.3, 51.8, 47.1, 49.1, 46.2,\n",
       "        51.7, 54.7, 49.2, 41.4, 65.3, 56.3, 68.2, 51.3, 49.4, 49.9, 40.7,\n",
       "        45.5, 35.4, 45.9, 39. , 58.7, 35.2, 59.8, 52.7, 38.3, 57. , 44.2,\n",
       "        39.1, 62.4, 58.5, 42.4, 54.6, 41.3, 50.7, 34.2, 49.3, 53.2, 41.4,\n",
       "        49.1, 47. , 59.9, 42.4, 55.3, 46.3],\n",
       "       [42.4, 50.6, 71.4, 43.4, 46.2, 51. , 58.9, 53.2, 57. , 30.2, 54.5,\n",
       "        48.6, 50.8, 48.2, 65.3, 53.9, 41.8, 38.1, 42.5, 50.9, 46.7, 55.3,\n",
       "        46. , 50.8, 56.7, 48.2, 57.6, 52. , 41. , 45.1, 65.2, 39.6, 31.2,\n",
       "        35. , 44.3, 40.1, 52. , 46.8, 25.8, 34.8, 32.1, 30. , 54.3, 59.6,\n",
       "        33.2, 41.5, 41.7, 54.2, 48.7, 43.3],\n",
       "       [62.6, 41.9, 46.9, 34. , 63.6, 58.3, 57.9, 41.5, 49.9, 47.7, 43.2,\n",
       "        36.8, 44.6, 51.2, 43. , 41.5, 45.1, 24.1, 42.6, 45.2, 47.6, 39. ,\n",
       "        39.4, 51.2, 47.9, 31.3, 54.1, 60.8, 65. , 35. , 60.6, 56.7, 44.5,\n",
       "        52.4, 44.6, 52.6, 44.8, 48.3, 54.1, 36.7, 51.2, 50.1, 39.8, 51.4,\n",
       "        55.1, 56.7, 56.6, 49.2, 50.1, 54. ],\n",
       "       [45.2, 55.5, 65.5, 36.4, 37.2, 36.1, 49.5, 42.4, 35.3, 42.9, 47.9,\n",
       "        43.8, 52.4, 37.9, 55.8, 51.7, 53.2, 45.6, 63.7, 51.7, 51.6, 48.5,\n",
       "        56.4, 48. , 42.7, 51.6, 46.6, 48.1, 48.9, 70. , 65.8, 48.3, 62.1,\n",
       "        55.3, 55.5, 61.8, 45.7, 37.6, 62.4, 50.8, 57.1, 48.5, 49.9, 42.6,\n",
       "        69.8, 45.3, 36.1, 49.7, 68.6, 50.7],\n",
       "       [52.8, 49.5, 49.5, 52.4, 45.6, 45.2, 50.4, 31.4, 48.4, 44.2, 49.3,\n",
       "        51. , 41.8, 52. , 47. , 46.5, 51.1, 47.3, 40.9, 53.3, 60.9, 44.2,\n",
       "        51.2, 53.9, 34.8, 54.4, 51.3, 45.1, 67.8, 46. , 47.2, 37. , 30.1,\n",
       "        58.5, 56.4, 38.6, 51.4, 44.4, 51. , 45.6, 56.6, 48.7, 44. , 72.6,\n",
       "        49.6, 38.3, 60.9, 51.7, 59.4, 40.8],\n",
       "       [63. , 48.9, 31.6, 38.9, 44.8, 41.5, 48.7, 51.6, 44.2, 38.9, 37.7,\n",
       "        47.7, 56.6, 37.2, 60.2, 48.5, 42.1, 38.5, 43.4, 45.1, 51.5, 48.1,\n",
       "        56.2, 49.2, 46.8, 46.5, 66.9, 57.9, 50. , 48.3, 39. , 63.1, 49.8,\n",
       "        33.6, 49.9, 48.9, 38.2, 43.5, 44.4, 55.3, 62.6, 52.1, 56.4, 39.4,\n",
       "        44.5, 48.6, 45.1, 50.9, 56.6, 42.4],\n",
       "       [30.4, 55.1, 37.8, 49.9, 57. , 55.6, 61.9, 58.8, 56.5, 43.5, 42.6,\n",
       "        76.8, 43.1, 41.9, 37.7, 41.8, 48. , 56. , 39.9, 51.5, 36. , 39.6,\n",
       "        42.6, 51.2, 54. , 43.4, 40.6, 62. , 47.3, 49.8, 47.9, 39.5, 47. ,\n",
       "        44. , 57.6, 53.9, 53. , 46.2, 38.2, 47.3, 56.5, 38.7, 55.8, 47.2,\n",
       "        55.1, 48.6, 52. , 25.6, 47.5, 31.6],\n",
       "       [47.4, 58.9, 53.6, 41.3, 30.7, 58.7, 63.7, 59.2, 69.4, 46.8, 44.7,\n",
       "        51.1, 65.6, 36.8, 49.1, 55.7, 49.9, 63.9, 60.2, 43.6, 41.5, 55. ,\n",
       "        50.5, 46.7, 48.2, 50.8, 54.8, 49.8, 67. , 42. , 47.6, 34.1, 54.6,\n",
       "        37.3, 44. , 53.8, 61.1, 42.3, 44.2, 45.2, 41.3, 56.6, 70. , 42.9,\n",
       "        35.3, 43.7, 45.2, 45.5, 50.5, 39.3],\n",
       "       [43.7, 59.4, 66.2, 48.6, 48.7, 59.5, 48.6, 59.3, 44.9, 48.1, 50.4,\n",
       "        42.6, 41.6, 49.2, 36.1, 64.7, 67.6, 40.1, 39.2, 45. , 50.9, 40.6,\n",
       "        46.3, 60. , 47. , 47.7, 44.6, 52.9, 57.5, 42.6, 57. , 69. , 46.9,\n",
       "        44.6, 43. , 59.3, 41.4, 25.8, 54.4, 52.4, 28.7, 36.6, 54.2, 64. ,\n",
       "        33.5, 56.4, 41.9, 45.4, 66.8, 54.2],\n",
       "       [29.8, 43.2, 50.1, 51.1, 49.6, 47.4, 59.5, 52.4, 57.2, 43.7, 60.9,\n",
       "        40.1, 38.4, 35. , 44.5, 48.2, 49.4, 36.4, 39.8, 44.7, 39.6, 40. ,\n",
       "        61.9, 45. , 61.6, 42.4, 53.2, 57.8, 55.5, 57.8, 42.5, 48.1, 64.8,\n",
       "        47. , 43.8, 44.8, 45.6, 64.2, 64.1, 68.4, 50.9, 53.9, 62.8, 37.1,\n",
       "        56. , 70.8, 41.9, 56.1, 67.1, 49.5],\n",
       "       [62.9, 44.8, 58.9, 49.2, 61.5, 43.5, 31.2, 66. , 33.4, 52. , 49.4,\n",
       "        53.6, 59.7, 43.4, 45.9, 47.4, 53.9, 26.6, 54.3, 46.8, 44.1, 46.6,\n",
       "        48.8, 56.5, 46.4, 48.7, 44.9, 55.8, 54.6, 59.8, 51.9, 42.1, 42.7,\n",
       "        51.8, 45.1, 47.4, 52.3, 55.5, 55.4, 64.5, 70.5, 41.1, 56.7, 48.5,\n",
       "        57.5, 38.6, 60.3, 42.4, 47.5, 52.5],\n",
       "       [42. , 49.7, 58.6, 53.4, 39.1, 40.1, 51.9, 37. , 30.1, 54.1, 35. ,\n",
       "        54.7, 66. , 39.8, 35.5, 47. , 52.5, 67.9, 53.6, 51.2, 41.1, 43.3,\n",
       "        44.6, 43. , 61.1, 60.3, 69.6, 45.5, 46.3, 52.9, 36.4, 50.7, 40.3,\n",
       "        51.8, 54.4, 62.1, 48.5, 53. , 37.9, 44.8, 50.2, 40.4, 54. , 37.7,\n",
       "        57.9, 56.9, 40.8, 48.6, 45.4, 44.1],\n",
       "       [56.6, 53.4, 52.8, 47.7, 59.3, 43. , 51.4, 62.4, 55.7, 45.6, 49.7,\n",
       "        49.3, 60.8, 30. , 47.6, 51.9, 54.2, 52.4, 59.8, 38.1, 44.8, 57.6,\n",
       "        39.3, 57.5, 62.3, 51.4, 53.8, 50.9, 50.6, 42.3, 45.7, 36.5, 56.2,\n",
       "        65.6, 47.8, 51.1, 53.8, 45.7, 55.3, 48.2, 43.9, 53.1, 61.8, 45. ,\n",
       "        49.2, 46.1, 48.2, 48.3, 39.2, 53.8],\n",
       "       [75.4, 47.3, 53.2, 41.7, 54.1, 45. , 43.2, 58.3, 40.1, 61.3, 42.1,\n",
       "        53.5, 52.1, 47.7, 43.6, 49.8, 35.3, 58.4, 40.8, 57. , 33. , 58.6,\n",
       "        36.9, 52.2, 71.1, 55.2, 48.1, 48.7, 55.9, 56.7, 43.2, 48.2, 36.6,\n",
       "        33.9, 53.6, 37.7, 47.2, 55.4, 57.5, 51.7, 57.9, 46.5, 54.3, 56.3,\n",
       "        43.3, 55. , 57. , 48.7, 53.2, 58.3],\n",
       "       [46.4, 33.3, 44.9, 57.8, 55.6, 52.7, 51.2, 48.9, 49.6, 38.8, 37.7,\n",
       "        53.7, 61.8, 41.9, 54.4, 65.9, 58.1, 35.7, 49.2, 52.7, 53.8, 56.6,\n",
       "        47. , 60.4, 66.7, 33.3, 49.5, 55.8, 39.7, 60.8, 55.9, 69.1, 44.4,\n",
       "        42.2, 54.6, 40.7, 45.9, 57.6, 58.4, 49.6, 57.7, 51.1, 50.5, 44.6,\n",
       "        47.5, 51.3, 60.7, 33.6, 45.4, 55.2],\n",
       "       [57.5, 60.5, 58.1, 48.2, 43.3, 47.9, 44.6, 55.7, 37.3, 44.2, 61.9,\n",
       "        70.6, 32.4, 38.5, 44. , 44.7, 51.9, 46. , 51.1, 36.5, 50.3, 47.6,\n",
       "        51.8, 40.7, 39.8, 41.6, 40.5, 56. , 62.4, 53.6, 48.5, 42.3, 52.2,\n",
       "        42.1, 54.4, 47.7, 46. , 61.4, 65.7, 58.7, 67.7, 47.8, 72.8, 45. ,\n",
       "        52.3, 60.7, 47.6, 35.8, 38.5, 44.8],\n",
       "       [31.7, 52. , 58.4, 55.2, 44.1, 43.2, 51.2, 74.2, 53.7, 50.2, 49.7,\n",
       "        62.4, 48.8, 49.2, 49.2, 53.1, 58.6, 66.2, 53.6, 41.2, 50.5, 34.8,\n",
       "        55.4, 35.5, 41.9, 34.1, 46.4, 54.5, 32.5, 42.8, 51.2, 54. , 55.5,\n",
       "        44.3, 37.5, 48.8, 34.1, 56.5, 53.4, 41.9, 58.9, 63. , 57.8, 45.6,\n",
       "        47.3, 41.7, 49.2, 48.9, 60.3, 54.3]])"
      ]
     },
     "execution_count": 15,
     "metadata": {},
     "output_type": "execute_result"
    }
   ],
   "source": [
    "np.mean(np.split(A, 10), axis=0)"
   ]
  },
  {
   "cell_type": "markdown",
   "metadata": {},
   "source": [
    "# Задание 2.10 (4 балла)\n",
    "\n",
    "\"Разверните\" массив `A` в одномерный массив. Оставьте в нём только уникальные элементы в том же порядке, в котором они встречаются в массиве. Используйте [np.unique()](https://numpy.org/doc/stable/reference/generated/numpy.unique.html)"
   ]
  },
  {
   "cell_type": "code",
   "execution_count": 16,
   "metadata": {},
   "outputs": [
    {
     "data": {
      "text/plain": [
       "array([81, 89, 30, 56, 21,  3, 20, 75, 10, 25, 26,  4, 39, 44, 86,  8, 46,\n",
       "       98,  6, 83,  5, 88, 53, 41, 48, 49, 93, 90, 95, 32, 79, 31, 71, 87,\n",
       "       73, 42, 64, 19, 78, 50, 52, 40, 11, 15, 96, 35, 54, 68, 66, 69, 62,\n",
       "        2, 18, 24, 51, 63, 36, 67, 70, 80, 47, 34, 74, 65, 22, 97, 17,  1,\n",
       "       45, 16, 28, 76, 43, 33, 55,  9, 91,  7, 59, 13, 77, 27, 61, 82, 58,\n",
       "       85, 12,  0, 84, 72, 57, 99, 94, 37, 23, 29, 14, 92, 60, 38])"
      ]
     },
     "execution_count": 16,
     "metadata": {},
     "output_type": "execute_result"
    }
   ],
   "source": [
    "_, ind = np.unique(A, return_index=True)\n",
    "J = A.reshape((1, len(A) * len(A[0])))\n",
    "J[0][np.sort(ind)]  "
   ]
  },
  {
   "cell_type": "markdown",
   "metadata": {},
   "source": [
    "# Задание 2.11 (3 балла)\n",
    "\n",
    "Создайте одномерный массив размерности $200$, в котором каждый элемент - евклидово расстояние между соответствующей строкой `A` и \"средней\" строкой `A`"
   ]
  },
  {
   "cell_type": "code",
   "execution_count": 17,
   "metadata": {},
   "outputs": [
    {
     "data": {
      "text/plain": [
       "array([215.93896476, 186.21091939, 209.169062  , 207.58281841,\n",
       "       200.51245971, 219.50878456, 223.01566425, 212.07141839,\n",
       "       212.65308956, 187.03180612, 193.86530504, 226.62876362,\n",
       "       202.53448225, 192.37168841, 198.40727431, 220.80198482,\n",
       "       216.2543329 , 213.49420718, 207.11768756, 211.0421439 ,\n",
       "       185.18948809, 206.6414201 , 192.71786762, 199.19075405,\n",
       "       194.37892504, 184.82885732, 195.9471268 , 202.22160246,\n",
       "       196.03973194, 217.97535755, 204.69916097, 206.37966591,\n",
       "       201.77997051, 201.17670467, 206.19191667, 210.4153666 ,\n",
       "       208.90767458, 203.80506986, 192.09676338, 209.88679449,\n",
       "       195.91129753, 212.26598055, 216.35449267, 203.1916989 ,\n",
       "       199.31629763, 203.00944929, 217.762041  , 217.87227107,\n",
       "       198.47724429, 196.06561784, 219.69544033, 179.9557904 ,\n",
       "       177.75392119, 182.26899489, 218.29795349, 217.0574728 ,\n",
       "       207.7132314 , 181.12428468, 201.58166211, 212.52088486,\n",
       "       206.67282477, 191.5911963 , 216.11105131, 177.8478746 ,\n",
       "       211.72058591, 205.54166609, 210.25773826, 194.47597924,\n",
       "       210.10184792, 181.43964975, 187.19392752, 191.24216716,\n",
       "       192.1558391 , 189.10403618, 194.55592127, 173.13118292,\n",
       "       181.87299552, 200.21025573, 209.65973982, 217.25962925,\n",
       "       201.72014401, 215.66906709, 213.00928736, 200.57199829,\n",
       "       198.12093908, 189.76892923, 177.0758778 , 203.97158258,\n",
       "       204.95196144, 186.28815448, 188.82265886, 180.47511324,\n",
       "       217.81677277, 228.24705146, 202.06235795, 208.10539758,\n",
       "       194.00986186, 193.25259765, 226.79487759, 199.68118715,\n",
       "       204.88259199, 195.64786352, 197.67361104, 201.52974098,\n",
       "       204.12975408, 228.01196569, 203.09639706, 212.20637714,\n",
       "       203.38000516, 212.30583247, 201.09805195, 189.9038612 ,\n",
       "       193.5579926 , 200.91395297, 193.97380364, 207.98352459,\n",
       "       180.16527551, 180.3026525 , 219.98733259, 194.1910052 ,\n",
       "       209.92914638, 206.66820389, 206.56283911, 185.00028784,\n",
       "       184.26205931, 206.74147262, 199.51836131, 203.77933286,\n",
       "       200.14443909, 231.51087771, 199.10996083, 212.44217213,\n",
       "       188.60921637, 199.83329678, 216.79904635, 193.53376062,\n",
       "       208.73891947, 209.64492958, 201.81795386, 210.09347086,\n",
       "       207.88510408, 205.13969996, 185.68620439, 196.92355496,\n",
       "       207.55102144, 205.88083082, 197.40194148, 208.57544558,\n",
       "       225.94078096, 189.31420047, 195.65328134, 205.94340606,\n",
       "       223.50205033, 208.49243751, 192.26475626, 201.93178675,\n",
       "       194.16680072, 186.57163906, 191.44507437, 201.40659498,\n",
       "       214.60684169, 186.47325948, 212.44786772, 208.70253113,\n",
       "       210.27854503, 181.42840599, 221.20094145, 209.11797269,\n",
       "       196.77610754, 207.42602657, 209.57926066, 210.54034411,\n",
       "       215.52405086, 224.30333591, 220.77684774, 213.75866415,\n",
       "       194.55674365, 206.41103774, 217.77209762, 187.21339829,\n",
       "       216.55478868, 187.6467599 , 200.92734135, 216.78889847,\n",
       "       189.02811034, 201.52475406, 185.88858626, 197.53920244,\n",
       "       220.37317555, 216.3697911 , 190.93597487, 200.24753806,\n",
       "       195.02257946, 208.94697055, 220.18180329, 238.77940971,\n",
       "       199.84152847, 211.61190066, 192.01579753, 211.03702637])"
      ]
     },
     "execution_count": 17,
     "metadata": {},
     "output_type": "execute_result"
    }
   ],
   "source": [
    "np.linalg.norm(A - np.mean(A, axis=0), axis=1)"
   ]
  },
  {
   "cell_type": "markdown",
   "metadata": {},
   "source": [
    "# Задание 2.12 (2 балла)\n",
    "\n",
    "Создайте новый массив, который состоит из элементов `A`, измененных по следующим правилам:\n",
    "- если элемент меньше $50$, то он умножается на $2$\n",
    "- в противном случае он умножается на $3$\n",
    "\n",
    "Используйте [np.where()](https://numpy.org/doc/stable/reference/generated/numpy.where.html)"
   ]
  },
  {
   "cell_type": "code",
   "execution_count": 18,
   "metadata": {},
   "outputs": [
    {
     "data": {
      "text/plain": [
       "array([[243, 267,  60, ..., 225, 243,  12],\n",
       "       [234,  42,  16, ...,  64, 195,  44],\n",
       "       [291, 285, 249, ..., 273,   8,  30],\n",
       "       ...,\n",
       "       [ 52, 291,   2, ...,  60, 150, 291],\n",
       "       [207,  92, 228, ...,  30,  68,  10],\n",
       "       [195,  92, 240, ...,   4, 261, 192]])"
      ]
     },
     "execution_count": 18,
     "metadata": {},
     "output_type": "execute_result"
    }
   ],
   "source": [
    "np.where(A < 50, 2 * A, 3 * A)"
   ]
  },
  {
   "cell_type": "markdown",
   "metadata": {},
   "source": [
    "# Задание 2.13 (7 баллов)\n",
    "\n",
    "Разверните массив `A` в одномерный массив. Создайте три новых массива, подсчитав скользящие средние по окнам $3$, $5$, $10$. Найдите сумму этих массивов, выровнив из размерности нулями справа\n",
    "\n",
    "*Tip: реализуйте функцию, которая считает скользящее среднее. Используйте [np.cumsum()](https://numpy.org/doc/stable/reference/generated/numpy.cumsum.html) или [np.convolve()](https://numpy.org/doc/stable/reference/generated/numpy.convolve.html)*"
   ]
  },
  {
   "cell_type": "code",
   "execution_count": 19,
   "metadata": {},
   "outputs": [
    {
     "data": {
      "text/plain": [
       "array([163.06666667, 133.63333333,  88.66666667, ...,  86.2       ,\n",
       "        57.66666667,  51.        ])"
      ]
     },
     "execution_count": 19,
     "metadata": {},
     "output_type": "execute_result"
    }
   ],
   "source": [
    "def moving_average(arr:np.ndarray, window_size: int) -> np.ndarray:\n",
    "    return np.convolve(arr[0], np.ones(window_size) / window_size, mode='valid') \n",
    "    \n",
    "V = A.reshape((1, len(A) * len(A[0])))\n",
    "V3 = moving_average(V, 3)\n",
    "V5 = moving_average(V, 5)\n",
    "V10 = moving_average(V, 10)\n",
    "\n",
    "V5 = np.concatenate((V5,  np.zeros(V3.shape[0] - V5.shape[0])))\n",
    "V10 = np.concatenate((V10,  np.zeros(V3.shape[0] - V10.shape[0])))\n",
    "V3 + V5 + V10"
   ]
  },
  {
   "cell_type": "markdown",
   "metadata": {},
   "source": [
    "# Задание 2.14 (8 баллов)\n",
    "\n",
    "Постройте график функции $$f(x) = (5  \\sin(2x) - \\cos^2(x) - 1 + |x^3| - x^2) / (x^2 + 1)$$  \n",
    "\n",
    "и производной от этой функции.  Найдите минимум с помощью `scipy` и обозначьте его на графике. На этой же оси постройте графики скользящего среднего этой функции с окном $1$, $2$, $5$."
   ]
  },
  {
   "cell_type": "code",
   "execution_count": 35,
   "metadata": {},
   "outputs": [
    {
     "name": "stdout",
     "output_type": "stream",
     "text": [
      "Optimization terminated successfully.\n",
      "         Current function value: -4.882074\n",
      "         Iterations: 6\n",
      "         Function evaluations: 16\n",
      "         Gradient evaluations: 8\n"
     ]
    },
    {
     "data": {
      "image/png": "[encoded data removed]",
      "text/plain": [
       "<Figure size 640x480 with 1 Axes>"
      ]
     },
     "metadata": {},
     "output_type": "display_data"
    }
   ],
   "source": [
    "# Построй график функции $$f(x) = (5  \\sin(2x) - \\cos^2(x) - 1 + |x^3| - x^2) / (x^2 + 1)$$ и производной этой функции \n",
    "import numpy as np\n",
    "import scipy \n",
    "import matplotlib.pyplot as plt\n",
    "from scipy.misc import derivative\n",
    "from typing import Union, Callable\n",
    "\n",
    "\n",
    "def f(x: np.ndarray) -> np.ndarray:\n",
    "    return (5 * np.sin(2 * x) - np.cos(x) ** 2 - 1 + np.abs(x ** 3) - x ** 2) / (x ** 2 + 1)\n",
    "\n",
    "def df(f: Callable[[np.ndarray], np.ndarray], x: np.ndarray) -> np.ndarray:\n",
    "    return derivative(f, x, dx=1e-6)\n",
    "\n",
    "\n",
    "x = np.linspace(-5, 5, 100)  # (-10, 10, 1000)\n",
    "y = f(x) ## (5 * np.sin(2 * x) - np.cos(x) ** 2 - 1 + np.abs(x ** 3) - x ** 2) / (x ** 2 + 1)\n",
    "dy = df(f, x)\n",
    "\n",
    "# print(y)\n",
    "\n",
    "plt.plot(x, y, label='f(x)')\n",
    "plt.plot(x, dy, label='f\\'(x)')\n",
    "\n",
    "min_f_p = scipy.optimize.fmin_bfgs(f, 0, full_output=True)\n",
    "x_min, y_min = min_f_p[0][0], min_f_p[1]\n",
    "plt.plot(x_min, y_min, '*', label='min ') \n",
    "\n",
    "Y = y.reshape((1, len(x)))\n",
    "m_a_1 = moving_average(Y, 1)\n",
    "m_a_2 = moving_average(Y, 2)\n",
    "m_a_5 = moving_average(Y, 5)\n",
    "\n",
    "plt.plot(x, m_a_1, label='f moving average 1')  # ?\n",
    "plt.plot(x[:len(m_a_2)], m_a_2, label='f moving average 2')\n",
    "plt.plot(x[:len(m_a_5)], m_a_5, label='f moving average 5')\n",
    "\n",
    "plt.legend()\n",
    "plt.show()"
   ]
  },
  {
   "cell_type": "markdown",
   "metadata": {},
   "source": [
    "# Задание 2.15 (10 баллов)\n",
    "\n",
    "Есть следующий алгоритм семплинирования, на вход функции подается вектор из целых положительных чисел и число семплов."
   ]
  },
  {
   "cell_type": "code",
   "execution_count": 21,
   "metadata": {},
   "outputs": [
    {
     "data": {
      "text/plain": [
       "[0, 0, 1, 0, 0]"
      ]
     },
     "execution_count": 21,
     "metadata": {},
     "output_type": "execute_result"
    }
   ],
   "source": [
    "from typing import List \n",
    "\n",
    "def sample(x: List[int], c: int) -> List[int]:\n",
    "    assert len(x) > 0\n",
    "    \n",
    "    s = np.sum(x)\n",
    "    res = []\n",
    "    for _ in range(c):\n",
    "        val = s * np.random.random()\n",
    "        cur, idx = 0, 0        \n",
    "        while cur + x[idx] <= val:\n",
    "            cur += x[idx]\n",
    "            idx += 1\n",
    "            \n",
    "        res.append(idx)\n",
    "    return res\n",
    "\n",
    "            \n",
    "sample([50, 3, 1, 7, 20], 5)   "
   ]
  },
  {
   "cell_type": "markdown",
   "metadata": {},
   "source": [
    "Реализуйте данный алгоритм более оптимальным способом на массивах `numpy`, без использования циклов. Проверьте корректность и идентичность алгоритмов семплирования с помощью статистических тестов."
   ]
  },
  {
   "cell_type": "code",
   "execution_count": null,
   "metadata": {},
   "outputs": [],
   "source": []
  },
  {
   "cell_type": "markdown",
   "metadata": {},
   "source": [
    "# Задание 2.16 (5 баллов)\n",
    "\n",
    "Есть следующий алгоритм \"случайного блуждания\""
   ]
  },
  {
   "cell_type": "code",
   "execution_count": 22,
   "metadata": {},
   "outputs": [
    {
     "data": {
      "text/plain": [
       "2096"
      ]
     },
     "execution_count": 22,
     "metadata": {},
     "output_type": "execute_result"
    }
   ],
   "source": [
    "import random \n",
    "\n",
    "def walk(n: int):\n",
    "    cur_position = 0\n",
    "    for i in range(n):\n",
    "        cur_position += random.choice([-3, -1, 0, 2, 3])\n",
    "\n",
    "    return cur_position\n",
    "\n",
    "walk(10_000)"
   ]
  },
  {
   "cell_type": "markdown",
   "metadata": {},
   "source": [
    "Реализуйте более эффективную версию с помощью `numpy`, сравните производительность (используя, например, magic `timeit`). Воспользовавшись [kdeplot()](https://seaborn.pydata.org/generated/seaborn.kdeplot.html) или аналогами, постройте график распределения значений `walk(10_000)` на каком-то разумном числе запусков. "
   ]
  },
  {
   "cell_type": "code",
   "execution_count": null,
   "metadata": {},
   "outputs": [],
   "source": []
  },
  {
   "cell_type": "markdown",
   "metadata": {},
   "source": [
    "# Задание 2.17 (5 баллов)\n",
    "\n",
    "Имеется функция, которая проделывает достаточно странные манипуляции с массивом `numpy`"
   ]
  },
  {
   "cell_type": "code",
   "execution_count": 23,
   "metadata": {},
   "outputs": [
    {
     "data": {
      "text/plain": [
       "0.00631553542110766"
      ]
     },
     "execution_count": 23,
     "metadata": {},
     "output_type": "execute_result"
    }
   ],
   "source": [
    "import numpy.typing as npt\n",
    "\n",
    "def strange_conv(a: npt.NDArray[np.float64]) -> np.float64:\n",
    "    x = a.shape[0]\n",
    "    y = a.shape[1]\n",
    "\n",
    "    t = 1.\n",
    "    for y in range(y - 5):\n",
    "        for x in range(x - 3):\n",
    "            c = 1.5 * a[y+1, x+2] - a[y+5, x+3] * a[y, x] + 0.2 * a[y+4, x]\n",
    "            t = 0.2 * t + 0.8 * c\n",
    "\n",
    "    return t\n",
    "\n",
    "\n",
    "a = np.random.random((10000, 10000))\n",
    "strange_conv(a)\n"
   ]
  },
  {
   "cell_type": "markdown",
   "metadata": {},
   "source": [
    "Оптимизируйте данную функцию с помощью (2 на выбор):\n",
    "- [Numba](https://numba.pydata.org)\n",
    "- `Cython` (+5 баллов)\n",
    "- [Taichi](https://github.com/taichi-dev/taichi) (+5 баллов)\n",
    "- `Pythran `[[1]](https://pythran.readthedocs.io/en/latest/), [[2]](https://serge-sans-paille.github.io/pythran-stories/pythran-tutorial.html) (+2 балла)\n",
    "\n",
    "Сравните производительность."
   ]
  },
  {
   "cell_type": "code",
   "execution_count": null,
   "metadata": {},
   "outputs": [],
   "source": []
  }
 ],
 "metadata": {
  "kernelspec": {
   "display_name": "Python 3.10.6 ('python-for-data-analysis')",
   "language": "python",
   "name": "python3"
  },
  "language_info": {
   "codemirror_mode": {
    "name": "ipython",
    "version": 3
   },
   "file_extension": ".py",
   "mimetype": "text/x-python",
   "name": "python",
   "nbconvert_exporter": "python",
   "pygments_lexer": "ipython3",
   "version": "3.10.6"
  },
  "orig_nbformat": 4,
  "vscode": {
   "interpreter": {
    "hash": "cdcb8b47a48146c8bfd997adddf099df095524100ba9341af35969a11f235150"
   }
  }
 },
 "nbformat": 4,
 "nbformat_minor": 2
}
