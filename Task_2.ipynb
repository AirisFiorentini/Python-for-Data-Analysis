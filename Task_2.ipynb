{
 "cells": [
  {
   "cell_type": "markdown",
   "metadata": {},
   "source": [
    "# Задание 2.\n",
    "\n",
    "**NB. Все упражнения ниже нужно делать без использования циклов Python в явном (`while`, `for`) и неявном виде (list comprehension, `map`, `reduce` и пр)**\n",
    "\n",
    "Задания по манипуляциям с массивами чаще всего решаются в одно/два выражения. "
   ]
  },
  {
   "cell_type": "code",
   "execution_count": 5,
   "metadata": {},
   "outputs": [
    {
     "data": {
      "text/plain": [
       "array([[ 6, 30, 82, ..., 33, 13, 58],\n",
       "       [99, 78, 81, ..., 49, 61, 50],\n",
       "       [11, 97, 18, ..., 25, 89, 21],\n",
       "       ...,\n",
       "       [75, 14, 64, ...,  2, 59, 80],\n",
       "       [97,  8, 32, ..., 19, 38, 46],\n",
       "       [16,  8, 86, ..., 20, 72, 21]])"
      ]
     },
     "execution_count": 5,
     "metadata": {},
     "output_type": "execute_result"
    }
   ],
   "source": [
    "%matplotlib inline\n",
    "\n",
    "import numpy as np\n",
    "import matplotlib.pyplot as plt\n",
    "import seaborn as sns\n",
    "sns.set_theme()\n",
    "\n",
    "A = np.random.randint(0, 100, size=(200, 50))\n",
    "A"
   ]
  },
  {
   "cell_type": "markdown",
   "metadata": {},
   "source": [
    "# Задание 2.1 (2 балла)\n",
    "\n",
    "Сгенерируйте новый массив, в котором столбцы массива `A` переставлены в случайном порядке"
   ]
  },
  {
   "cell_type": "code",
   "execution_count": 6,
   "metadata": {},
   "outputs": [
    {
     "data": {
      "text/plain": [
       "array([[81, 62, 31, ...,  5, 99,  3],\n",
       "       [36, 67, 60, ..., 57, 19, 61],\n",
       "       [49, 20, 50, ..., 69, 68, 87],\n",
       "       ...,\n",
       "       [19, 55,  6, ..., 70, 74, 65],\n",
       "       [84, 82, 20, ..., 61, 63, 99],\n",
       "       [83, 54, 68, ..., 67, 52,  6]])"
      ]
     },
     "execution_count": 6,
     "metadata": {},
     "output_type": "execute_result"
    }
   ],
   "source": [
    "B = np.transpose(np.random.permutation(np.transpose(A)))\n",
    "B"
   ]
  },
  {
   "cell_type": "markdown",
   "metadata": {},
   "source": [
    "# Задание 2.2 (5 баллов)\n",
    "\n",
    "Сгенерируйте новый массив, который содержит только те строки массива `A`, в которых: \n",
    "- сумма элементов по четным столбцам (индексы $0, 2, \\ldots$) больше среднего значения (по всему массиву) суммы элементов по нечетным столбцам (индексы $1, 3, \\ldots$) "
   ]
  },
  {
   "cell_type": "code",
   "execution_count": 7,
   "metadata": {},
   "outputs": [
    {
     "data": {
      "text/plain": [
       "array([[ 6, 30, 82, ..., 33, 13, 58],\n",
       "       [99, 78, 81, ..., 49, 61, 50],\n",
       "       [11, 97, 18, ..., 25, 89, 21],\n",
       "       ...,\n",
       "       [75, 14, 64, ...,  2, 59, 80],\n",
       "       [97,  8, 32, ..., 19, 38, 46],\n",
       "       [16,  8, 86, ..., 20, 72, 21]])"
      ]
     },
     "execution_count": 7,
     "metadata": {},
     "output_type": "execute_result"
    }
   ],
   "source": [
    "C = A[A[:,::2].sum(axis=1) > A[:,1::2].mean()]\n",
    "C"
   ]
  },
  {
   "cell_type": "markdown",
   "metadata": {},
   "source": [
    "# Задача 2.3 (3 балла)\n",
    "\n",
    "Найдите индекс строки массива `A`, в которой разница между максимальным и минимальным элементом максимальна"
   ]
  },
  {
   "cell_type": "code",
   "execution_count": 8,
   "metadata": {},
   "outputs": [
    {
     "data": {
      "text/plain": [
       "5"
      ]
     },
     "execution_count": 8,
     "metadata": {},
     "output_type": "execute_result"
    }
   ],
   "source": [
    "i = np.argmax(np.max(A, axis=1) - np.min(A, axis=1))\n",
    "i"
   ]
  },
  {
   "cell_type": "markdown",
   "metadata": {},
   "source": [
    "# Задание 2.4 (7 баллов)\n",
    "\n",
    "Сгенерируйте массив той же размерности, что и `A`, но в котором каждый элемент заменен на его порядковый номер (начиная с 1) в отсортированном по возрастанию массиве из элементов `A`\n",
    "\n",
    "Если `A` выглядит так:\n",
    "$$\n",
    "\\begin{pmatrix}\n",
    "12 & 14\\\\\n",
    "1 & 2\n",
    "\\end{pmatrix}\n",
    "$$\n",
    "то результат должен быть\n",
    "$$\n",
    "\\begin{pmatrix}\n",
    "3 & 4\\\\\n",
    "1 & 2\n",
    "\\end{pmatrix}\n",
    "$$\n",
    "\n",
    "*Tip: рассмотрите возможность неоднократного применения [argsort()](https://numpy.org/doc/stable/reference/generated/numpy.ndarray.argsort.html)*"
   ]
  },
  {
   "cell_type": "code",
   "execution_count": 9,
   "metadata": {},
   "outputs": [
    {
     "data": {
      "text/plain": [
       "array([[9014, 7766, 5924, ..., 2716, 9562, 5633],\n",
       "       [9240, 9582, 9587, ..., 9835, 7959, 8180],\n",
       "       [4148, 4951, 8451, ..., 3253, 6344, 6293],\n",
       "       ...,\n",
       "       [7509, 6232, 1170, ..., 1210, 3398, 5636],\n",
       "       [6384, 4697, 4443, ..., 5278, 5282, 8939],\n",
       "       [8953,  582, 8973, ..., 9269, 8736, 6447]])"
      ]
     },
     "execution_count": 9,
     "metadata": {},
     "output_type": "execute_result"
    }
   ],
   "source": [
    "D = np.argsort(A.reshape(1, len(A)*len(A[0]))).reshape(len(A),len(A[0])) + 1\n",
    "D"
   ]
  },
  {
   "cell_type": "markdown",
   "metadata": {},
   "source": [
    "# Задание 2.5 (2 балла)\n",
    "\n",
    "Примените $\\min-\\max$ - нормализацию к строкам массива `A`. То есть нужно получить новый массив, в каждой строке которого максимальный элемент равен $1$, минимальный - $0$. "
   ]
  },
  {
   "cell_type": "code",
   "execution_count": 10,
   "metadata": {},
   "outputs": [
    {
     "data": {
      "text/plain": [
       "array([[0.05102041, 0.29591837, 0.82653061, ..., 0.32653061, 0.12244898,\n",
       "        0.58163265],\n",
       "       [1.        , 0.78571429, 0.81632653, ..., 0.48979592, 0.6122449 ,\n",
       "        0.5       ],\n",
       "       [0.10204082, 0.97959184, 0.17346939, ..., 0.24489796, 0.89795918,\n",
       "        0.20408163],\n",
       "       ...,\n",
       "       [0.75510204, 0.13265306, 0.64285714, ..., 0.01020408, 0.59183673,\n",
       "        0.80612245],\n",
       "       [0.97959184, 0.07142857, 0.31632653, ..., 0.18367347, 0.37755102,\n",
       "        0.45918367],\n",
       "       [0.15306122, 0.07142857, 0.86734694, ..., 0.19387755, 0.7244898 ,\n",
       "        0.20408163]])"
      ]
     },
     "execution_count": 10,
     "metadata": {},
     "output_type": "execute_result"
    }
   ],
   "source": [
    "E = (A - A.min(axis=1)[:1]) / (A.max(axis=1)[:1] - A.min(axis=1)[:1])\n",
    "E"
   ]
  },
  {
   "cell_type": "markdown",
   "metadata": {},
   "source": [
    "# Задание 2.6 (2 балла)\n",
    "\n",
    "Сгенерируйте новый трехмерный массив, размерности $10 \\times 200 \\times 50$. Подмассивы по нулевой оси должны состоять из элементов `A`, умноженных на $1 - 10$ соответственно"
   ]
  },
  {
   "cell_type": "code",
   "execution_count": 11,
   "metadata": {},
   "outputs": [
    {
     "data": {
      "text/plain": [
       "array([[[  6,  30,  82, ...,  33,  13,  58],\n",
       "        [ 99,  78,  81, ...,  49,  61,  50],\n",
       "        [ 11,  97,  18, ...,  25,  89,  21],\n",
       "        ...,\n",
       "        [ 75,  14,  64, ...,   2,  59,  80],\n",
       "        [ 97,   8,  32, ...,  19,  38,  46],\n",
       "        [ 16,   8,  86, ...,  20,  72,  21]],\n",
       "\n",
       "       [[ 12,  60, 164, ...,  66,  26, 116],\n",
       "        [198, 156, 162, ...,  98, 122, 100],\n",
       "        [ 22, 194,  36, ...,  50, 178,  42],\n",
       "        ...,\n",
       "        [150,  28, 128, ...,   4, 118, 160],\n",
       "        [194,  16,  64, ...,  38,  76,  92],\n",
       "        [ 32,  16, 172, ...,  40, 144,  42]],\n",
       "\n",
       "       [[ 18,  90, 246, ...,  99,  39, 174],\n",
       "        [297, 234, 243, ..., 147, 183, 150],\n",
       "        [ 33, 291,  54, ...,  75, 267,  63],\n",
       "        ...,\n",
       "        [225,  42, 192, ...,   6, 177, 240],\n",
       "        [291,  24,  96, ...,  57, 114, 138],\n",
       "        [ 48,  24, 258, ...,  60, 216,  63]],\n",
       "\n",
       "       ...,\n",
       "\n",
       "       [[ 48, 240, 656, ..., 264, 104, 464],\n",
       "        [792, 624, 648, ..., 392, 488, 400],\n",
       "        [ 88, 776, 144, ..., 200, 712, 168],\n",
       "        ...,\n",
       "        [600, 112, 512, ...,  16, 472, 640],\n",
       "        [776,  64, 256, ..., 152, 304, 368],\n",
       "        [128,  64, 688, ..., 160, 576, 168]],\n",
       "\n",
       "       [[ 54, 270, 738, ..., 297, 117, 522],\n",
       "        [891, 702, 729, ..., 441, 549, 450],\n",
       "        [ 99, 873, 162, ..., 225, 801, 189],\n",
       "        ...,\n",
       "        [675, 126, 576, ...,  18, 531, 720],\n",
       "        [873,  72, 288, ..., 171, 342, 414],\n",
       "        [144,  72, 774, ..., 180, 648, 189]],\n",
       "\n",
       "       [[ 60, 300, 820, ..., 330, 130, 580],\n",
       "        [990, 780, 810, ..., 490, 610, 500],\n",
       "        [110, 970, 180, ..., 250, 890, 210],\n",
       "        ...,\n",
       "        [750, 140, 640, ...,  20, 590, 800],\n",
       "        [970,  80, 320, ..., 190, 380, 460],\n",
       "        [160,  80, 860, ..., 200, 720, 210]]])"
      ]
     },
     "execution_count": 11,
     "metadata": {},
     "output_type": "execute_result"
    }
   ],
   "source": [
    "c = np.arange(1, 11).reshape((-1, 1, 1))   # shape: (10, 1, 1)\n",
    "A * c   # shape: (200, 50) * (10, 1, 1) = (1, 200, 50) * (10, 1, 1) = (10, 200, 50)"
   ]
  },
  {
   "cell_type": "markdown",
   "metadata": {},
   "source": [
    "# Задание 2.7 (2 балла)\n",
    "\n",
    "Создайте новый массив, такой же размерности, как и `A`, в котором сначала сгруппированы четные столбцы `A`, потом  нечетные. Используйте [np.concat()](https://numpy.org/doc/stable/reference/generated/numpy.concatenate.html) "
   ]
  },
  {
   "cell_type": "code",
   "execution_count": 12,
   "metadata": {},
   "outputs": [
    {
     "data": {
      "text/plain": [
       "array([[ 6, 82, 14, ...,  3, 33, 58],\n",
       "       [99, 81, 83, ..., 61, 49, 50],\n",
       "       [11, 18, 82, ..., 87, 25, 21],\n",
       "       ...,\n",
       "       [75, 64, 87, ..., 65,  2, 80],\n",
       "       [97, 32, 97, ..., 99, 19, 46],\n",
       "       [16, 86,  3, ...,  6, 20, 21]])"
      ]
     },
     "execution_count": 12,
     "metadata": {},
     "output_type": "execute_result"
    }
   ],
   "source": [
    "a1 = A[:,1::2]\n",
    "a1\n",
    "a2 = A[:,0::2]\n",
    "F = np.concatenate((a2, a1), axis=1)\n",
    "F"
   ]
  },
  {
   "cell_type": "markdown",
   "metadata": {},
   "source": [
    "# Задание 2.8 (2 балла)\n",
    "\n",
    "Посчитайте количество строк массива `A`, в который все элементы больше 5. Используйте [np.all()](https://numpy.org/doc/stable/reference/generated/numpy.all.html) "
   ]
  },
  {
   "cell_type": "code",
   "execution_count": 13,
   "metadata": {},
   "outputs": [
    {
     "data": {
      "text/plain": [
       "7"
      ]
     },
     "execution_count": 13,
     "metadata": {},
     "output_type": "execute_result"
    }
   ],
   "source": [
    "len(A[np.all(A > 5, axis=1)])"
   ]
  },
  {
   "cell_type": "markdown",
   "metadata": {},
   "source": [
    "# Задание 2.9 (2 балла)\n",
    "\n",
    "Поделите массив `A` горизонтально на 10 частей и создайте новый массив размерности $20 \\times 50$, который является средним этих частей. Используйте [np.split()](https://numpy.org/doc/stable/reference/generated/numpy.split.html)"
   ]
  },
  {
   "cell_type": "code",
   "execution_count": 14,
   "metadata": {},
   "outputs": [
    {
     "data": {
      "text/plain": [
       "array([[40.1, 61.4, 52.3, 50.3, 37.5, 63.7, 46.3, 49.9, 56.2, 51.1, 53.7,\n",
       "        50.3, 54.9, 46.3, 45.8, 61. , 58.8, 60.9, 47.7, 29.1, 43.4, 62.4,\n",
       "        51.9, 64.1, 61.3, 55.7, 53.9, 65.4, 47.4, 33.3, 53.1, 51.4, 45.6,\n",
       "        59.8, 42.5, 42.6, 44.8, 36.5, 47.1, 53.1, 35.6, 39.2, 54.8, 49.6,\n",
       "        44. , 59.4, 50.4, 54.6, 54.9, 56.1],\n",
       "       [68.4, 56.7, 55. , 47.4, 35.6, 40.9, 68.3, 55. , 48.2, 52. , 43.7,\n",
       "        49.1, 44.5, 60.6, 48.4, 48.9, 66.8, 48.3, 38.9, 50.1, 63.2, 54.8,\n",
       "        37. , 47.8, 57.1, 34.1, 35.4, 49.6, 49.1, 43.1, 46.5, 52.6, 40.7,\n",
       "        62. , 39.6, 52. , 40.2, 46.1, 44.9, 64.4, 33.4, 57.9, 52.9, 42. ,\n",
       "        57.1, 47.1, 53.2, 39.8, 47.6, 49.4],\n",
       "       [42.5, 42.5, 38.9, 46. , 45. , 57.4, 48.9, 43.3, 56.6, 48.7, 36.2,\n",
       "        58.5, 59.9, 52.1, 40.7, 39.4, 55.8, 51.8, 50.6, 52.6, 39.9, 40.6,\n",
       "        46.3, 46.7, 44.3, 48.2, 72.4, 51.8, 48.5, 46.6, 49.8, 50.9, 55.9,\n",
       "        46.2, 56. , 33.7, 67.1, 61. , 59.3, 31.4, 49.6, 46.6, 56.5, 43.6,\n",
       "        60. , 53.7, 45.5, 36.9, 63.6, 55.5],\n",
       "       [55.2, 57.8, 59.8, 61. , 52.1, 34.5, 38.5, 48. , 43.6, 67.2, 35.8,\n",
       "        50.8, 51.9, 42.6, 40.3, 58.6, 62.8, 53.5, 46.3, 64.6, 45.2, 42.5,\n",
       "        46.6, 56.2, 45.3, 61.4, 33.6, 61.5, 47. , 38.9, 52.3, 47.5, 59.6,\n",
       "        34.4, 31.6, 39.2, 45.9, 39.9, 51.6, 62.5, 43.4, 68.5, 44.4, 51.6,\n",
       "        61.7, 58.3, 44.2, 56.1, 57. , 40. ],\n",
       "       [37.6, 43. , 26.3, 49.4, 61.6, 55. , 70.7, 57.8, 46.4, 53.1, 43.6,\n",
       "        62.5, 62.2, 38.7, 42.2, 45.4, 60.1, 27.9, 37.6, 57.9, 53.2, 55.1,\n",
       "        40.4, 45.6, 56.2, 48.5, 39.2, 46.1, 46.1, 39.2, 49.3, 61.2, 39. ,\n",
       "        48.5, 37.6, 67.5, 54.3, 49.5, 63.5, 54.4, 44.2, 53.9, 40.4, 49.5,\n",
       "        46. , 52.6, 38.9, 59. , 49.2, 64.3],\n",
       "       [48.6, 40. , 43.6, 57.7, 56.5, 56.6, 43.3, 56.7, 46.3, 51.7, 66.9,\n",
       "        39.7, 53.1, 46.3, 38.7, 32.4, 55.2, 40. , 56.1, 52.6, 52.8, 72.6,\n",
       "        40.2, 45. , 41.4, 37.3, 60.5, 51.1, 51.8, 55.7, 36.1, 60.4, 37.3,\n",
       "        49.4, 35.6, 61.1, 31.8, 44.1, 46.9, 50.5, 49.2, 48.8, 33.9, 56.4,\n",
       "        58. , 56. , 59.5, 55.2, 57.8, 47.4],\n",
       "       [39.5, 51.7, 39.4, 53.6, 59.7, 66.6, 62.9, 44.8, 36.2, 42.5, 40.1,\n",
       "        49.4, 27.9, 43.7, 67.9, 54.8, 45.7, 52. , 44.1, 57.6, 58.9, 44.9,\n",
       "        58. , 56.1, 35.6, 46.5, 60.6, 58.2, 72.4, 59.4, 56.6, 47.1, 57.4,\n",
       "        66.6, 55.3, 47.9, 58.3, 50.9, 53.5, 66.4, 43.4, 58.4, 37.2, 43.2,\n",
       "        64. , 60.8, 54.1, 34.3, 53.1, 67.6],\n",
       "       [47. , 60.1, 44.4, 42.1, 56.9, 54.7, 38.2, 44.6, 41.9, 49.6, 63.9,\n",
       "        44.6, 57.3, 61.1, 57.1, 45.2, 63.7, 45.5, 51.3, 64.4, 54.3, 44.6,\n",
       "        18.6, 54.7, 44.7, 52.6, 33.3, 43.3, 45. , 64.1, 57.6, 61.4, 54.3,\n",
       "        35.8, 61. , 29. , 55.6, 58.9, 42.4, 41.2, 55.7, 70. , 54.6, 46.9,\n",
       "        54.9, 36. , 48.3, 48.7, 68.5, 51.7],\n",
       "       [39.6, 51.7, 46.3, 59.6, 41.7, 43.6, 45.1, 49.8, 51.5, 42.8, 44.7,\n",
       "        59.5, 65.5, 59.5, 52.1, 44.5, 56. , 30.1, 35.4, 52.6, 47.4, 63.6,\n",
       "        61.1, 61.5, 53.6, 54.8, 55. , 64.4, 54.7, 48.6, 36. , 39.6, 52. ,\n",
       "        38.6, 33.8, 65.8, 55. , 55.9, 46.6, 43.6, 38.8, 46.3, 45.3, 36.8,\n",
       "        54.5, 47.1, 48.9, 58.5, 45.4, 27.5],\n",
       "       [61.5, 44.9, 59.6, 55.4, 41.4, 64.2, 54.9, 32.6, 49.1, 52.4, 35.4,\n",
       "        47.2, 34.5, 59.8, 53.2, 55.1, 34.2, 47.4, 37.5, 53.1, 43.2, 40.4,\n",
       "        60.9, 46.6, 45.3, 68. , 55.2, 44.5, 34.8, 55.1, 64.8, 46.1, 44.5,\n",
       "        44.8, 51.4, 56.2, 49.5, 53.6, 48.6, 51.3, 46.8, 41.2, 55.3, 50.8,\n",
       "        39. , 48.4, 48. , 63.8, 49.6, 55.3],\n",
       "       [46.8, 42.7, 58.1, 48.7, 40.7, 67.2, 70.3, 49.9, 59.4, 51.1, 45.9,\n",
       "        47.8, 33.2, 36.1, 37.9, 43.1, 44.5, 45.1, 54.3, 45.1, 55.2, 71.1,\n",
       "        43.3, 54.1, 40.7, 44.7, 63.7, 55.7, 50.8, 48. , 53.7, 60.3, 45.5,\n",
       "        74.7, 47.1, 51.1, 54.2, 53.7, 55.1, 56.3, 57.5, 54.9, 40.5, 42.8,\n",
       "        40.5, 45.5, 56.5, 48.4, 32.6, 63.9],\n",
       "       [33.9, 59.3, 49.5, 48.3, 41.6, 38.4, 52.4, 42.8, 54.4, 52. , 55.9,\n",
       "        52.6, 42.4, 51.5, 44.4, 68.6, 47.5, 55. , 35.4, 24.1, 51.3, 43.3,\n",
       "        42.4, 37.6, 45.6, 34.3, 61.6, 51.6, 55.7, 37.2, 38.1, 42.6, 67.4,\n",
       "        65.8, 48.8, 63.4, 50. , 52.7, 44.6, 52.4, 65.7, 59.6, 36. , 47. ,\n",
       "        43.6, 60.3, 33. , 54.4, 53. , 35.9],\n",
       "       [61.7, 58.7, 36.3, 50.4, 41. , 44.6, 49.2, 65.3, 51.7, 39. , 56.3,\n",
       "        55.6, 56.1, 67.3, 46.9, 35.3, 67.9, 51.1, 54.1, 33.7, 59.1, 42. ,\n",
       "        45.6, 70.2, 45.3, 48.8, 56. , 52.2, 55.4, 62.6, 54.6, 51.4, 54.5,\n",
       "        62.1, 48.7, 62.2, 43.7, 41. , 56. , 40.7, 46. , 37. , 58.8, 59.8,\n",
       "        49.9, 52.8, 39.4, 49.2, 42.3, 40.9],\n",
       "       [51.8, 49. , 46.2, 35.5, 63.5, 37.4, 43.7, 46.8, 42. , 37.9, 46.2,\n",
       "        46.8, 56.1, 52. , 44.7, 48.2, 55.2, 41. , 73.5, 46.6, 44.4, 38.7,\n",
       "        55.2, 46.4, 45. , 47.4, 41.8, 48.6, 57.8, 46.2, 37.9, 49.5, 61.6,\n",
       "        51.7, 57.2, 53.9, 48.4, 45.9, 46.8, 40. , 40.4, 36. , 51.6, 58.1,\n",
       "        59.9, 53.3, 59.6, 43.6, 42.9, 61.9],\n",
       "       [44.3, 53.1, 61.5, 63.4, 47.3, 60.6, 49.9, 46.6, 54.5, 56.7, 41.2,\n",
       "        39.4, 47.9, 33.9, 42.4, 46.9, 38.6, 37.9, 25.5, 46.3, 52.8, 61.1,\n",
       "        54.2, 61.3, 33.1, 62.1, 55.5, 49.9, 22.9, 59.1, 69.3, 63.9, 53.2,\n",
       "        40.6, 72.3, 59.2, 50.3, 52.2, 48. , 44.1, 62.9, 41. , 38.5, 63.9,\n",
       "        49. , 57.6, 42.1, 53.2, 51.7, 48.5],\n",
       "       [52.1, 52.2, 50.8, 52.2, 36.9, 49.1, 44.1, 55.9, 60.3, 45.8, 66. ,\n",
       "        47.3, 40.5, 49.4, 45. , 39.6, 52.4, 69.7, 46.6, 56.3, 49.3, 34.2,\n",
       "        34.9, 45.7, 52.4, 55.7, 48.9, 56.9, 44.7, 56.6, 38.6, 41.2, 43.1,\n",
       "        47.3, 48.4, 56.8, 45.9, 60.8, 45.3, 63.1, 67.2, 50.7, 48.6, 48.2,\n",
       "        52.2, 39.8, 51.7, 39.6, 51. , 48.7],\n",
       "       [64.9, 45.2, 42.5, 41.5, 56.9, 42.1, 40.5, 39.2, 49.5, 62.5, 49.7,\n",
       "        59.4, 47.9, 52.6, 57.7, 30.9, 59. , 48.1, 58.7, 59.4, 36.8, 65. ,\n",
       "        42.9, 55.5, 50.2, 32. , 64.5, 38.7, 43. , 51. , 61.1, 40.2, 53.9,\n",
       "        55.1, 50.3, 48.9, 51. , 61.9, 43.4, 54.4, 44.6, 37.3, 33.8, 60.2,\n",
       "        53.5, 58.6, 51.7, 41.3, 40.3, 46.3],\n",
       "       [61.3, 50.8, 50.2, 55.9, 47.1, 55. , 42.8, 57.7, 55.7, 60.1, 47.1,\n",
       "        42. , 65.2, 39.3, 63.7, 52.6, 45.9, 54.5, 37.8, 55.8, 57. , 68.8,\n",
       "        45.3, 56. , 53.4, 59.9, 63.6, 58.8, 50.9, 61.2, 65.6, 58.1, 49. ,\n",
       "        49.2, 33.4, 48.7, 39.6, 51.7, 35.8, 43.7, 69.5, 58.5, 42.1, 40.4,\n",
       "        53.9, 57.6, 57.2, 45.2, 31.9, 46.8],\n",
       "       [52.4, 38.2, 43.3, 52.9, 70.5, 48.1, 55.5, 60. , 37.4, 51.1, 54. ,\n",
       "        54.2, 61.4, 49.4, 54.7, 67.7, 64. , 53.5, 53.7, 39.5, 55.6, 36.4,\n",
       "        48.7, 25.9, 74.3, 43.6, 44. , 29.4, 63.1, 53.3, 51.5, 46.9, 54.6,\n",
       "        43.5, 59.1, 58.4, 43.3, 51.4, 45.4, 35.2, 67.3, 52.4, 46.6, 34.6,\n",
       "        56.7, 45.7, 39.9, 35.4, 39. , 50.1],\n",
       "       [28.5, 51.2, 54.5, 45.1, 53.2, 43.2, 36.6, 50.9, 38.8, 44.3, 51.3,\n",
       "        47.1, 52.3, 48.8, 50.1, 60.5, 46.9, 43.8, 43.5, 74.5, 53.3, 59.6,\n",
       "        67.3, 49.6, 43.4, 58. , 59.7, 36.8, 55. , 43.6, 33.4, 63.3, 44.3,\n",
       "        37.8, 56.1, 59.1, 55.4, 65. , 57. , 67.1, 66.3, 35.8, 30.2, 42.3,\n",
       "        45.8, 43.5, 59.6, 44.7, 75.6, 42.4]])"
      ]
     },
     "execution_count": 14,
     "metadata": {},
     "output_type": "execute_result"
    }
   ],
   "source": [
    "np.mean(np.split(A, 10), axis=0)"
   ]
  },
  {
   "cell_type": "markdown",
   "metadata": {},
   "source": [
    "# Задание 2.10 (4 балла)\n",
    "\n",
    "\"Разверните\" массив `A` в одномерный массив. Оставьте в нём только уникальные элементы в том же порядке, в котором они встречаются в массиве. Используйте [np.unique()](https://numpy.org/doc/stable/reference/generated/numpy.unique.html)"
   ]
  },
  {
   "cell_type": "code",
   "execution_count": 15,
   "metadata": {},
   "outputs": [
    {
     "data": {
      "text/plain": [
       "array([ 6, 30, 82, 81, 14, 78, 38, 32, 31, 10, 69, 51, 98, 45, 91, 62, 43,\n",
       "       84,  1, 50, 57, 99, 77, 18, 76, 96, 89,  5, 20, 28, 41, 60,  4, 23,\n",
       "       48, 34, 25,  3, 49, 33, 13, 58, 36, 83, 64, 53, 17, 67, 70, 68, 19,\n",
       "       26, 21,  9, 85, 74, 88, 72,  7, 35, 73, 61, 11, 97, 24, 55, 27, 56,\n",
       "       71, 79, 90, 29, 86, 94, 87, 93, 75, 42, 66, 12, 95,  8, 65, 15, 80,\n",
       "       46, 52, 47,  2,  0, 39, 40, 54, 37, 59, 92, 22, 16, 63, 44])"
      ]
     },
     "execution_count": 15,
     "metadata": {},
     "output_type": "execute_result"
    }
   ],
   "source": [
    "_, ind = np.unique(A, return_index=True)\n",
    "J = A.reshape((1, len(A) * len(A[0])))\n",
    "J[0][np.sort(ind)]  "
   ]
  },
  {
   "cell_type": "markdown",
   "metadata": {},
   "source": [
    "# Задание 2.11 (3 балла)\n",
    "\n",
    "Создайте одномерный массив размерности $200$, в котором каждый элемент - евклидово расстояние между соответствующей строкой `A` и \"средней\" строкой `A`"
   ]
  },
  {
   "cell_type": "code",
   "execution_count": 16,
   "metadata": {},
   "outputs": [
    {
     "data": {
      "text/plain": [
       "array([211.48725452, 181.13635423, 187.0787236 , 192.56442772,\n",
       "       188.64058107, 218.02460601, 203.69953074, 200.99151431,\n",
       "       203.49174142, 229.25673125, 203.84255891, 216.60849204,\n",
       "       212.85670961, 197.09809442, 228.05025504, 181.78294426,\n",
       "       227.6657612 , 209.21182764, 202.82363971, 205.47882817,\n",
       "       211.78129952, 205.66698526, 211.99195462, 198.2459806 ,\n",
       "       198.51538687, 198.78485562, 202.38023329, 206.44059394,\n",
       "       216.39828748, 205.80626527, 172.54448361, 216.63787486,\n",
       "       193.23252528, 208.65226772, 207.95198683, 217.87305668,\n",
       "       200.75340302, 182.96387301, 230.43098495, 233.13152688,\n",
       "       211.08078744, 181.046013  , 187.91646768, 194.2166286 ,\n",
       "       203.20757571, 212.50211487, 204.41927215, 206.61212168,\n",
       "       205.48739335, 209.34296937, 230.71733534, 215.23605373,\n",
       "       190.77787824, 200.54929276, 196.50775767, 200.05833855,\n",
       "       202.47876142, 212.19068977, 217.48277823, 216.23239541,\n",
       "       207.00823371, 212.45643983, 201.43321182, 201.07219804,\n",
       "       209.57175102, 217.86775536, 194.98181665, 192.81651595,\n",
       "       210.15884189, 182.91022067, 199.6573285 , 205.66153949,\n",
       "       191.61630626, 205.89637885, 197.18754734, 178.6180809 ,\n",
       "       198.02565194, 194.39955973, 205.8887778 , 190.14126019,\n",
       "       189.70476753, 215.53396212, 200.83112016, 189.95583388,\n",
       "       202.20096148, 191.1648211 , 195.53968606, 216.67588427,\n",
       "       197.84923256, 221.77350794, 196.22127516, 215.81322671,\n",
       "       204.20832212, 241.8927424 , 201.66992544, 184.5181531 ,\n",
       "       191.57298563, 207.92188154, 179.16118113, 214.08666195,\n",
       "       198.72108299, 203.9153472 , 213.47179866, 202.6070799 ,\n",
       "       193.72392425, 214.80302331, 228.9650166 , 184.86099866,\n",
       "       204.93208344, 207.64787219, 203.24472644, 213.11552929,\n",
       "       241.19653568, 184.24328706, 225.42774635, 191.46388387,\n",
       "       206.89651719, 197.5832453 , 217.72482363, 200.14469472,\n",
       "       210.8151295 , 174.76114793, 204.32681866, 216.77192813,\n",
       "       214.47328231, 192.69338034, 208.72069573, 215.43337445,\n",
       "       208.0097806 , 215.43599705, 213.62923214, 212.51312624,\n",
       "       188.38593054, 198.92970825, 227.919062  , 186.4255584 ,\n",
       "       213.3969513 , 192.93737021, 209.3733957 , 233.99912142,\n",
       "       192.00379899, 194.66147237, 212.61643592, 185.15495895,\n",
       "       213.33576546, 212.98802507, 191.2310875 , 207.64727021,\n",
       "       205.79659576, 160.71116584, 211.52127275, 222.70201801,\n",
       "       188.87326128, 212.26817667, 211.38507238, 195.82532733,\n",
       "       203.51088134, 197.54632071, 207.89273394, 199.71316638,\n",
       "       190.56219149, 190.57014148, 215.31451141, 201.50803663,\n",
       "       200.01579644, 207.1727029 , 207.99069408, 195.73453662,\n",
       "       203.40459391, 213.5594035 , 201.39878059, 199.10969043,\n",
       "       182.29596492, 203.07820864, 206.23350558, 214.62769818,\n",
       "       201.84553209, 199.48906944, 213.21594412, 217.84097141,\n",
       "       185.56877115, 218.69087504, 179.86236078, 227.99372541,\n",
       "       212.48962051, 198.51029904, 230.45070802, 212.47326614,\n",
       "       212.51740829, 209.37922252, 187.34750819, 227.77863997,\n",
       "       204.81916127, 217.05247943, 188.2455546 , 218.47113957,\n",
       "       210.44112912, 197.01842255, 212.84818257, 223.64346363])"
      ]
     },
     "execution_count": 16,
     "metadata": {},
     "output_type": "execute_result"
    }
   ],
   "source": [
    "np.linalg.norm(A - np.mean(A, axis=0), axis=1)"
   ]
  },
  {
   "cell_type": "markdown",
   "metadata": {},
   "source": [
    "# Задание 2.12 (2 балла)\n",
    "\n",
    "Создайте новый массив, который состоит из элементов `A`, измененных по следующим правилам:\n",
    "- если элемент меньше $50$, то он умножается на $2$\n",
    "- в противном случае он умножается на $3$\n",
    "\n",
    "Используйте [np.where()](https://numpy.org/doc/stable/reference/generated/numpy.where.html)"
   ]
  },
  {
   "cell_type": "code",
   "execution_count": 17,
   "metadata": {},
   "outputs": [
    {
     "data": {
      "text/plain": [
       "array([[ 12,  60, 246, ...,  66,  26, 174],\n",
       "       [297, 234, 243, ...,  98, 183, 150],\n",
       "       [ 22, 291,  36, ...,  50, 267,  42],\n",
       "       ...,\n",
       "       [225,  28, 192, ...,   4, 177, 240],\n",
       "       [291,  16,  64, ...,  38,  76,  92],\n",
       "       [ 32,  16, 258, ...,  40, 216,  42]])"
      ]
     },
     "execution_count": 17,
     "metadata": {},
     "output_type": "execute_result"
    }
   ],
   "source": [
    "np.where(A < 50, 2 * A, 3 * A)"
   ]
  },
  {
   "cell_type": "markdown",
   "metadata": {},
   "source": [
    "# Задание 2.13 (7 баллов)\n",
    "\n",
    "Разверните массив `A` в одномерный массив. Создайте три новых массива, подсчитав скользящие средние по окнам $3$, $5$, $10$. Найдите сумму этих массивов, выровнив из размерности нулями справа\n",
    "\n",
    "*Tip: реализуйте функцию, которая считает скользящее среднее. Используйте [np.cumsum()](https://numpy.org/doc/stable/reference/generated/numpy.cumsum.html) или [np.convolve()](https://numpy.org/doc/stable/reference/generated/numpy.convolve.html)*"
   ]
  },
  {
   "cell_type": "code",
   "execution_count": 18,
   "metadata": {},
   "outputs": [
    {
     "data": {
      "text/plain": [
       "array([122.13333333, 167.83333333, 166.2       , ...,  59.13333333,\n",
       "        47.33333333,  37.66666667])"
      ]
     },
     "execution_count": 18,
     "metadata": {},
     "output_type": "execute_result"
    }
   ],
   "source": [
    "def moving_average(arr:np.ndarray, window_size: int) -> np.ndarray:\n",
    "    return np.convolve(arr[0], np.ones(window_size) / window_size, mode='valid') \n",
    "    \n",
    "V = A.reshape((1, len(A) * len(A[0])))\n",
    "V3 = moving_average(V, 3)\n",
    "V5 = moving_average(V, 5)\n",
    "V10 = moving_average(V, 10)\n",
    "\n",
    "V5 = np.concatenate((V5,  np.zeros(V3.shape[0] - V5.shape[0])))\n",
    "V10 = np.concatenate((V10,  np.zeros(V3.shape[0] - V10.shape[0])))\n",
    "V3 + V5 + V10"
   ]
  },
  {
   "cell_type": "markdown",
   "metadata": {},
   "source": [
    "# Задание 2.14 (8 баллов)\n",
    "\n",
    "Постройте график функции $$f(x) = (5  \\sin(2x) - \\cos^2(x) - 1 + |x^3| - x^2) / (x^2 + 1)$$  \n",
    "\n",
    "и производной от этой функции.  Найдите минимум с помощью `scipy` и обозначьте его на графике. На этой же оси постройте графики скользящего среднего этой функции с окном $1$, $2$, $5$."
   ]
  },
  {
   "cell_type": "code",
   "execution_count": 19,
   "metadata": {},
   "outputs": [
    {
     "name": "stdout",
     "output_type": "stream",
     "text": [
      "Optimization terminated successfully.\n",
      "         Current function value: -4.882074\n",
      "         Iterations: 6\n",
      "         Function evaluations: 16\n",
      "         Gradient evaluations: 8\n"
     ]
    },
    {
     "data": {
      "image/png": "[encoded data removed]",
      "text/plain": [
       "<Figure size 640x480 with 1 Axes>"
      ]
     },
     "metadata": {},
     "output_type": "display_data"
    }
   ],
   "source": [
    "import numpy as np\n",
    "import scipy \n",
    "import matplotlib.pyplot as plt\n",
    "from scipy.misc import derivative\n",
    "from typing import Union, Callable\n",
    "\n",
    "\n",
    "def f(x: np.ndarray) -> np.ndarray:\n",
    "    return (5 * np.sin(2 * x) - np.cos(x) ** 2 - 1 + np.abs(x ** 3) - x ** 2) / (x ** 2 + 1)\n",
    "\n",
    "def df(f: Callable[[np.ndarray], np.ndarray], x: np.ndarray) -> np.ndarray:\n",
    "    return derivative(f, x, dx=1e-6)\n",
    "\n",
    "\n",
    "x = np.linspace(-10, 10, 200)  # (-10, 10, 1000)\n",
    "y = f(x) ## (5 * np.sin(2 * x) - np.cos(x) ** 2 - 1 + np.abs(x ** 3) - x ** 2) / (x ** 2 + 1)\n",
    "dy = df(f, x)\n",
    "\n",
    "# print(y)\n",
    "\n",
    "plt.plot(x, y, label='f(x)')\n",
    "plt.plot(x, dy, label='f\\'(x)')\n",
    "\n",
    "min_f_p = scipy.optimize.fmin_bfgs(f, 0, full_output=True)\n",
    "x_min, y_min = min_f_p[0][0], min_f_p[1]\n",
    "plt.plot(x_min, y_min, '*', label='min ') \n",
    "\n",
    "Y = y.reshape((1, len(x)))\n",
    "m_a_1 = moving_average(Y, 1)\n",
    "m_a_2 = moving_average(Y, 2)\n",
    "m_a_5 = moving_average(Y, 5)\n",
    "\n",
    "plt.plot(x, m_a_1, label='f moving average 1')  # ?\n",
    "plt.plot(x[:len(m_a_2)], m_a_2, label='f moving average 2')\n",
    "plt.plot(x[:len(m_a_5)], m_a_5, label='f moving average 5')\n",
    "\n",
    "plt.legend()\n",
    "plt.show()"
   ]
  },
  {
   "cell_type": "markdown",
   "metadata": {},
   "source": [
    "# Задание 2.15 (10 баллов)\n",
    "\n",
    "Есть следующий алгоритм семплинирования, на вход функции подается вектор из целых положительных чисел и число семплов."
   ]
  },
  {
   "cell_type": "code",
   "execution_count": 20,
   "metadata": {},
   "outputs": [
    {
     "data": {
      "text/plain": [
       "[4, 3, 3, 0, 4]"
      ]
     },
     "execution_count": 20,
     "metadata": {},
     "output_type": "execute_result"
    }
   ],
   "source": [
    "from typing import List \n",
    "\n",
    "def sample(x: List[int], c: int) -> List[int]:\n",
    "    assert len(x) > 0\n",
    "    \n",
    "    s = np.sum(x)\n",
    "    res = []\n",
    "    for _ in range(c):\n",
    "        val = s * np.random.random()\n",
    "        cur, idx = 0, 0        \n",
    "        while cur + x[idx] <= val:\n",
    "            cur += x[idx]\n",
    "            idx += 1    \n",
    "        res.append(idx)\n",
    "    return res\n",
    "\n",
    "            \n",
    "sample([50, 3, 1, 7, 20], 5)   "
   ]
  },
  {
   "cell_type": "markdown",
   "metadata": {},
   "source": [
    "Реализуйте данный алгоритм более оптимальным способом на массивах `numpy`, без использования циклов. Проверьте корректность и идентичность алгоритмов семплирования с помощью статистических тестов."
   ]
  },
  {
   "cell_type": "code",
   "execution_count": 41,
   "metadata": {},
   "outputs": [
    {
     "data": {
      "text/plain": [
       "array([0, 0, 4, 0, 3])"
      ]
     },
     "execution_count": 41,
     "metadata": {},
     "output_type": "execute_result"
    }
   ],
   "source": [
    "def sample_np(x: np.ndarray, c: int) -> np.ndarray:\n",
    "    assert len(x) > 0\n",
    "    \n",
    "    s = np.sum(x)\n",
    "    val = s * np.random.random(size=c)\n",
    "    cur = np.cumsum(x)\n",
    "    idx = np.searchsorted(cur, val)\n",
    "    return idx\n",
    "\n",
    "sample_np(np.array([50, 3, 1, 7, 20]), 5)\n"
   ]
  },
  {
   "cell_type": "code",
   "execution_count": 45,
   "metadata": {},
   "outputs": [
    {
     "data": {
      "text/plain": [
       "array([0, 0, 0, 0, 4])"
      ]
     },
     "execution_count": 45,
     "metadata": {},
     "output_type": "execute_result"
    }
   ],
   "source": [
    "def numpy_sample(x: np.ndarray, c: int) -> np.ndarray:\n",
    "    assert len(x) > 0\n",
    "    return np.random.choice(np.arange(len(x)), size=c, p=x/np.sum(x))\n",
    "\n",
    "numpy_sample(np.array([50, 3, 1, 7, 20]), 5)"
   ]
  },
  {
   "cell_type": "code",
   "execution_count": null,
   "metadata": {},
   "outputs": [],
   "source": [
    "# realize statistic tests"
   ]
  },
  {
   "cell_type": "markdown",
   "metadata": {},
   "source": [
    "# Задание 2.16 (5 баллов)\n",
    "\n",
    "Есть следующий алгоритм \"случайного блуждания\""
   ]
  },
  {
   "cell_type": "code",
   "execution_count": 23,
   "metadata": {},
   "outputs": [
    {
     "data": {
      "text/plain": [
       "2172"
      ]
     },
     "execution_count": 23,
     "metadata": {},
     "output_type": "execute_result"
    }
   ],
   "source": [
    "import random \n",
    "\n",
    "def walk(n: int):\n",
    "    cur_position = 0\n",
    "    for i in range(n):\n",
    "        cur_position += random.choice([-3, -1, 0, 2, 3])\n",
    "\n",
    "    return cur_position\n",
    "\n",
    "walk(10_000)"
   ]
  },
  {
   "cell_type": "markdown",
   "metadata": {},
   "source": [
    "Реализуйте более эффективную версию с помощью `numpy`, сравните производительность (используя, например, magic `timeit`). Воспользовавшись [kdeplot()](https://seaborn.pydata.org/generated/seaborn.kdeplot.html) или аналогами, постройте график распределения значений `walk(10_000)` на каком-то разумном числе запусков. "
   ]
  },
  {
   "cell_type": "code",
   "execution_count": 24,
   "metadata": {},
   "outputs": [],
   "source": [
    "import timeit "
   ]
  },
  {
   "cell_type": "code",
   "execution_count": 25,
   "metadata": {},
   "outputs": [
    {
     "data": {
      "text/plain": [
       "2275"
      ]
     },
     "execution_count": 25,
     "metadata": {},
     "output_type": "execute_result"
    }
   ],
   "source": [
    "def walk_np(n: int) -> int:\n",
    "    return np.sum(np.random.choice([-3, -1, 0, 2, 3], size=n))\n",
    "\n",
    "walk_np(10_000)"
   ]
  },
  {
   "cell_type": "code",
   "execution_count": 26,
   "metadata": {},
   "outputs": [
    {
     "name": "stdout",
     "output_type": "stream",
     "text": [
      "Function walk:  4.43715145799797\n",
      "Function walk_np:  0.16636750000179745\n"
     ]
    }
   ],
   "source": [
    "print(\"Function walk: \", timeit.timeit('walk(10000)', globals=globals(), number=1000))\n",
    "print(\"Function walk_np: \", timeit.timeit('walk_np(10000)', globals=globals(), number=1000))"
   ]
  },
  {
   "cell_type": "code",
   "execution_count": 27,
   "metadata": {},
   "outputs": [
    {
     "data": {
      "image/png": "[encoded data removed]",
      "text/plain": [
       "<Figure size 640x480 with 1 Axes>"
      ]
     },
     "metadata": {},
     "output_type": "display_data"
    }
   ],
   "source": [
    "walk_values = [walk(10000) for _ in range(1000)]\n",
    "walk_np_values = [walk_np(10000) for _ in range(1000)]\n",
    "sns.kdeplot(walk_values, label='walk')\n",
    "sns.kdeplot(walk_np_values, label='walk_np')\n",
    "plt.legend()\n",
    "plt.show()\n"
   ]
  },
  {
   "cell_type": "code",
   "execution_count": 49,
   "metadata": {},
   "outputs": [
    {
     "name": "stdout",
     "output_type": "stream",
     "text": [
      "44 ms ± 479 µs per loop (mean ± std. dev. of 7 runs, 10 loops each)\n"
     ]
    }
   ],
   "source": [
    "%timeit walk(100000)"
   ]
  },
  {
   "cell_type": "code",
   "execution_count": 50,
   "metadata": {},
   "outputs": [
    {
     "name": "stdout",
     "output_type": "stream",
     "text": [
      "1.52 ms ± 6.37 µs per loop (mean ± std. dev. of 7 runs, 1,000 loops each)\n"
     ]
    }
   ],
   "source": [
    "%timeit walk_np(100000)"
   ]
  },
  {
   "cell_type": "code",
   "execution_count": 51,
   "metadata": {},
   "outputs": [
    {
     "data": {
      "text/plain": [
       "(26.488095238095237, 28.94736842105263)"
      ]
     },
     "execution_count": 51,
     "metadata": {},
     "output_type": "execute_result"
    }
   ],
   "source": [
    "4.45*1000/168, 44/1.52"
   ]
  },
  {
   "attachments": {},
   "cell_type": "markdown",
   "metadata": {},
   "source": [
    "Производительность увеличилась в несколько (~26-29) раз. "
   ]
  },
  {
   "cell_type": "markdown",
   "metadata": {},
   "source": [
    "# Задание 2.17 (5 баллов)\n",
    "\n",
    "Имеется функция, которая проделывает достаточно странные манипуляции с массивом `numpy`"
   ]
  },
  {
   "cell_type": "code",
   "execution_count": 28,
   "metadata": {},
   "outputs": [
    {
     "data": {
      "text/plain": [
       "1.1967797043071207"
      ]
     },
     "execution_count": 28,
     "metadata": {},
     "output_type": "execute_result"
    }
   ],
   "source": [
    "import numpy.typing as npt\n",
    "\n",
    "def strange_conv(a: npt.NDArray[np.float64]) -> np.float64:\n",
    "    x = a.shape[0]\n",
    "    y = a.shape[1]\n",
    "\n",
    "    t = 1.\n",
    "    for y in range(y - 5):\n",
    "        for x in range(x - 3):\n",
    "            c = 1.5 * a[y+1, x+2] - a[y+5, x+3] * a[y, x] + 0.2 * a[y+4, x]\n",
    "            t = 0.2 * t + 0.8 * c\n",
    "\n",
    "    return t\n",
    "\n",
    "\n",
    "a = np.random.random((10000, 10000))\n",
    "strange_conv(a)\n"
   ]
  },
  {
   "cell_type": "markdown",
   "metadata": {},
   "source": [
    "Оптимизируйте данную функцию с помощью (2 на выбор):\n",
    "- [Numba](https://numba.pydata.org)\n",
    "- `Cython` (+5 баллов)\n",
    "- [Taichi](https://github.com/taichi-dev/taichi) (+5 баллов)\n",
    "- `Pythran `[[1]](https://pythran.readthedocs.io/en/latest/), [[2]](https://serge-sans-paille.github.io/pythran-stories/pythran-tutorial.html) (+2 балла)\n",
    "\n",
    "Сравните производительность."
   ]
  },
  {
   "cell_type": "code",
   "execution_count": 29,
   "metadata": {},
   "outputs": [
    {
     "data": {
      "text/plain": [
       "0.6284409600939949"
      ]
     },
     "execution_count": 29,
     "metadata": {},
     "output_type": "execute_result"
    }
   ],
   "source": [
    "from numba import njit\n",
    "\n",
    "strange_conv_numba = njit(strange_conv)\n",
    "\n",
    "a = np.random.random((10000, 10000))\n",
    "strange_conv_numba(a)"
   ]
  },
  {
   "cell_type": "code",
   "execution_count": 30,
   "metadata": {},
   "outputs": [],
   "source": [
    "import cython"
   ]
  },
  {
   "cell_type": "code",
   "execution_count": 31,
   "metadata": {},
   "outputs": [
    {
     "name": "stdout",
     "output_type": "stream",
     "text": [
      "The Cython extension is already loaded. To reload it, use:\n",
      "  %reload_ext Cython\n"
     ]
    }
   ],
   "source": [
    "%load_ext Cython"
   ]
  },
  {
   "cell_type": "code",
   "execution_count": 32,
   "metadata": {},
   "outputs": [],
   "source": [
    "%%cython\n",
    "\n",
    "cimport numpy\n",
    "\n",
    "def strange_conv_cython(numpy.ndarray['double', ndim=2] a):\n",
    "    cdef int x = a.shape[0]\n",
    "    cdef int y = a.shape[1]\n",
    "\n",
    "    cdef double t = 1.\n",
    "    cdef double c = 0.\n",
    "    for y in range(y - 5):\n",
    "        for x in range(x - 3):\n",
    "            c = 1.5 * a[y+1, x+2] - a[y+5, x+3] * a[y, x] + 0.2 * a[y+4, x]\n",
    "            t = 0.2 * t + 0.8 * c\n",
    "\n",
    "    return t\n"
   ]
  },
  {
   "cell_type": "code",
   "execution_count": 38,
   "metadata": {},
   "outputs": [
    {
     "name": "stdout",
     "output_type": "stream",
     "text": [
      "12.4 s ± 19.2 ms per loop (mean ± std. dev. of 7 runs, 1 loop each)\n"
     ]
    }
   ],
   "source": [
    "%timeit strange_conv(a)"
   ]
  },
  {
   "cell_type": "code",
   "execution_count": 37,
   "metadata": {},
   "outputs": [
    {
     "name": "stdout",
     "output_type": "stream",
     "text": [
      "28.3 ms ± 76.8 µs per loop (mean ± std. dev. of 7 runs, 10 loops each)\n"
     ]
    }
   ],
   "source": [
    "%timeit strange_conv_numba(a)"
   ]
  },
  {
   "cell_type": "code",
   "execution_count": 36,
   "metadata": {},
   "outputs": [
    {
     "name": "stdout",
     "output_type": "stream",
     "text": [
      "42.3 ms ± 211 µs per loop (mean ± std. dev. of 7 runs, 10 loops each)\n"
     ]
    }
   ],
   "source": [
    "%timeit strange_conv_cython(a)"
   ]
  },
  {
   "attachments": {},
   "cell_type": "markdown",
   "metadata": {},
   "source": [
    "Производительность с помощью Numba улучшается в ~438 раз, производительность с Cython больше в 293 раз"
   ]
  },
  {
   "cell_type": "code",
   "execution_count": 40,
   "metadata": {},
   "outputs": [
    {
     "name": "stdout",
     "output_type": "stream",
     "text": [
      "438.1625441696113 293.1442080378251\n"
     ]
    }
   ],
   "source": [
    "print(12.4*1000/28.3,12.4*1000/42.3)"
   ]
  }
 ],
 "metadata": {
  "kernelspec": {
   "display_name": "Python 3.10.6 ('python-for-data-analysis')",
   "language": "python",
   "name": "python3"
  },
  "language_info": {
   "codemirror_mode": {
    "name": "ipython",
    "version": 3
   },
   "file_extension": ".py",
   "mimetype": "text/x-python",
   "name": "python",
   "nbconvert_exporter": "python",
   "pygments_lexer": "ipython3",
   "version": "3.10.6"
  },
  "orig_nbformat": 4,
  "vscode": {
   "interpreter": {
    "hash": "cdcb8b47a48146c8bfd997adddf099df095524100ba9341af35969a11f235150"
   }
  }
 },
 "nbformat": 4,
 "nbformat_minor": 2
}
