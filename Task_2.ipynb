{
 "cells": [
  {
   "cell_type": "markdown",
   "metadata": {},
   "source": [
    "# Задание 2.\n",
    "\n",
    "**NB. Все упражнения ниже нужно делать без использования циклов Python в явном (`while`, `for`) и неявном виде (list comprehension, `map`, `reduce` и пр)**\n",
    "\n",
    "Задания по манипуляциям с массивами чаще всего решаются в одно/два выражения. "
   ]
  },
  {
   "cell_type": "code",
   "execution_count": 127,
   "metadata": {},
   "outputs": [
    {
     "data": {
      "text/plain": [
       "array([[90, 52, 29, ..., 35, 91, 88],\n",
       "       [16, 79, 11, ...,  6, 11, 45],\n",
       "       [74, 68,  3, ..., 94, 28, 12],\n",
       "       ...,\n",
       "       [91, 98, 10, ..., 12, 86, 41],\n",
       "       [39, 85, 17, ..., 64, 45, 95],\n",
       "       [51, 81, 80, ..., 51, 18, 56]])"
      ]
     },
     "execution_count": 127,
     "metadata": {},
     "output_type": "execute_result"
    }
   ],
   "source": [
    "%matplotlib inline\n",
    "\n",
    "import numpy as np\n",
    "import matplotlib.pyplot as plt\n",
    "import seaborn as sns\n",
    "sns.set_theme()\n",
    "\n",
    "A = np.random.randint(0, 100, size=(200, 50))\n",
    "A"
   ]
  },
  {
   "cell_type": "markdown",
   "metadata": {},
   "source": [
    "# Задание 2.1 (2 балла)\n",
    "\n",
    "Сгенерируйте новый массив, в котором столбцы массива `A` переставлены в случайном порядке"
   ]
  },
  {
   "cell_type": "code",
   "execution_count": 128,
   "metadata": {},
   "outputs": [
    {
     "data": {
      "text/plain": [
       "array([[78, 29, 62, ..., 77, 29, 14],\n",
       "       [14, 37, 49, ..., 25, 11, 29],\n",
       "       [13, 84, 64, ..., 91,  3, 26],\n",
       "       ...,\n",
       "       [36, 80, 20, ..., 95, 10, 81],\n",
       "       [48, 71, 16, ..., 12, 17, 97],\n",
       "       [ 0, 77, 71, ..., 96, 80, 30]])"
      ]
     },
     "execution_count": 128,
     "metadata": {},
     "output_type": "execute_result"
    }
   ],
   "source": [
    "B = np.transpose(np.random.permutation(np.transpose(A)))\n",
    "B"
   ]
  },
  {
   "cell_type": "markdown",
   "metadata": {},
   "source": [
    "# Задание 2.2 (5 баллов)\n",
    "\n",
    "Сгенерируйте новый массив, который содержит только те строки массива `A`, в которых: \n",
    "- сумма элементов по четным столбцам (индексы $0, 2, \\ldots$) больше среднего значения (по всему массиву) суммы элементов по нечетным столбцам (индексы $1, 3, \\ldots$) "
   ]
  },
  {
   "cell_type": "code",
   "execution_count": 129,
   "metadata": {},
   "outputs": [
    {
     "data": {
      "text/plain": [
       "array([[45, 69, 24, ..., 90,  6, 48],\n",
       "       [ 9, 69, 22, ...,  6, 17, 55],\n",
       "       [50, 52, 54, ..., 42, 64, 21],\n",
       "       ...,\n",
       "       [ 9,  5, 70, ..., 44, 27, 64],\n",
       "       [91, 98, 10, ..., 12, 86, 41],\n",
       "       [39, 85, 17, ..., 64, 45, 95]])"
      ]
     },
     "execution_count": 129,
     "metadata": {},
     "output_type": "execute_result"
    }
   ],
   "source": [
    "C = A[A[:,::2].sum(axis=1) > A[:,1::2].sum(axis=1).mean()]\n",
    "C"
   ]
  },
  {
   "cell_type": "markdown",
   "metadata": {},
   "source": [
    "# Задача 2.3 (3 балла)\n",
    "\n",
    "Найдите индекс строки массива `A`, в которой разница между максимальным и минимальным элементом максимальна"
   ]
  },
  {
   "cell_type": "code",
   "execution_count": 130,
   "metadata": {},
   "outputs": [
    {
     "data": {
      "text/plain": [
       "3"
      ]
     },
     "execution_count": 130,
     "metadata": {},
     "output_type": "execute_result"
    }
   ],
   "source": [
    "i = np.argmax(np.max(A, axis=1) - np.min(A, axis=1))\n",
    "i"
   ]
  },
  {
   "cell_type": "markdown",
   "metadata": {},
   "source": [
    "# Задание 2.4 (7 баллов)\n",
    "\n",
    "Сгенерируйте массив той же размерности, что и `A`, но в котором каждый элемент заменен на его порядковый номер (начиная с 1) в отсортированном по возрастанию массиве из элементов `A`\n",
    "\n",
    "Если `A` выглядит так:\n",
    "$$\n",
    "\\begin{pmatrix}\n",
    "12 & 14\\\\\n",
    "1 & 2\n",
    "\\end{pmatrix}\n",
    "$$\n",
    "то результат должен быть\n",
    "$$\n",
    "\\begin{pmatrix}\n",
    "3 & 4\\\\\n",
    "1 & 2\n",
    "\\end{pmatrix}\n",
    "$$\n",
    "\n",
    "*Tip: рассмотрите возможность неоднократного применения [argsort()](https://numpy.org/doc/stable/reference/generated/numpy.ndarray.argsort.html)*"
   ]
  },
  {
   "cell_type": "code",
   "execution_count": 131,
   "metadata": {},
   "outputs": [
    {
     "data": {
      "text/plain": [
       "array([[6718, 2149,  736, ...,  513, 4086, 6557],\n",
       "       [2177, 4649, 2092, ..., 1203, 7334, 5369],\n",
       "       [6209, 7077, 5363, ..., 8583, 9741, 9942],\n",
       "       ...,\n",
       "       [1060, 6496, 9216, ...,  198, 3255, 7285],\n",
       "       [8852, 9313, 2458, ..., 3772,  334, 8528],\n",
       "       [1669, 8219, 6512, ..., 1043, 1293, 3977]])"
      ]
     },
     "execution_count": 131,
     "metadata": {},
     "output_type": "execute_result"
    }
   ],
   "source": [
    "D = np.argsort(A.reshape(1, len(A)*len(A[0]))).reshape(len(A),len(A[0])) + 1\n",
    "D"
   ]
  },
  {
   "cell_type": "markdown",
   "metadata": {},
   "source": [
    "# Задание 2.5 (2 балла)\n",
    "\n",
    "Примените $\\min-\\max$ - нормализацию к строкам массива `A`. То есть нужно получить новый массив, в каждой строке которого максимальный элемент равен $1$, минимальный - $0$. "
   ]
  },
  {
   "cell_type": "code",
   "execution_count": 132,
   "metadata": {},
   "outputs": [
    {
     "data": {
      "text/plain": [
       "array([[0.97826087, 0.56521739, 0.31521739, ..., 0.38043478, 0.98913043,\n",
       "        0.95652174],\n",
       "       [0.14736842, 0.81052632, 0.09473684, ..., 0.04210526, 0.09473684,\n",
       "        0.45263158],\n",
       "       [0.7628866 , 0.70103093, 0.03092784, ..., 0.96907216, 0.28865979,\n",
       "        0.12371134],\n",
       "       ...,\n",
       "       [0.92708333, 1.        , 0.08333333, ..., 0.10416667, 0.875     ,\n",
       "        0.40625   ],\n",
       "       [0.39393939, 0.85858586, 0.17171717, ..., 0.64646465, 0.45454545,\n",
       "        0.95959596],\n",
       "       [0.53125   , 0.84375   , 0.83333333, ..., 0.53125   , 0.1875    ,\n",
       "        0.58333333]])"
      ]
     },
     "execution_count": 132,
     "metadata": {},
     "output_type": "execute_result"
    }
   ],
   "source": [
    "A_min = np.tile(A.min(axis=1).reshape((A.shape[0], 1)), (1, A.shape[1]))\n",
    "A_max = np.tile(A.max(axis=1).reshape((A.shape[0], 1)), (1, A.shape[1]))\n",
    "E = (A-A_min)/(A_max - A_min)\n",
    "E"
   ]
  },
  {
   "cell_type": "markdown",
   "metadata": {},
   "source": [
    "# Задание 2.6 (2 балла)\n",
    "\n",
    "Сгенерируйте новый трехмерный массив, размерности $10 \\times 200 \\times 50$. Подмассивы по нулевой оси должны состоять из элементов `A`, умноженных на $1 - 10$ соответственно"
   ]
  },
  {
   "cell_type": "code",
   "execution_count": 133,
   "metadata": {},
   "outputs": [
    {
     "data": {
      "text/plain": [
       "array([[[ 90,  52,  29, ...,  35,  91,  88],\n",
       "        [ 16,  79,  11, ...,   6,  11,  45],\n",
       "        [ 74,  68,   3, ...,  94,  28,  12],\n",
       "        ...,\n",
       "        [ 91,  98,  10, ...,  12,  86,  41],\n",
       "        [ 39,  85,  17, ...,  64,  45,  95],\n",
       "        [ 51,  81,  80, ...,  51,  18,  56]],\n",
       "\n",
       "       [[180, 104,  58, ...,  70, 182, 176],\n",
       "        [ 32, 158,  22, ...,  12,  22,  90],\n",
       "        [148, 136,   6, ..., 188,  56,  24],\n",
       "        ...,\n",
       "        [182, 196,  20, ...,  24, 172,  82],\n",
       "        [ 78, 170,  34, ..., 128,  90, 190],\n",
       "        [102, 162, 160, ..., 102,  36, 112]],\n",
       "\n",
       "       [[270, 156,  87, ..., 105, 273, 264],\n",
       "        [ 48, 237,  33, ...,  18,  33, 135],\n",
       "        [222, 204,   9, ..., 282,  84,  36],\n",
       "        ...,\n",
       "        [273, 294,  30, ...,  36, 258, 123],\n",
       "        [117, 255,  51, ..., 192, 135, 285],\n",
       "        [153, 243, 240, ..., 153,  54, 168]],\n",
       "\n",
       "       ...,\n",
       "\n",
       "       [[720, 416, 232, ..., 280, 728, 704],\n",
       "        [128, 632,  88, ...,  48,  88, 360],\n",
       "        [592, 544,  24, ..., 752, 224,  96],\n",
       "        ...,\n",
       "        [728, 784,  80, ...,  96, 688, 328],\n",
       "        [312, 680, 136, ..., 512, 360, 760],\n",
       "        [408, 648, 640, ..., 408, 144, 448]],\n",
       "\n",
       "       [[810, 468, 261, ..., 315, 819, 792],\n",
       "        [144, 711,  99, ...,  54,  99, 405],\n",
       "        [666, 612,  27, ..., 846, 252, 108],\n",
       "        ...,\n",
       "        [819, 882,  90, ..., 108, 774, 369],\n",
       "        [351, 765, 153, ..., 576, 405, 855],\n",
       "        [459, 729, 720, ..., 459, 162, 504]],\n",
       "\n",
       "       [[900, 520, 290, ..., 350, 910, 880],\n",
       "        [160, 790, 110, ...,  60, 110, 450],\n",
       "        [740, 680,  30, ..., 940, 280, 120],\n",
       "        ...,\n",
       "        [910, 980, 100, ..., 120, 860, 410],\n",
       "        [390, 850, 170, ..., 640, 450, 950],\n",
       "        [510, 810, 800, ..., 510, 180, 560]]])"
      ]
     },
     "execution_count": 133,
     "metadata": {},
     "output_type": "execute_result"
    }
   ],
   "source": [
    "c = np.arange(1, 11).reshape((-1, 1, 1))   # shape: (10, 1, 1)\n",
    "A * c   # shape: (200, 50) * (10, 1, 1) = (1, 200, 50) * (10, 1, 1) = (10, 200, 50)"
   ]
  },
  {
   "cell_type": "markdown",
   "metadata": {},
   "source": [
    "# Задание 2.7 (2 балла)\n",
    "\n",
    "Создайте новый массив, такой же размерности, как и `A`, в котором сначала сгруппированы четные столбцы `A`, потом  нечетные. Используйте [np.concat()](https://numpy.org/doc/stable/reference/generated/numpy.concatenate.html) "
   ]
  },
  {
   "cell_type": "code",
   "execution_count": 134,
   "metadata": {},
   "outputs": [
    {
     "data": {
      "text/plain": [
       "array([[90, 29, 12, ..., 39, 35, 88],\n",
       "       [16, 11, 28, ..., 67,  6, 45],\n",
       "       [74,  3, 90, ..., 66, 94, 12],\n",
       "       ...,\n",
       "       [91, 10, 90, ..., 82, 12, 41],\n",
       "       [39, 17,  0, ...,  9, 64, 95],\n",
       "       [51, 80,  9, ..., 23, 51, 56]])"
      ]
     },
     "execution_count": 134,
     "metadata": {},
     "output_type": "execute_result"
    }
   ],
   "source": [
    "a1 = A[:,1::2]\n",
    "a1\n",
    "a2 = A[:,0::2]\n",
    "F = np.concatenate((a2, a1), axis=1)\n",
    "F"
   ]
  },
  {
   "cell_type": "markdown",
   "metadata": {},
   "source": [
    "# Задание 2.8 (2 балла)\n",
    "\n",
    "Посчитайте количество строк массива `A`, в который все элементы больше 5. Используйте [np.all()](https://numpy.org/doc/stable/reference/generated/numpy.all.html) "
   ]
  },
  {
   "cell_type": "code",
   "execution_count": 135,
   "metadata": {},
   "outputs": [
    {
     "data": {
      "text/plain": [
       "7"
      ]
     },
     "execution_count": 135,
     "metadata": {},
     "output_type": "execute_result"
    }
   ],
   "source": [
    "len(A[np.all(A > 5, axis=1)])"
   ]
  },
  {
   "cell_type": "markdown",
   "metadata": {},
   "source": [
    "# Задание 2.9 (2 балла)\n",
    "\n",
    "Поделите массив `A` горизонтально на 10 частей и создайте новый массив размерности $20 \\times 50$, который является средним этих частей. Используйте [np.split()](https://numpy.org/doc/stable/reference/generated/numpy.split.html)"
   ]
  },
  {
   "cell_type": "code",
   "execution_count": 136,
   "metadata": {},
   "outputs": [
    {
     "data": {
      "text/plain": [
       "array([[37.9, 41.5, 60. , 44.3, 44.3, 45.3, 58.3, 63.3, 58.2, 47.7, 44.3,\n",
       "        50.1, 49.5, 35.2, 40.5, 51.4, 63.9, 44.8, 38.4, 53.4, 69.8, 50. ,\n",
       "        55.2, 57.4, 55. , 59. , 48.9, 49.7, 59.4, 53.5, 48.4, 60.2, 37.9,\n",
       "        49.4, 55.5, 47.3, 53.2, 38.8, 55. , 38. , 55.8, 55.6, 59.9, 55.1,\n",
       "        57.8, 53.4, 54. , 37.6, 63.8, 47.8],\n",
       "       [38.8, 47.1, 51.2, 45.2, 24. , 49.8, 65.2, 59.2, 52.7, 66.3, 42.5,\n",
       "        38.3, 65.8, 63.5, 40.1, 46.9, 59.4, 40.4, 40.8, 49.7, 56.3, 55.3,\n",
       "        38.9, 51.6, 49.2, 49.8, 29.8, 61.5, 57.4, 56.1, 42.1, 44.7, 48.2,\n",
       "        43.8, 45.6, 42.4, 52.7, 49.9, 31.6, 41.8, 43.4, 60.1, 39.2, 49.4,\n",
       "        56.7, 33.4, 59. , 55.3, 50. , 57.1],\n",
       "       [61.9, 51.4, 57.5, 26.5, 51.6, 47.1, 43.4, 31.5, 48.2, 40.3, 37.8,\n",
       "        62.1, 52.5, 57.6, 48.8, 49.2, 58.8, 53.6, 56.1, 42.5, 48.1, 40.9,\n",
       "        50.1, 45.1, 47.4, 50.7, 50.9, 48.5, 55.4, 42.5, 68.5, 46.8, 44.2,\n",
       "        32.6, 54.4, 53.8, 49. , 43.1, 30.5, 51.6, 32.9, 59.8, 54.1, 59.6,\n",
       "        30.1, 62.2, 58.6, 49.5, 53.2, 50.5],\n",
       "       [43. , 35.7, 53.8, 71.8, 51.4, 56. , 53.1, 48. , 62.1, 30.3, 58.7,\n",
       "        53.9, 44.6, 69.2, 62.8, 39.6, 55.5, 42.1, 33.1, 50.1, 42.1, 50.9,\n",
       "        42.9, 52.1, 48.6, 47.2, 51.6, 42.1, 49.1, 45. , 61.1, 51.2, 52.8,\n",
       "        56.5, 31.6, 37.7, 60.5, 55.9, 48.2, 44. , 61.8, 44. , 46.7, 42.4,\n",
       "        48.9, 51.1, 55.3, 62.6, 50. , 46.3],\n",
       "       [54. , 60.1, 40.5, 41.5, 48. , 30.7, 74.5, 41.4, 39.8, 45.4, 57.3,\n",
       "        38.1, 55.5, 45.2, 51.1, 55.6, 34.6, 60.4, 62.6, 39.9, 45.8, 43.9,\n",
       "        48.2, 49.2, 66.1, 44.5, 58.5, 47.8, 41.9, 46.4, 53.9, 48.4, 58.5,\n",
       "        56.4, 49.2, 51.3, 71.6, 66. , 57.7, 40.7, 44.4, 55.3, 58.6, 50.5,\n",
       "        52.1, 52.2, 52. , 41. , 29.4, 49.5],\n",
       "       [51. , 54.4, 63.2, 57.9, 45.7, 52.7, 58.4, 48.3, 32.3, 47.6, 33. ,\n",
       "        48.1, 61.1, 62.1, 40.8, 56. , 57.5, 48.9, 56.8, 54.6, 46.1, 56.1,\n",
       "        51.5, 49. , 39.3, 41.3, 51.2, 54.9, 31.3, 44.7, 54.7, 44.4, 46.6,\n",
       "        53.1, 52.8, 44.3, 68.4, 30.9, 67. , 52.2, 38.8, 46.1, 64.5, 51.8,\n",
       "        47.4, 56.3, 49. , 45.7, 47.9, 42.3],\n",
       "       [47.2, 41.3, 52.4, 61.8, 67.6, 51.3, 47.9, 38.6, 57.8, 42.6, 53.3,\n",
       "        47.7, 49.4, 55.3, 49.4, 55.7, 49. , 51.2, 53.1, 45.5, 49.5, 38.8,\n",
       "        55.7, 50.3, 48.1, 54.5, 50.8, 53.3, 70.3, 57.7, 48.3, 48.6, 44.4,\n",
       "        57. , 45. , 39.4, 52.3, 49.2, 52.9, 37.4, 48.3, 39.5, 38. , 58.9,\n",
       "        48.4, 58.9, 49.8, 39.1, 44.1, 46.3],\n",
       "       [48.5, 54.4, 45.8, 59.4, 46.5, 51.1, 60.7, 36.2, 55.5, 56.8, 50.5,\n",
       "        60.1, 41.1, 28. , 49.5, 52.6, 59.2, 29.2, 45.7, 70. , 53.8, 44.4,\n",
       "        64. , 60.9, 37.1, 50.7, 59. , 57.7, 58.4, 42.4, 33.4, 60.8, 51. ,\n",
       "        60.3, 54.7, 42. , 56.8, 52.3, 51.7, 62. , 38.5, 51.1, 63.3, 48.3,\n",
       "        54.7, 48.4, 55.5, 49.1, 46.7, 32. ],\n",
       "       [66.4, 44.3, 57. , 55.8, 43. , 64.5, 66.1, 37. , 61.5, 55.2, 38.9,\n",
       "        52.6, 46.6, 64.6, 38.7, 48. , 59.3, 38.7, 58.8, 53.6, 67.1, 47. ,\n",
       "        42.4, 46.5, 36.2, 40.4, 52.3, 58.2, 39. , 55.4, 44.9, 46.6, 42.8,\n",
       "        51.3, 47.7, 50.6, 41.4, 67.3, 34.6, 53.1, 56.1, 66.4, 53.3, 51. ,\n",
       "        40.1, 46.7, 61.7, 46.8, 55.8, 41.5],\n",
       "       [37.7, 38.4, 58.4, 41.7, 62.6, 55.4, 53.9, 49.7, 41.6, 61.1, 53.5,\n",
       "        54.8, 75.9, 55.5, 47.9, 50.3, 33.9, 52.1, 65.9, 51. , 40. , 32.7,\n",
       "        60. , 43.4, 50.2, 59. , 63.2, 58. , 43.9, 59.8, 40.3, 31.8, 61.6,\n",
       "        53.6, 56.4, 55.6, 29.3, 54.3, 62.7, 40.9, 45.7, 36.4, 49. , 35.2,\n",
       "        55.9, 42.4, 52.3, 28.8, 41.4, 43.4],\n",
       "       [43.1, 63. , 59.7, 39.9, 44.3, 42.3, 47.3, 56.8, 48.4, 51.9, 54.4,\n",
       "        52.1, 59.1, 53.2, 46.7, 50.3, 48.5, 39.8, 41.5, 53. , 53. , 50. ,\n",
       "        47.4, 46.8, 51.2, 47.9, 55.4, 58.4, 39.8, 52.5, 49.1, 32.4, 36. ,\n",
       "        50.7, 54.2, 43.9, 47.3, 54.1, 59.9, 52.2, 56.2, 37.3, 58.7, 47.3,\n",
       "        38.3, 47. , 41.3, 44.2, 51.9, 48.8],\n",
       "       [43. , 58.9, 60.8, 59.5, 73.4, 55. , 39.7, 36.6, 56.2, 51. , 49.2,\n",
       "        50.5, 57.2, 50.5, 53.6, 53.9, 61.2, 61.2, 52.2, 45.6, 36.2, 49.5,\n",
       "        54.8, 53.8, 64.2, 54. , 51.3, 45.1, 55.2, 45.3, 67.1, 48. , 40.1,\n",
       "        49.5, 61.9, 30.9, 32.8, 63. , 28.2, 54.9, 29.4, 51.6, 43.6, 52.1,\n",
       "        25.3, 37.8, 31.4, 44.2, 60.7, 45.6],\n",
       "       [66.5, 50.4, 57.3, 45.7, 53.2, 55.4, 41.2, 39.2, 31. , 48.9, 60. ,\n",
       "        42.1, 51. , 49. , 65.9, 40.3, 55.4, 59.7, 34. , 58.2, 44.5, 60.4,\n",
       "        62.2, 46.8, 51.8, 39.9, 47.8, 44.2, 54.9, 53.5, 59.3, 51.1, 51.6,\n",
       "        59. , 46. , 37.3, 58.1, 55.7, 42.4, 44.7, 52.9, 44. , 43.8, 56.9,\n",
       "        42.6, 58.7, 54.5, 53.5, 36.1, 42. ],\n",
       "       [43.4, 52.2, 46.9, 42. , 40.1, 56.9, 49.6, 46.7, 53.9, 38.9, 55.9,\n",
       "        47.1, 41.6, 54.1, 65. , 59.6, 36.8, 29.1, 58.5, 38.9, 41.3, 54. ,\n",
       "        40.1, 58.3, 52.6, 55.2, 41.5, 64.2, 38.7, 70.8, 49.3, 43.2, 49.2,\n",
       "        55.5, 50.5, 55.1, 53.9, 58.7, 42.1, 55.6, 57. , 54. , 57.7, 37. ,\n",
       "        55.5, 38. , 44.7, 51.9, 49. , 52.4],\n",
       "       [42.5, 43.2, 59.1, 59.7, 61.1, 41. , 45.3, 47.7, 48. , 63.5, 61.3,\n",
       "        38.6, 48.3, 58.8, 46.4, 51.5, 46. , 42. , 66.4, 60.9, 40.7, 31.3,\n",
       "        55.1, 67.2, 49.5, 58. , 59.8, 44.6, 61.2, 49. , 63.4, 45.2, 53.2,\n",
       "        37.4, 49.1, 54.9, 51. , 43.5, 50.4, 53.6, 36.1, 54.6, 60.1, 49.8,\n",
       "        55.6, 35.8, 44.8, 69.8, 45.7, 53.3],\n",
       "       [40.2, 71.9, 30.1, 48.7, 44.9, 50.9, 48.8, 45.4, 35.2, 53.1, 52.5,\n",
       "        55.8, 49.8, 54.3, 58.3, 64.9, 47.3, 41.5, 49.9, 51.1, 48.8, 60.5,\n",
       "        48.2, 43. , 53.4, 60.1, 43.6, 64.9, 40.5, 55.4, 46.8, 50.7, 41. ,\n",
       "        38.7, 59.5, 59.6, 54.7, 64.4, 38.2, 46.8, 53.1, 45.7, 54.2, 61. ,\n",
       "        47.1, 48. , 57. , 53.3, 45.2, 59.8],\n",
       "       [63.4, 39.2, 59.9, 60.8, 61.2, 53.1, 62.2, 43.1, 32.7, 49.5, 52.4,\n",
       "        50.5, 39.5, 67.6, 55.1, 53.9, 62.2, 69.1, 46.2, 64. , 39.2, 36.4,\n",
       "        46.4, 48.5, 44. , 50.6, 47.3, 33.2, 61.2, 45.2, 49. , 46.7, 53.9,\n",
       "        54.9, 53.4, 45.8, 45.4, 58.7, 31.2, 50.1, 38.1, 48.8, 48.3, 72.7,\n",
       "        45.7, 53.6, 59.6, 33. , 45.9, 40.9],\n",
       "       [50.7, 42.1, 41.3, 54.5, 50.5, 50.4, 47.9, 47.4, 48.7, 65.2, 48.7,\n",
       "        65.1, 60.4, 49.2, 49.4, 51.6, 44.4, 40. , 42.4, 48.8, 43.3, 50.8,\n",
       "        50.9, 43.1, 32.9, 51.1, 52.9, 47.4, 40.2, 52.1, 42.9, 47.6, 57.6,\n",
       "        48.1, 39.9, 57.7, 53.1, 44.8, 53.2, 64.4, 45.8, 30.1, 65.9, 41.7,\n",
       "        50.1, 61.2, 42.9, 45.1, 46.2, 31.8],\n",
       "       [62.7, 48.4, 45.4, 54.4, 51.6, 53.9, 49.6, 41.1, 58.8, 45.6, 57.5,\n",
       "        47.7, 58.1, 68.5, 62.4, 52.4, 38.9, 50.9, 38.7, 39.9, 56.7, 64.7,\n",
       "        39.3, 63.6, 33.7, 51.6, 51.8, 73.6, 55.1, 53. , 41.2, 35.1, 53.3,\n",
       "        47.7, 51.6, 52.8, 43.9, 61.5, 54.1, 53.6, 60.2, 38.9, 56.1, 55.9,\n",
       "        43.7, 39.9, 48.3, 33.1, 54.2, 63.6],\n",
       "       [53.3, 38.9, 48.2, 54.5, 51.1, 30. , 58.9, 53. , 45.9, 52.8, 42.9,\n",
       "        53.8, 29.5, 58.2, 64.8, 53.1, 47.8, 53.1, 59.1, 44.1, 45.5, 42.1,\n",
       "        45.7, 59.3, 44.3, 45.1, 61.4, 31.6, 56.4, 56. , 38.5, 47.3, 46.7,\n",
       "        50.4, 50.8, 39.5, 55.3, 41. , 54.3, 41.9, 62.4, 64. , 68.5, 49.1,\n",
       "        41.5, 60.1, 59.3, 58.3, 56.9, 51.4]])"
      ]
     },
     "execution_count": 136,
     "metadata": {},
     "output_type": "execute_result"
    }
   ],
   "source": [
    "np.mean(np.split(A, 10), axis=0)"
   ]
  },
  {
   "cell_type": "markdown",
   "metadata": {},
   "source": [
    "# Задание 2.10 (4 балла)\n",
    "\n",
    "\"Разверните\" массив `A` в одномерный массив. Оставьте в нём только уникальные элементы в том же порядке, в котором они встречаются в массиве. Используйте [np.unique()](https://numpy.org/doc/stable/reference/generated/numpy.unique.html)"
   ]
  },
  {
   "cell_type": "code",
   "execution_count": 137,
   "metadata": {},
   "outputs": [
    {
     "data": {
      "text/plain": [
       "array([90, 52, 29, 60, 12,  4, 71, 62, 80, 91, 65, 56, 48, 70, 39, 28, 34,\n",
       "        0, 33, 14, 92, 69, 78, 20, 77, 11, 87, 41,  9, 40, 35, 25, 53, 22,\n",
       "       38, 61, 88, 16, 79, 37, 45, 97, 81, 96, 49, 63, 18, 89, 76, 21, 47,\n",
       "       95, 17, 10,  2, 58, 84, 43, 26, 36, 67,  6, 74, 68,  3, 46, 32, 15,\n",
       "       27, 93, 94, 64, 50, 13, 86, 85,  1, 72, 82, 66, 55, 83, 59, 19, 54,\n",
       "        5, 99, 24, 57, 75,  8, 98, 73, 31, 30, 23,  7, 44, 42, 51])"
      ]
     },
     "execution_count": 137,
     "metadata": {},
     "output_type": "execute_result"
    }
   ],
   "source": [
    "_, ind = np.unique(A, return_index=True)\n",
    "J = A.reshape((1, len(A) * len(A[0])))\n",
    "J[0][np.sort(ind)]  "
   ]
  },
  {
   "cell_type": "markdown",
   "metadata": {},
   "source": [
    "# Задание 2.11 (3 балла)\n",
    "\n",
    "Создайте одномерный массив размерности $200$, в котором каждый элемент - евклидово расстояние между соответствующей строкой `A` и \"средней\" строкой `A`"
   ]
  },
  {
   "cell_type": "code",
   "execution_count": 138,
   "metadata": {},
   "outputs": [
    {
     "data": {
      "text/plain": [
       "array([188.35273465, 223.81734216, 240.59399961, 210.48442377,\n",
       "       211.22339513, 220.71085757, 201.20738717, 219.53077837,\n",
       "       182.84890661, 214.11285027, 200.08498857, 219.9775276 ,\n",
       "       196.75782742, 222.04119584, 200.31455926, 197.28642287,\n",
       "       190.33636712, 224.09034484, 206.94937219, 182.87687839,\n",
       "       184.33803907, 234.51535696, 216.80740912, 170.87317709,\n",
       "       200.0817899 , 187.17225395, 192.61329822, 183.45733196,\n",
       "       188.64334775, 177.25073385, 207.20907955, 221.13530394,\n",
       "       216.36261842, 199.25880821, 204.0746497 , 202.46573204,\n",
       "       204.40543694, 187.81286604, 202.69144691, 202.0988685 ,\n",
       "       208.90306999, 226.99306741, 218.58207303, 187.31992059,\n",
       "       180.25601973, 215.07536505, 206.2263384 , 207.84037781,\n",
       "       189.21512268, 214.19739179, 204.32210514, 202.06457545,\n",
       "       213.41818725, 183.91139891, 199.71004644, 191.51888327,\n",
       "       202.184823  , 206.72109871, 188.03955076, 210.60173943,\n",
       "       198.49632906, 207.00693865, 213.41600842, 198.05300465,\n",
       "       192.21761795, 207.12772062, 198.81107276, 196.11051132,\n",
       "       185.82723872, 217.39370426, 204.38236874, 204.20064312,\n",
       "       217.26056395, 205.1621131 , 199.29293176, 229.02052888,\n",
       "       178.68783576, 209.13206987, 206.3340802 , 203.68149806,\n",
       "       198.92391171, 219.48073412, 195.84772822, 204.41725135,\n",
       "       200.18427173, 196.57777761, 198.76906864, 193.56637789,\n",
       "       230.52943988, 206.89628477, 203.64712777, 206.71055283,\n",
       "       209.40705014, 231.63210626, 208.58166902, 193.85018094,\n",
       "       186.27539464, 218.13546857, 198.46781263, 207.11499861,\n",
       "       205.98604965, 199.11226143, 218.43342842, 218.16487492,\n",
       "       204.60829077, 202.85931739, 213.75547396, 200.38296497,\n",
       "       191.54812098, 180.45629014, 212.23923447, 202.68720396,\n",
       "       201.91838116, 207.93350536, 207.12035788, 185.65729894,\n",
       "       193.83168639, 210.72919269, 206.83448129, 195.3466218 ,\n",
       "       201.60556205, 224.7899078 , 215.66771351, 183.76265303,\n",
       "       194.34109872, 210.48850954, 192.92665096, 202.61049492,\n",
       "       198.01876843, 188.95301704, 205.38440216, 200.65919528,\n",
       "       217.46391114, 197.56609691, 193.79004786, 222.56734408,\n",
       "       184.00375716, 206.57577944, 183.91270388, 209.27511235,\n",
       "       171.24997124, 198.72642665, 201.25809959, 171.41164677,\n",
       "       216.70976593, 203.88593049, 223.02569953, 189.44160749,\n",
       "       196.06787766, 208.60712512, 187.63449216, 214.70121716,\n",
       "       241.9730205 , 193.38508901, 201.6934373 , 193.45454931,\n",
       "       205.07672381, 201.74147479, 206.77101501, 217.42019835,\n",
       "       194.78889252, 202.25543911, 215.71507284, 189.56524642,\n",
       "       219.62637057, 210.28847484, 217.19793427, 183.82070789,\n",
       "       211.50820942, 193.9919912 , 199.48541964, 200.62385863,\n",
       "       198.63877429, 192.6425515 , 208.48705631, 213.73259613,\n",
       "       220.69472728, 222.77974021, 210.35896142, 197.88707045,\n",
       "       203.64563008, 182.6901274 , 193.75201328, 211.85816635,\n",
       "       202.95933743, 186.7902638 , 205.71558679, 197.40717477,\n",
       "       211.38602757, 224.16768868, 220.45696326, 212.5663253 ,\n",
       "       226.53026873, 196.79108885, 200.95855953, 197.99950164,\n",
       "       201.36812719, 212.06902803, 217.72788671, 189.62329142])"
      ]
     },
     "execution_count": 138,
     "metadata": {},
     "output_type": "execute_result"
    }
   ],
   "source": [
    "np.linalg.norm(A - np.mean(A, axis=0), axis=1)"
   ]
  },
  {
   "cell_type": "markdown",
   "metadata": {},
   "source": [
    "# Задание 2.12 (2 балла)\n",
    "\n",
    "Создайте новый массив, который состоит из элементов `A`, измененных по следующим правилам:\n",
    "- если элемент меньше $50$, то он умножается на $2$\n",
    "- в противном случае он умножается на $3$\n",
    "\n",
    "Используйте [np.where()](https://numpy.org/doc/stable/reference/generated/numpy.where.html)"
   ]
  },
  {
   "cell_type": "code",
   "execution_count": 139,
   "metadata": {},
   "outputs": [
    {
     "data": {
      "text/plain": [
       "array([[270, 156,  58, ...,  70, 273, 264],\n",
       "       [ 32, 237,  22, ...,  12,  22,  90],\n",
       "       [222, 204,   6, ..., 282,  56,  24],\n",
       "       ...,\n",
       "       [273, 294,  20, ...,  24, 258,  82],\n",
       "       [ 78, 255,  34, ..., 192,  90, 285],\n",
       "       [153, 243, 240, ..., 153,  36, 168]])"
      ]
     },
     "execution_count": 139,
     "metadata": {},
     "output_type": "execute_result"
    }
   ],
   "source": [
    "np.where(A < 50, 2 * A, 3 * A)"
   ]
  },
  {
   "cell_type": "markdown",
   "metadata": {},
   "source": [
    "# Задание 2.13 (7 баллов)\n",
    "\n",
    "Разверните массив `A` в одномерный массив. Создайте три новых массива, подсчитав скользящие средние по окнам $3$, $5$, $10$. Найдите сумму этих массивов, выровнив из размерности нулями справа\n",
    "\n",
    "*Tip: реализуйте функцию, которая считает скользящее среднее. Используйте [np.cumsum()](https://numpy.org/doc/stable/reference/generated/numpy.cumsum.html) или [np.convolve()](https://numpy.org/doc/stable/reference/generated/numpy.convolve.html)*"
   ]
  },
  {
   "cell_type": "code",
   "execution_count": 140,
   "metadata": {},
   "outputs": [
    {
     "data": {
      "text/plain": [
       "array([160.7       , 131.        , 119.16666667, ...,  60.13333333,\n",
       "        26.66666667,  41.66666667])"
      ]
     },
     "execution_count": 140,
     "metadata": {},
     "output_type": "execute_result"
    }
   ],
   "source": [
    "def moving_average(arr: np.ndarray, window_size: int) -> np.ndarray:\n",
    "    return np.convolve(arr[0], np.ones(window_size) / window_size, mode='valid') \n",
    "    \n",
    "V = A.reshape((1, len(A) * len(A[0])))\n",
    "V3 = moving_average(V, 3)\n",
    "V5 = moving_average(V, 5)\n",
    "V10 = moving_average(V, 10)\n",
    "\n",
    "V5 = np.concatenate((V5,  np.zeros(V3.shape[0] - V5.shape[0])))\n",
    "V10 = np.concatenate((V10,  np.zeros(V3.shape[0] - V10.shape[0])))\n",
    "V3 + V5 + V10"
   ]
  },
  {
   "cell_type": "markdown",
   "metadata": {},
   "source": [
    "# Задание 2.14 (8 баллов)\n",
    "\n",
    "Постройте график функции $$f(x) = (5  \\sin(2x) - \\cos^2(x) - 1 + |x^3| - x^2) / (x^2 + 1)$$  \n",
    "\n",
    "и производной от этой функции.  Найдите минимум с помощью `scipy` и обозначьте его на графике. На этой же оси постройте графики скользящего среднего этой функции с окном $1$, $2$, $5$."
   ]
  },
  {
   "cell_type": "code",
   "execution_count": 158,
   "metadata": {},
   "outputs": [
    {
     "name": "stdout",
     "output_type": "stream",
     "text": [
      "Optimization terminated successfully.\n",
      "         Current function value: -4.882074\n",
      "         Iterations: 6\n",
      "         Function evaluations: 16\n",
      "         Gradient evaluations: 8\n",
      "(200,) (200,) (200,)\n"
     ]
    },
    {
     "data": {
      "image/png": "[encoded data removed]",
      "text/plain": [
       "<Figure size 640x480 with 1 Axes>"
      ]
     },
     "metadata": {},
     "output_type": "display_data"
    }
   ],
   "source": [
    "import numpy as np\n",
    "import scipy \n",
    "import matplotlib.pyplot as plt\n",
    "from scipy.misc import derivative\n",
    "from typing import Union, Callable\n",
    "\n",
    "\n",
    "def mov_avg(func: Callable[[np.ndarray], np.ndarray], x: np.ndarray, window: float) -> np.ndarray:\n",
    "    args = np.linspace(x - window / 2, x + window / 2, window * 100)\n",
    "    return func(args).mean(axis=0)\n",
    "\n",
    "def f(x: np.ndarray) -> np.ndarray:\n",
    "    return (5 * np.sin(2 * x) - np.cos(x) ** 2 - 1 + np.abs(x ** 3) - x ** 2) / (x ** 2 + 1)\n",
    "\n",
    "def df(f: Callable[[np.ndarray], np.ndarray], x: np.ndarray) -> np.ndarray:\n",
    "    return derivative(f, x, dx=1e-6)\n",
    "\n",
    "\n",
    "x = np.linspace(-10, 10, 200)  # (-10, 10, 1000)\n",
    "y = f(x) ## (5 * np.sin(2 * x) - np.cos(x) ** 2 - 1 + np.abs(x ** 3) - x ** 2) / (x ** 2 + 1)\n",
    "dy = df(f, x)\n",
    "\n",
    "plt.plot(x, y, label='f(x)')\n",
    "plt.plot(x, dy, label='f\\'(x)')\n",
    "\n",
    "min_f_p = scipy.optimize.fmin_bfgs(f, 0, full_output=True)\n",
    "x_min, y_min = min_f_p[0][0], min_f_p[1]\n",
    "plt.plot(x_min, y_min, '*', label='min ') \n",
    "\n",
    "m_a_1 = mov_avg(f, x, 1)\n",
    "m_a_2 = mov_avg(f, x, 2)\n",
    "m_a_5 = mov_avg(f, x, 5)\n",
    "\n",
    "# print(m_a_1.shape, m_a_2.shape, m_a_5.shape)\n",
    "\n",
    "plt.plot(x, m_a_1, label='f moving average 1') \n",
    "plt.plot(x, m_a_2, label='f moving average 2', color='yellow')  # x[:len(m_a_2)]\n",
    "plt.plot(x, m_a_5, label='f moving average 5', color = 'black')  # x[(len(x) - len(m_a_5)) // 2 : len(x) // 2 + len(m_a_5) // 2]\n",
    "\n",
    "plt.legend()\n",
    "plt.show()"
   ]
  },
  {
   "cell_type": "markdown",
   "metadata": {},
   "source": [
    "# Задание 2.15 (10 баллов)\n",
    "\n",
    "Есть следующий алгоритм семплинирования, на вход функции подается вектор из целых положительных чисел и число семплов."
   ]
  },
  {
   "cell_type": "code",
   "execution_count": null,
   "metadata": {},
   "outputs": [
    {
     "data": {
      "text/plain": [
       "[4, 0, 0, 0, 0]"
      ]
     },
     "execution_count": 55,
     "metadata": {},
     "output_type": "execute_result"
    }
   ],
   "source": [
    "from typing import List \n",
    "\n",
    "def sample(x: List[int], c: int) -> List[int]:\n",
    "    assert len(x) > 0\n",
    "    \n",
    "    s = np.sum(x)\n",
    "    res = []\n",
    "    for _ in range(c):\n",
    "        val = s * np.random.random()\n",
    "        cur, idx = 0, 0        \n",
    "        while cur + x[idx] <= val:\n",
    "            cur += x[idx]\n",
    "            idx += 1    \n",
    "        res.append(idx)\n",
    "    return res\n",
    "\n",
    "            \n",
    "sample([50, 3, 1, 7, 20], 5)   "
   ]
  },
  {
   "cell_type": "markdown",
   "metadata": {},
   "source": [
    "Реализуйте данный алгоритм более оптимальным способом на массивах `numpy`, без использования циклов. Проверьте корректность и идентичность алгоритмов семплирования с помощью статистических тестов."
   ]
  },
  {
   "cell_type": "code",
   "execution_count": null,
   "metadata": {},
   "outputs": [
    {
     "data": {
      "text/plain": [
       "array([0, 4, 0, 4, 0])"
      ]
     },
     "execution_count": 54,
     "metadata": {},
     "output_type": "execute_result"
    }
   ],
   "source": [
    "def sample_np(x: np.ndarray, c: int) -> np.ndarray:\n",
    "    assert len(x) > 0\n",
    "    return np.random.choice(np.arange(len(x)), size=c, p=x / np.sum(x))\n",
    "\n",
    "sample_np(np.array([50, 3, 1, 7, 20]), 5)\n"
   ]
  },
  {
   "cell_type": "code",
   "execution_count": null,
   "metadata": {},
   "outputs": [
    {
     "data": {
      "text/plain": [
       "array([0, 3, 4, 4, 0])"
      ]
     },
     "execution_count": 68,
     "metadata": {},
     "output_type": "execute_result"
    }
   ],
   "source": [
    "def sample_np2(x: np.ndarray, c: int) -> np.ndarray:\n",
    "    assert len(x) > 0\n",
    "    \n",
    "    s = np.sum(x)\n",
    "    val = s * np.random.random(size=c)\n",
    "    cur = np.cumsum(x)\n",
    "    idx = np.searchsorted(cur, val)\n",
    "    return idx\n",
    "\n",
    "sample_np(np.array([50, 3, 1, 7, 20]), 5)"
   ]
  },
  {
   "attachments": {},
   "cell_type": "markdown",
   "metadata": {},
   "source": [
    "Для проверки гипотезы однородности воспользуемся критерием Стьюдента. "
   ]
  },
  {
   "cell_type": "code",
   "execution_count": null,
   "metadata": {},
   "outputs": [
    {
     "name": "stdout",
     "output_type": "stream",
     "text": [
      "-0.21226955438435882 0.8318989096674463\n",
      "-0.1623768799007294 0.8710107169386714\n"
     ]
    }
   ],
   "source": [
    "# realize statistic tests\n",
    "from scipy import stats\n",
    "\n",
    "# from scipy.stats import ttest_ind\n",
    "data1 = sample([50, 3, 1, 7, 20, 10, 13, 79, 100, 2], 10000)\n",
    "data2 = list(sample_np([50, 3, 1, 7, 20, 10, 13, 79, 100, 2], 10000))  # TODO why list?\n",
    "data3 = sample_np2([50, 3, 1, 7, 20, 10, 13, 79, 100, 2], 10000)\n",
    "stat, p = stats.ttest_ind(data1, data2)\n",
    "stat2, p2 = stats.ttest_ind(data1, data3)\n",
    "print(stat, p)\n",
    "print(stat2, p2)"
   ]
  },
  {
   "attachments": {},
   "cell_type": "markdown",
   "metadata": {},
   "source": [
    "$p-value > 0.05$, мы не попали в критическую область, значит, нет основания отвергнуть нулевую гипотезу при уровне значимости альфа=0.05. "
   ]
  },
  {
   "attachments": {},
   "cell_type": "markdown",
   "metadata": {},
   "source": [
    "Для проверки гипотезы однородности воспользуемся Критерием Колмагорова-Смирнова"
   ]
  },
  {
   "cell_type": "code",
   "execution_count": null,
   "metadata": {},
   "outputs": [
    {
     "name": "stdout",
     "output_type": "stream",
     "text": [
      "0.016 0.15454104632436025\n",
      "0.0126 0.40535690578815814\n"
     ]
    }
   ],
   "source": [
    "from scipy.stats import ks_2samp\n",
    "\n",
    "#perform Kolmagorov-Smirnov test\n",
    "stat, p = ks_2samp(data1, data2)\n",
    "stat2, p2 = ks_2samp(data1, data3)\n",
    "print(stat, p)\n",
    "print(stat2, p2)\n",
    "\n",
    "\n"
   ]
  },
  {
   "attachments": {},
   "cell_type": "markdown",
   "metadata": {},
   "source": [
    "$p-value > 0.05$, мы не попали в критическую область, значит, нет основания отвергнуть нулевую гипотезу при уровне значимости альфа=0.05. "
   ]
  },
  {
   "cell_type": "code",
   "execution_count": null,
   "metadata": {},
   "outputs": [
    {
     "data": {
      "image/png": "[encoded data removed]",
      "text/plain": [
       "<Figure size 640x480 with 1 Axes>"
      ]
     },
     "metadata": {},
     "output_type": "display_data"
    }
   ],
   "source": [
    "sns.kdeplot(data=data1,  label='sample')\n",
    "sns.kdeplot(data=data2,  label='numpy_sample')\n",
    "sns.kdeplot(data=data3,  label='numpy_sample2')\n",
    "plt.legend()\n",
    "plt.show()"
   ]
  },
  {
   "cell_type": "markdown",
   "metadata": {},
   "source": [
    "# Задание 2.16 (5 баллов)\n",
    "\n",
    "Есть следующий алгоритм \"случайного блуждания\""
   ]
  },
  {
   "cell_type": "code",
   "execution_count": null,
   "metadata": {},
   "outputs": [
    {
     "data": {
      "text/plain": [
       "2172"
      ]
     },
     "execution_count": 23,
     "metadata": {},
     "output_type": "execute_result"
    }
   ],
   "source": [
    "import random \n",
    "\n",
    "def walk(n: int):\n",
    "    cur_position = 0\n",
    "    for i in range(n):\n",
    "        cur_position += random.choice([-3, -1, 0, 2, 3])\n",
    "\n",
    "    return cur_position\n",
    "\n",
    "walk(10_000)"
   ]
  },
  {
   "cell_type": "markdown",
   "metadata": {},
   "source": [
    "Реализуйте более эффективную версию с помощью `numpy`, сравните производительность (используя, например, magic `timeit`). Воспользовавшись [kdeplot()](https://seaborn.pydata.org/generated/seaborn.kdeplot.html) или аналогами, постройте график распределения значений `walk(10_000)` на каком-то разумном числе запусков. "
   ]
  },
  {
   "cell_type": "code",
   "execution_count": null,
   "metadata": {},
   "outputs": [],
   "source": [
    "import timeit "
   ]
  },
  {
   "cell_type": "code",
   "execution_count": null,
   "metadata": {},
   "outputs": [
    {
     "data": {
      "text/plain": [
       "2275"
      ]
     },
     "execution_count": 25,
     "metadata": {},
     "output_type": "execute_result"
    }
   ],
   "source": [
    "def walk_np(n: int) -> int:\n",
    "    return np.sum(np.random.choice([-3, -1, 0, 2, 3], size=n))\n",
    "\n",
    "walk_np(10_000)"
   ]
  },
  {
   "cell_type": "code",
   "execution_count": null,
   "metadata": {},
   "outputs": [
    {
     "name": "stdout",
     "output_type": "stream",
     "text": [
      "Function walk:  4.43715145799797\n",
      "Function walk_np:  0.16636750000179745\n"
     ]
    }
   ],
   "source": [
    "print(\"Function walk: \", timeit.timeit('walk(10000)', globals=globals(), number=1000))\n",
    "print(\"Function walk_np: \", timeit.timeit('walk_np(10000)', globals=globals(), number=1000))"
   ]
  },
  {
   "cell_type": "code",
   "execution_count": null,
   "metadata": {},
   "outputs": [
    {
     "data": {
      "image/png": "[encoded data removed]",
      "text/plain": [
       "<Figure size 640x480 with 1 Axes>"
      ]
     },
     "metadata": {},
     "output_type": "display_data"
    }
   ],
   "source": [
    "walk_values = [walk(10000) for _ in range(1000)]\n",
    "walk_np_values = [walk_np(10000) for _ in range(1000)]\n",
    "sns.kdeplot(walk_values, label='walk')\n",
    "sns.kdeplot(walk_np_values, label='walk_np')\n",
    "plt.legend()\n",
    "plt.show()\n"
   ]
  },
  {
   "cell_type": "code",
   "execution_count": null,
   "metadata": {},
   "outputs": [
    {
     "name": "stdout",
     "output_type": "stream",
     "text": [
      "44 ms ± 479 µs per loop (mean ± std. dev. of 7 runs, 10 loops each)\n"
     ]
    }
   ],
   "source": [
    "%timeit walk(100000)"
   ]
  },
  {
   "cell_type": "code",
   "execution_count": null,
   "metadata": {},
   "outputs": [
    {
     "name": "stdout",
     "output_type": "stream",
     "text": [
      "1.52 ms ± 6.37 µs per loop (mean ± std. dev. of 7 runs, 1,000 loops each)\n"
     ]
    }
   ],
   "source": [
    "%timeit walk_np(100000)"
   ]
  },
  {
   "cell_type": "code",
   "execution_count": null,
   "metadata": {},
   "outputs": [
    {
     "data": {
      "text/plain": [
       "(26.488095238095237, 28.94736842105263)"
      ]
     },
     "execution_count": 51,
     "metadata": {},
     "output_type": "execute_result"
    }
   ],
   "source": [
    "4.45*1000/168, 44/1.52"
   ]
  },
  {
   "attachments": {},
   "cell_type": "markdown",
   "metadata": {},
   "source": [
    "Производительность увеличилась в несколько (~26-29) раз. "
   ]
  },
  {
   "cell_type": "markdown",
   "metadata": {},
   "source": [
    "# Задание 2.17 (5 баллов)\n",
    "\n",
    "Имеется функция, которая проделывает достаточно странные манипуляции с массивом `numpy`"
   ]
  },
  {
   "cell_type": "code",
   "execution_count": null,
   "metadata": {},
   "outputs": [
    {
     "data": {
      "text/plain": [
       "1.1967797043071207"
      ]
     },
     "execution_count": 28,
     "metadata": {},
     "output_type": "execute_result"
    }
   ],
   "source": [
    "import numpy.typing as npt\n",
    "\n",
    "def strange_conv(a: npt.NDArray[np.float64]) -> np.float64:\n",
    "    x = a.shape[0]\n",
    "    y = a.shape[1]\n",
    "\n",
    "    t = 1.\n",
    "    for y in range(y - 5):\n",
    "        for x in range(x - 3):\n",
    "            c = 1.5 * a[y+1, x+2] - a[y+5, x+3] * a[y, x] + 0.2 * a[y+4, x]\n",
    "            t = 0.2 * t + 0.8 * c\n",
    "\n",
    "    return t\n",
    "\n",
    "\n",
    "a = np.random.random((10000, 10000))\n",
    "strange_conv(a)\n"
   ]
  },
  {
   "cell_type": "markdown",
   "metadata": {},
   "source": [
    "Оптимизируйте данную функцию с помощью (2 на выбор):\n",
    "- [Numba](https://numba.pydata.org)\n",
    "- `Cython` (+5 баллов)\n",
    "- [Taichi](https://github.com/taichi-dev/taichi) (+5 баллов)\n",
    "- `Pythran `[[1]](https://pythran.readthedocs.io/en/latest/), [[2]](https://serge-sans-paille.github.io/pythran-stories/pythran-tutorial.html) (+2 балла)\n",
    "\n",
    "Сравните производительность."
   ]
  },
  {
   "cell_type": "code",
   "execution_count": null,
   "metadata": {},
   "outputs": [
    {
     "data": {
      "text/plain": [
       "0.6284409600939949"
      ]
     },
     "execution_count": 29,
     "metadata": {},
     "output_type": "execute_result"
    }
   ],
   "source": [
    "from numba import njit\n",
    "\n",
    "strange_conv_numba = njit(strange_conv)\n",
    "\n",
    "a = np.random.random((10000, 10000))\n",
    "strange_conv_numba(a)"
   ]
  },
  {
   "cell_type": "code",
   "execution_count": null,
   "metadata": {},
   "outputs": [],
   "source": [
    "import cython"
   ]
  },
  {
   "cell_type": "code",
   "execution_count": null,
   "metadata": {},
   "outputs": [
    {
     "name": "stdout",
     "output_type": "stream",
     "text": [
      "The Cython extension is already loaded. To reload it, use:\n",
      "  %reload_ext Cython\n"
     ]
    }
   ],
   "source": [
    "%load_ext Cython"
   ]
  },
  {
   "cell_type": "code",
   "execution_count": null,
   "metadata": {},
   "outputs": [],
   "source": [
    "%%cython\n",
    "\n",
    "cimport numpy\n",
    "\n",
    "def strange_conv_cython(numpy.ndarray['double', ndim=2] a):\n",
    "    cdef int x = a.shape[0]\n",
    "    cdef int y = a.shape[1]\n",
    "\n",
    "    cdef double t = 1.\n",
    "    cdef double c = 0.\n",
    "    for y in range(y - 5):\n",
    "        for x in range(x - 3):\n",
    "            c = 1.5 * a[y+1, x+2] - a[y+5, x+3] * a[y, x] + 0.2 * a[y+4, x]\n",
    "            t = 0.2 * t + 0.8 * c\n",
    "\n",
    "    return t\n"
   ]
  },
  {
   "cell_type": "code",
   "execution_count": null,
   "metadata": {},
   "outputs": [
    {
     "name": "stdout",
     "output_type": "stream",
     "text": [
      "12.4 s ± 19.2 ms per loop (mean ± std. dev. of 7 runs, 1 loop each)\n"
     ]
    }
   ],
   "source": [
    "%timeit strange_conv(a)"
   ]
  },
  {
   "cell_type": "code",
   "execution_count": null,
   "metadata": {},
   "outputs": [
    {
     "name": "stdout",
     "output_type": "stream",
     "text": [
      "28.3 ms ± 76.8 µs per loop (mean ± std. dev. of 7 runs, 10 loops each)\n"
     ]
    }
   ],
   "source": [
    "%timeit strange_conv_numba(a)"
   ]
  },
  {
   "cell_type": "code",
   "execution_count": null,
   "metadata": {},
   "outputs": [
    {
     "name": "stdout",
     "output_type": "stream",
     "text": [
      "42.3 ms ± 211 µs per loop (mean ± std. dev. of 7 runs, 10 loops each)\n"
     ]
    }
   ],
   "source": [
    "%timeit strange_conv_cython(a)"
   ]
  },
  {
   "attachments": {},
   "cell_type": "markdown",
   "metadata": {},
   "source": [
    "Производительность с помощью Numba улучшается в ~438 раз, производительность с Cython больше в 293 раз"
   ]
  },
  {
   "cell_type": "code",
   "execution_count": null,
   "metadata": {},
   "outputs": [
    {
     "name": "stdout",
     "output_type": "stream",
     "text": [
      "438.1625441696113 293.1442080378251\n"
     ]
    }
   ],
   "source": [
    "print(12.4*1000/28.3,12.4*1000/42.3)"
   ]
  }
 ],
 "metadata": {
  "kernelspec": {
   "display_name": "Python 3.10.6 ('python-for-data-analysis')",
   "language": "python",
   "name": "python3"
  },
  "language_info": {
   "codemirror_mode": {
    "name": "ipython",
    "version": 3
   },
   "file_extension": ".py",
   "mimetype": "text/x-python",
   "name": "python",
   "nbconvert_exporter": "python",
   "pygments_lexer": "ipython3",
   "version": "3.10.6"
  },
  "orig_nbformat": 4,
  "vscode": {
   "interpreter": {
    "hash": "cdcb8b47a48146c8bfd997adddf099df095524100ba9341af35969a11f235150"
   }
  }
 },
 "nbformat": 4,
 "nbformat_minor": 2
}
