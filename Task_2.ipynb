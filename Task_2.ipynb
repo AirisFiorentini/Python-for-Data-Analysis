{
 "cells": [
  {
   "cell_type": "markdown",
   "metadata": {},
   "source": [
    "# Задание 2.\n",
    "\n",
    "**NB. Все упражнения ниже нужно делать без использования циклов Python в явном (`while`, `for`) и неявном виде (list comprehension, `map`, `reduce` и пр)**\n",
    "\n",
    "Задания по манипуляциям с массивами чаще всего решаются в одно/два выражения. "
   ]
  },
  {
   "cell_type": "code",
   "execution_count": 159,
   "metadata": {},
   "outputs": [
    {
     "data": {
      "text/plain": [
       "array([[62, 40, 57, ...,  2, 92, 14],\n",
       "       [ 0, 86,  3, ..., 59, 34, 78],\n",
       "       [72, 21, 93, ..., 23, 84, 87],\n",
       "       ...,\n",
       "       [42, 38, 26, ..., 70, 58, 44],\n",
       "       [91, 25, 37, ..., 30, 51, 93],\n",
       "       [20, 37, 71, ..., 41, 78, 65]])"
      ]
     },
     "execution_count": 159,
     "metadata": {},
     "output_type": "execute_result"
    }
   ],
   "source": [
    "%matplotlib inline\n",
    "\n",
    "import numpy as np\n",
    "import matplotlib.pyplot as plt\n",
    "import seaborn as sns\n",
    "sns.set_theme()\n",
    "\n",
    "A = np.random.randint(0, 100, size=(200, 50))\n",
    "A"
   ]
  },
  {
   "cell_type": "markdown",
   "metadata": {},
   "source": [
    "# Задание 2.1 (2 балла)\n",
    "\n",
    "Сгенерируйте новый массив, в котором столбцы массива `A` переставлены в случайном порядке"
   ]
  },
  {
   "cell_type": "code",
   "execution_count": 160,
   "metadata": {},
   "outputs": [
    {
     "data": {
      "text/plain": [
       "array([[ 5, 82, 58, ..., 83, 81,  2],\n",
       "       [77,  9, 40, ..., 67, 72, 59],\n",
       "       [79, 17, 27, ..., 59, 96, 23],\n",
       "       ...,\n",
       "       [73, 76, 85, ..., 38, 52, 70],\n",
       "       [43, 88, 19, ..., 57, 96, 30],\n",
       "       [58, 70, 92, ..., 17, 16, 41]])"
      ]
     },
     "execution_count": 160,
     "metadata": {},
     "output_type": "execute_result"
    }
   ],
   "source": [
    "B = np.transpose(np.random.permutation(np.transpose(A)))\n",
    "B"
   ]
  },
  {
   "cell_type": "markdown",
   "metadata": {},
   "source": [
    "# Задание 2.2 (5 баллов)\n",
    "\n",
    "Сгенерируйте новый массив, который содержит только те строки массива `A`, в которых: \n",
    "- сумма элементов по четным столбцам (индексы $0, 2, \\ldots$) больше среднего значения (по всему массиву) суммы элементов по нечетным столбцам (индексы $1, 3, \\ldots$) "
   ]
  },
  {
   "cell_type": "code",
   "execution_count": 161,
   "metadata": {},
   "outputs": [
    {
     "data": {
      "text/plain": [
       "array([[62, 40, 57, ...,  2, 92, 14],\n",
       "       [72, 21, 93, ..., 23, 84, 87],\n",
       "       [78, 52, 26, ...,  4, 15, 21],\n",
       "       ...,\n",
       "       [42, 38, 26, ..., 70, 58, 44],\n",
       "       [91, 25, 37, ..., 30, 51, 93],\n",
       "       [20, 37, 71, ..., 41, 78, 65]])"
      ]
     },
     "execution_count": 161,
     "metadata": {},
     "output_type": "execute_result"
    }
   ],
   "source": [
    "C = A[A[:,::2].sum(axis=1) > A[:,1::2].sum(axis=1).mean()]\n",
    "C"
   ]
  },
  {
   "cell_type": "markdown",
   "metadata": {},
   "source": [
    "# Задача 2.3 (3 балла)\n",
    "\n",
    "Найдите индекс строки массива `A`, в которой разница между максимальным и минимальным элементом максимальна"
   ]
  },
  {
   "cell_type": "code",
   "execution_count": 162,
   "metadata": {},
   "outputs": [
    {
     "data": {
      "text/plain": [
       "6"
      ]
     },
     "execution_count": 162,
     "metadata": {},
     "output_type": "execute_result"
    }
   ],
   "source": [
    "i = np.argmax(np.max(A, axis=1) - np.min(A, axis=1))\n",
    "i"
   ]
  },
  {
   "cell_type": "markdown",
   "metadata": {},
   "source": [
    "# Задание 2.4 (7 баллов)\n",
    "\n",
    "Сгенерируйте массив той же размерности, что и `A`, но в котором каждый элемент заменен на его порядковый номер (начиная с 1) в отсортированном по возрастанию массиве из элементов `A`\n",
    "\n",
    "Если `A` выглядит так:\n",
    "$$\n",
    "\\begin{pmatrix}\n",
    "12 & 14\\\\\n",
    "1 & 2\n",
    "\\end{pmatrix}\n",
    "$$\n",
    "то результат должен быть\n",
    "$$\n",
    "\\begin{pmatrix}\n",
    "3 & 4\\\\\n",
    "1 & 2\n",
    "\\end{pmatrix}\n",
    "$$\n",
    "\n",
    "*Tip: рассмотрите возможность неоднократного применения [argsort()](https://numpy.org/doc/stable/reference/generated/numpy.ndarray.argsort.html)*"
   ]
  },
  {
   "cell_type": "code",
   "execution_count": 163,
   "metadata": {},
   "outputs": [
    {
     "data": {
      "text/plain": [
       "array([[8603, 8600, 3112, ..., 1672, 9153, 2427],\n",
       "       [9152, 7639,  505, ...,  975, 7356,  909],\n",
       "       [4949, 2863, 8463, ..., 5480,   59, 7516],\n",
       "       ...,\n",
       "       [6729, 4935,  393, ..., 9294, 9963, 2007],\n",
       "       [5762, 9985, 7534, ..., 3806, 8411, 6827],\n",
       "       [2437, 5650,  736, ..., 3462, 9801, 1345]])"
      ]
     },
     "execution_count": 163,
     "metadata": {},
     "output_type": "execute_result"
    }
   ],
   "source": [
    "D = np.argsort(A.reshape(1, len(A)*len(A[0]))).reshape(len(A),len(A[0])) + 1\n",
    "D"
   ]
  },
  {
   "cell_type": "markdown",
   "metadata": {},
   "source": [
    "# Задание 2.5 (2 балла)\n",
    "\n",
    "Примените $\\min-\\max$ - нормализацию к строкам массива `A`. То есть нужно получить новый массив, в каждой строке которого максимальный элемент равен $1$, минимальный - $0$. "
   ]
  },
  {
   "cell_type": "code",
   "execution_count": 197,
   "metadata": {},
   "outputs": [
    {
     "data": {
      "text/plain": [
       "array([[0.6185567 , 0.39175258, 0.56701031, ..., 0.        , 0.92783505,\n",
       "        0.12371134],\n",
       "       [0.        , 0.87755102, 0.03061224, ..., 0.60204082, 0.34693878,\n",
       "        0.79591837],\n",
       "       [0.72093023, 0.12790698, 0.96511628, ..., 0.15116279, 0.86046512,\n",
       "        0.89534884],\n",
       "       ...,\n",
       "       [0.39784946, 0.35483871, 0.22580645, ..., 0.69892473, 0.56989247,\n",
       "        0.41935484],\n",
       "       [0.92553191, 0.22340426, 0.35106383, ..., 0.27659574, 0.5       ,\n",
       "        0.94680851],\n",
       "       [0.18556701, 0.36082474, 0.71134021, ..., 0.40206186, 0.78350515,\n",
       "        0.64948454]])"
      ]
     },
     "execution_count": 197,
     "metadata": {},
     "output_type": "execute_result"
    }
   ],
   "source": [
    "A_min = np.tile(A.min(axis=1).reshape((-1, 1)), (1, A.shape[1]))\n",
    "A_max = np.tile(A.max(axis=1).reshape((-1, 1)), (1, A.shape[1]))\n",
    "E = (A - A_min) / (A_max - A_min)\n",
    "E"
   ]
  },
  {
   "cell_type": "markdown",
   "metadata": {},
   "source": [
    "# Задание 2.6 (2 балла)\n",
    "\n",
    "Сгенерируйте новый трехмерный массив, размерности $10 \\times 200 \\times 50$. Подмассивы по нулевой оси должны состоять из элементов `A`, умноженных на $1 - 10$ соответственно"
   ]
  },
  {
   "cell_type": "code",
   "execution_count": 165,
   "metadata": {},
   "outputs": [
    {
     "data": {
      "text/plain": [
       "array([[[ 62,  40,  57, ...,   2,  92,  14],\n",
       "        [  0,  86,   3, ...,  59,  34,  78],\n",
       "        [ 72,  21,  93, ...,  23,  84,  87],\n",
       "        ...,\n",
       "        [ 42,  38,  26, ...,  70,  58,  44],\n",
       "        [ 91,  25,  37, ...,  30,  51,  93],\n",
       "        [ 20,  37,  71, ...,  41,  78,  65]],\n",
       "\n",
       "       [[124,  80, 114, ...,   4, 184,  28],\n",
       "        [  0, 172,   6, ..., 118,  68, 156],\n",
       "        [144,  42, 186, ...,  46, 168, 174],\n",
       "        ...,\n",
       "        [ 84,  76,  52, ..., 140, 116,  88],\n",
       "        [182,  50,  74, ...,  60, 102, 186],\n",
       "        [ 40,  74, 142, ...,  82, 156, 130]],\n",
       "\n",
       "       [[186, 120, 171, ...,   6, 276,  42],\n",
       "        [  0, 258,   9, ..., 177, 102, 234],\n",
       "        [216,  63, 279, ...,  69, 252, 261],\n",
       "        ...,\n",
       "        [126, 114,  78, ..., 210, 174, 132],\n",
       "        [273,  75, 111, ...,  90, 153, 279],\n",
       "        [ 60, 111, 213, ..., 123, 234, 195]],\n",
       "\n",
       "       ...,\n",
       "\n",
       "       [[496, 320, 456, ...,  16, 736, 112],\n",
       "        [  0, 688,  24, ..., 472, 272, 624],\n",
       "        [576, 168, 744, ..., 184, 672, 696],\n",
       "        ...,\n",
       "        [336, 304, 208, ..., 560, 464, 352],\n",
       "        [728, 200, 296, ..., 240, 408, 744],\n",
       "        [160, 296, 568, ..., 328, 624, 520]],\n",
       "\n",
       "       [[558, 360, 513, ...,  18, 828, 126],\n",
       "        [  0, 774,  27, ..., 531, 306, 702],\n",
       "        [648, 189, 837, ..., 207, 756, 783],\n",
       "        ...,\n",
       "        [378, 342, 234, ..., 630, 522, 396],\n",
       "        [819, 225, 333, ..., 270, 459, 837],\n",
       "        [180, 333, 639, ..., 369, 702, 585]],\n",
       "\n",
       "       [[620, 400, 570, ...,  20, 920, 140],\n",
       "        [  0, 860,  30, ..., 590, 340, 780],\n",
       "        [720, 210, 930, ..., 230, 840, 870],\n",
       "        ...,\n",
       "        [420, 380, 260, ..., 700, 580, 440],\n",
       "        [910, 250, 370, ..., 300, 510, 930],\n",
       "        [200, 370, 710, ..., 410, 780, 650]]])"
      ]
     },
     "execution_count": 165,
     "metadata": {},
     "output_type": "execute_result"
    }
   ],
   "source": [
    "c = np.arange(1, 11).reshape((-1, 1, 1))   # shape: (10, 1, 1)\n",
    "A * c   # shape: (200, 50) * (10, 1, 1) = (1, 200, 50) * (10, 1, 1) = (10, 200, 50)"
   ]
  },
  {
   "cell_type": "markdown",
   "metadata": {},
   "source": [
    "# Задание 2.7 (2 балла)\n",
    "\n",
    "Создайте новый массив, такой же размерности, как и `A`, в котором сначала сгруппированы четные столбцы `A`, потом  нечетные. Используйте [np.concat()](https://numpy.org/doc/stable/reference/generated/numpy.concatenate.html) "
   ]
  },
  {
   "cell_type": "code",
   "execution_count": 166,
   "metadata": {},
   "outputs": [
    {
     "data": {
      "text/plain": [
       "array([[62, 57, 66, ..., 58,  2, 14],\n",
       "       [ 0,  3,  7, ..., 40, 59, 78],\n",
       "       [72, 93, 14, ..., 27, 23, 87],\n",
       "       ...,\n",
       "       [42, 26, 20, ..., 85, 70, 44],\n",
       "       [91, 37, 52, ..., 19, 30, 93],\n",
       "       [20, 71, 19, ..., 92, 41, 65]])"
      ]
     },
     "execution_count": 166,
     "metadata": {},
     "output_type": "execute_result"
    }
   ],
   "source": [
    "a1 = A[:,1::2]\n",
    "a1\n",
    "a2 = A[:,0::2]\n",
    "F = np.concatenate((a2, a1), axis=1)\n",
    "F"
   ]
  },
  {
   "cell_type": "markdown",
   "metadata": {},
   "source": [
    "# Задание 2.8 (2 балла)\n",
    "\n",
    "Посчитайте количество строк массива `A`, в который все элементы больше 5. Используйте [np.all()](https://numpy.org/doc/stable/reference/generated/numpy.all.html) "
   ]
  },
  {
   "cell_type": "code",
   "execution_count": 167,
   "metadata": {},
   "outputs": [
    {
     "data": {
      "text/plain": [
       "7"
      ]
     },
     "execution_count": 167,
     "metadata": {},
     "output_type": "execute_result"
    }
   ],
   "source": [
    "len(A[np.all(A > 5, axis=1)])"
   ]
  },
  {
   "cell_type": "markdown",
   "metadata": {},
   "source": [
    "# Задание 2.9 (2 балла)\n",
    "\n",
    "Поделите массив `A` горизонтально на 10 частей и создайте новый массив размерности $20 \\times 50$, который является средним этих частей. Используйте [np.split()](https://numpy.org/doc/stable/reference/generated/numpy.split.html)"
   ]
  },
  {
   "cell_type": "code",
   "execution_count": 168,
   "metadata": {},
   "outputs": [
    {
     "data": {
      "text/plain": [
       "array([[50.2, 33.5, 50.7, 48.5, 59.4, 49.4, 55. , 44.2, 54.8, 48.5, 49.5,\n",
       "        40. , 62.6, 28.4, 30.8, 60.1, 71.7, 49.7, 60.7, 60.3, 49.5, 54.8,\n",
       "        46.7, 39.3, 52.6, 46.6, 44.9, 38.5, 53.8, 63. , 37.9, 73.3, 35.4,\n",
       "        51.1, 52.6, 52.3, 53.3, 38.3, 49. , 39.2, 47.6, 59.4, 56.3, 43. ,\n",
       "        55.3, 41. , 45.5, 45.6, 49.5, 40.4],\n",
       "       [54. , 47.9, 62.5, 61.1, 54.2, 43.8, 34. , 47.9, 59.4, 46.3, 68.6,\n",
       "        50.1, 48.9, 53.1, 61.9, 37. , 39. , 41.3, 61.7, 54.6, 56.5, 38.8,\n",
       "        61.4, 60.5, 54.6, 70. , 44. , 40.5, 59.6, 41.3, 58.9, 38.6, 48.2,\n",
       "        44.8, 52.1, 62.6, 73. , 63. , 60. , 45.1, 51.1, 44.3, 49.5, 52.1,\n",
       "        47.7, 57.3, 46.3, 62.6, 56. , 40.1],\n",
       "       [41.9, 41.4, 53. , 48.5, 52. , 46.4, 52.6, 58.4, 49.1, 36.6, 62. ,\n",
       "        48.2, 38.6, 48.3, 39.2, 42.7, 48.3, 36.6, 62.3, 43.7, 59.6, 52.3,\n",
       "        60.5, 42. , 38.7, 36.1, 60.7, 54.7, 74.8, 55.5, 44.1, 48.5, 59.2,\n",
       "        57.4, 57.2, 61.4, 57.1, 48.9, 52.3, 42. , 58.4, 47.3, 47.4, 45.1,\n",
       "        48.8, 41.2, 42.5, 54.6, 57.4, 57.9],\n",
       "       [49. , 45.1, 44.1, 40.9, 51.7, 39. , 63.3, 43.9, 38.5, 60.9, 51.6,\n",
       "        56.4, 69.4, 43.3, 53.9, 55.1, 28. , 58.3, 46.8, 47.9, 44.1, 57.8,\n",
       "        46.8, 34.1, 37.2, 57.3, 60.3, 62.9, 56.3, 51.6, 64.5, 46.1, 37.4,\n",
       "        65.4, 45.6, 66.9, 45.9, 63.5, 32.7, 42.9, 40.8, 53.7, 39.1, 47.9,\n",
       "        58.4, 54.9, 56.4, 46. , 49.3, 28.1],\n",
       "       [50. , 63.8, 61.3, 52.8, 57. , 39.3, 40. , 52.3, 54.8, 65.1, 56.2,\n",
       "        37.8, 42.6, 45.2, 53.6, 39.4, 67.3, 30.7, 30.8, 59.1, 65.5, 36. ,\n",
       "        48.5, 30.7, 60.3, 61.4, 67. , 35.1, 51.5, 47. , 55.3, 58.5, 47.7,\n",
       "        49.1, 70.8, 39.1, 56.7, 40.4, 50.7, 59.4, 64.3, 60.4, 57.9, 54.5,\n",
       "        37.6, 52.2, 38.7, 61.3, 53.6, 51.2],\n",
       "       [46.7, 55.5, 47.7, 44.6, 36.5, 42.8, 50.3, 68.7, 38.1, 52.7, 59.7,\n",
       "        38.5, 35.5, 29.5, 37.5, 46.2, 57.6, 41.6, 52.1, 38.4, 51.8, 45.8,\n",
       "        59.4, 37.4, 55.7, 38.6, 40.2, 31.6, 51.6, 46. , 48.4, 56.9, 70.7,\n",
       "        31.9, 41.1, 51.2, 41.9, 61.4, 58.7, 61.9, 61.5, 46.7, 51.4, 67.9,\n",
       "        48.2, 28.2, 49.8, 38.6, 44.7, 38.3],\n",
       "       [39.8, 37.9, 59.8, 56.2, 41.7, 62.3, 56.7, 37.4, 42.8, 54.7, 39.2,\n",
       "        47.7, 54.2, 36.2, 62.3, 48. , 60.7, 63.5, 54.5, 31.9, 59. , 50.8,\n",
       "        45.5, 62.3, 51.3, 38.8, 34. , 48. , 40.3, 46.7, 54.5, 34.9, 59.3,\n",
       "        53.3, 59. , 49.7, 46.8, 56.1, 58.4, 64.3, 53.4, 50.5, 59.7, 37.4,\n",
       "        55.5, 40. , 37.8, 52.5, 61.6, 48.7],\n",
       "       [45.5, 41. , 58.6, 55.7, 39.2, 45.2, 42. , 41. , 37.6, 52.3, 61.2,\n",
       "        54.9, 55.4, 49. , 54.9, 49.9, 58.5, 38.8, 58.3, 58.4, 46.9, 55.2,\n",
       "        48.3, 21.7, 52.9, 40.8, 53.5, 51.3, 54.6, 53.9, 42.3, 45.6, 38.1,\n",
       "        41.2, 59.7, 46.2, 60.2, 38.4, 48.9, 40.8, 54.8, 44.1, 59.5, 45.8,\n",
       "        41.4, 49.5, 50.7, 49.4, 48. , 52. ],\n",
       "       [52.8, 43.7, 50.9, 49.6, 46.9, 55.6, 48.4, 36.1, 55. , 57.1, 62.2,\n",
       "        30.4, 49.5, 59.6, 53.6, 51.2, 48.9, 69.3, 48.7, 47.8, 37.7, 61.2,\n",
       "        67.6, 62.5, 48.9, 49.3, 29.8, 52.7, 47.1, 52.3, 64.1, 54.1, 37.6,\n",
       "        39.1, 34.4, 48.1, 60.3, 50. , 50. , 42.9, 54.1, 49.1, 43.5, 55.4,\n",
       "        53.7, 42.7, 48.5, 44.6, 66.4, 32.7],\n",
       "       [48.2, 41.7, 36.6, 48.3, 39.5, 36.2, 56.2, 55.3, 45.2, 60. , 41.7,\n",
       "        73.5, 50.6, 44.8, 49. , 49.6, 46. , 47.6, 52.6, 47.2, 47.1, 51.5,\n",
       "        51. , 48.4, 66.3, 39.7, 48.5, 62.4, 45.9, 41.3, 70. , 35.9, 62.1,\n",
       "        47.4, 46. , 53.7, 29.1, 29.3, 33.5, 44.1, 39. , 52.3, 55.9, 35.4,\n",
       "        47.2, 53.2, 53.5, 35.3, 61.9, 45.6],\n",
       "       [50.1, 52.5, 46.6, 61.2, 53.5, 52.3, 51.7, 44.6, 46. , 68.2, 37.6,\n",
       "        53.2, 45.7, 49.1, 52.6, 58.7, 59.3, 40.9, 39.8, 42.8, 47.5, 54.6,\n",
       "        41.9, 46.8, 54.5, 46.4, 63.4, 60.6, 39.6, 66.1, 35.8, 43.9, 38. ,\n",
       "        50.2, 44.2, 49.9, 54.5, 40.6, 51.4, 40.6, 45.9, 56.5, 39.4, 51.4,\n",
       "        59. , 48.9, 64.6, 54.4, 42.4, 34.2],\n",
       "       [45.5, 28.7, 52.5, 50.8, 41. , 44.5, 46.8, 51.9, 45.2, 64.6, 42.5,\n",
       "        41.3, 37.4, 50.3, 56.2, 47.8, 61.1, 62.4, 56. , 40.6, 53.4, 40.5,\n",
       "        57.9, 61. , 37.6, 63.5, 51.5, 50.6, 45.1, 64.5, 58.1, 56.4, 56.7,\n",
       "        72.6, 60.5, 56. , 61.7, 60.9, 50.2, 50.2, 59. , 61.4, 45.3, 50.7,\n",
       "        34.4, 44.5, 36.5, 62.3, 33.4, 51.1],\n",
       "       [45.3, 51.9, 46.6, 43.9, 59.4, 38.8, 75.4, 45.7, 34.7, 55.3, 55.1,\n",
       "        49.7, 57.1, 55.6, 54.8, 33.8, 40.3, 59.8, 50.4, 61.4, 51.3, 41.9,\n",
       "        49.2, 59.1, 38. , 56.6, 65.4, 46.7, 69.5, 40.1, 44.9, 48.2, 56.1,\n",
       "        57.1, 24.2, 37. , 31. , 45.6, 37.2, 40. , 51.9, 53.1, 44.4, 45.1,\n",
       "        69.1, 47.6, 55.7, 51.4, 58.5, 64.9],\n",
       "       [41.4, 41.6, 33.4, 52.6, 63.8, 55.4, 64.3, 51.5, 24.2, 55.2, 56.4,\n",
       "        35.8, 64.5, 55.7, 62.1, 46.4, 62.6, 40.6, 41.5, 62. , 37.5, 29.6,\n",
       "        43. , 54.4, 51.9, 76.5, 35.9, 50.3, 55.6, 43.7, 43.1, 44.5, 67.7,\n",
       "        59.6, 55.3, 50.1, 50. , 44.7, 45.4, 49.2, 41.9, 41.3, 51.2, 51.8,\n",
       "        33.3, 60.1, 59. , 32.7, 46.8, 45. ],\n",
       "       [45.1, 52.8, 38.7, 48.2, 40. , 50.5, 51.9, 54.1, 42.4, 50.7, 40. ,\n",
       "        48.1, 58.2, 69.6, 46.1, 56.2, 49.8, 63.5, 49.8, 50.9, 41.3, 44.3,\n",
       "        55.8, 55.4, 35.1, 49.6, 45.7, 40. , 64.3, 51.6, 55.4, 65.5, 40.7,\n",
       "        46.1, 35.4, 73.2, 53. , 40. , 55. , 63. , 42.6, 55.4, 44.9, 47.9,\n",
       "        46.5, 46.9, 50. , 68.7, 24.1, 44.1],\n",
       "       [43.7, 79.2, 61.3, 48. , 37.6, 37.3, 48.9, 46.1, 47.6, 44.2, 41.2,\n",
       "        52. , 50.7, 54.9, 62.3, 63.3, 32. , 41.5, 58. , 66.8, 56.9, 52.2,\n",
       "        32.3, 47.4, 41.8, 48.4, 53.9, 44.7, 46.4, 56.3, 49.8, 39.9, 62.8,\n",
       "        57.4, 48.1, 47.1, 43.9, 56.3, 46.6, 45.8, 53.5, 53.3, 62.2, 62.5,\n",
       "        46.2, 48.9, 47. , 54.1, 45.1, 54.9],\n",
       "       [56. , 49. , 37. , 42.8, 56.8, 54.6, 64.1, 63.7, 38.5, 42.6, 56.8,\n",
       "        39.5, 70.4, 48.8, 64.7, 53.9, 53.4, 49.6, 54.2, 47.8, 29.7, 49.7,\n",
       "        63. , 35.8, 49. , 55.3, 69.5, 61. , 29.6, 50.9, 38.5, 52.1, 49.1,\n",
       "        60.1, 41.4, 54. , 48.2, 50. , 39.7, 38.9, 53. , 39.6, 40.9, 63. ,\n",
       "        34.8, 43. , 35.6, 48.4, 42.8, 52.3],\n",
       "       [56.1, 47.7, 44.2, 45.4, 63.8, 55.5, 38. , 44.5, 51.8, 48.3, 54.4,\n",
       "        37.7, 49.5, 34.5, 53.8, 53.7, 49.9, 42.2, 43.3, 37. , 42.8, 39.3,\n",
       "        55.4, 46.6, 41.5, 26.6, 51.5, 39.4, 42.1, 50.3, 52.4, 62.2, 53.6,\n",
       "        38.1, 54.6, 40.3, 54.8, 33.5, 47.1, 48.6, 57. , 64.5, 47.6, 41. ,\n",
       "        58.8, 59.1, 52.3, 57.9, 56.1, 49.4],\n",
       "       [41.1, 57.6, 58.7, 46.9, 55.4, 59.4, 43.9, 40.5, 59.5, 57.9, 33.2,\n",
       "        54.6, 65.6, 56.1, 51. , 59.1, 52.9, 52.3, 58.1, 45.1, 47.3, 52.5,\n",
       "        43.4, 41.2, 34.8, 50.3, 42.7, 40.9, 44.2, 51.6, 45.9, 51.8, 56.4,\n",
       "        33.8, 62.9, 46.1, 43.8, 46.8, 43.5, 45.6, 53. , 53.4, 40.7, 53.9,\n",
       "        28.1, 39.3, 48.4, 50.4, 47.1, 50.9],\n",
       "       [43.9, 54.1, 38.2, 59. , 57.1, 43.7, 39.1, 81. , 40.6, 53.7, 39.1,\n",
       "        57.7, 69.4, 45.5, 55.5, 51.4, 59.7, 58.3, 55.1, 45.4, 55.4, 48.4,\n",
       "        42.9, 58.5, 47.4, 73.7, 54. , 58.9, 41.4, 47.3, 41.5, 52.5, 55. ,\n",
       "        38.1, 48.9, 62.1, 57.6, 45.5, 52. , 46.9, 66.6, 60.5, 30. , 56.1,\n",
       "        37.8, 59.9, 41.3, 56.7, 39.2, 56.6]])"
      ]
     },
     "execution_count": 168,
     "metadata": {},
     "output_type": "execute_result"
    }
   ],
   "source": [
    "np.mean(np.split(A, 10), axis=0)"
   ]
  },
  {
   "cell_type": "markdown",
   "metadata": {},
   "source": [
    "# Задание 2.10 (4 балла)\n",
    "\n",
    "\"Разверните\" массив `A` в одномерный массив. Оставьте в нём только уникальные элементы в том же порядке, в котором они встречаются в массиве. Используйте [np.unique()](https://numpy.org/doc/stable/reference/generated/numpy.unique.html)"
   ]
  },
  {
   "cell_type": "code",
   "execution_count": 169,
   "metadata": {},
   "outputs": [
    {
     "data": {
      "text/plain": [
       "array([62, 40, 57, 38, 66, 95, 44, 11, 74, 81, 99, 53, 15, 21, 46, 31, 49,\n",
       "       51, 60, 34,  5, 86,  7, 13, 88, 41, 77, 76, 27, 52, 36, 84,  8, 82,\n",
       "       83, 18, 67, 58,  2, 92, 14,  0,  3, 55, 24, 26, 61,  1, 72, 32, 47,\n",
       "       33, 29, 10, 70, 73, 98, 12, 96, 16, 78, 50,  9, 25, 59, 93, 43, 65,\n",
       "       89, 35, 79, 71, 64, 22, 90, 17, 23, 87, 48, 37, 28, 68, 30, 42,  4,\n",
       "       91,  6, 45, 97, 69, 39, 19, 54, 80, 94, 63, 56, 75, 85, 20])"
      ]
     },
     "execution_count": 169,
     "metadata": {},
     "output_type": "execute_result"
    }
   ],
   "source": [
    "_, ind = np.unique(A, return_index=True)\n",
    "J = A.reshape((1, len(A) * len(A[0])))\n",
    "J[0][np.sort(ind)]  "
   ]
  },
  {
   "cell_type": "markdown",
   "metadata": {},
   "source": [
    "# Задание 2.11 (3 балла)\n",
    "\n",
    "Создайте одномерный массив размерности $200$, в котором каждый элемент - евклидово расстояние между соответствующей строкой `A` и \"средней\" строкой `A`"
   ]
  },
  {
   "cell_type": "code",
   "execution_count": 170,
   "metadata": {},
   "outputs": [
    {
     "data": {
      "text/plain": [
       "array([199.45738135, 201.87517672, 192.5092127 , 188.51725909,\n",
       "       216.67078016, 222.47365456, 188.46861005, 211.10967997,\n",
       "       209.59992122, 224.1657132 , 216.76770279, 222.71061262,\n",
       "       206.44698345, 234.50022809, 212.07024066, 201.34891848,\n",
       "       218.75963287, 185.36805813, 235.97365738, 216.22883012,\n",
       "       198.06755659, 209.64714874, 212.73919943, 214.04083016,\n",
       "       198.19618305, 200.32253237, 204.89489251, 203.21136035,\n",
       "       221.92563388, 186.27978144, 211.05410912, 185.26933631,\n",
       "       213.71732961, 216.1926617 , 190.80316291, 197.12972119,\n",
       "       217.33988814, 216.67428776, 198.45227884, 194.63886296,\n",
       "       205.48685353, 212.04159256, 190.29623479, 177.0185498 ,\n",
       "       190.52261539, 200.50428169, 192.97366912, 217.30413474,\n",
       "       228.61351004, 207.79631126, 204.54301986, 192.77701361,\n",
       "       192.30748029, 208.6523831 , 217.11049485, 210.3980679 ,\n",
       "       191.37310933, 205.69483945, 181.44144228, 201.2293144 ,\n",
       "       237.95973814, 204.09122219, 204.09391705, 216.17374257,\n",
       "       183.61172886, 193.27655568, 217.70084284, 223.07103572,\n",
       "       210.21868845, 199.5456263 , 223.6457399 , 221.09029145,\n",
       "       208.11068443, 199.04219898, 181.76560999, 201.23853253,\n",
       "       230.59084322, 207.33925575, 184.44667786, 222.00062382,\n",
       "       208.62130039, 206.04719599, 214.00732926, 186.36455397,\n",
       "       201.67021836, 215.21897448, 187.81641828, 215.07497989,\n",
       "       198.62660188, 176.91858855, 194.07472008, 216.2398367 ,\n",
       "       202.70381589, 225.09661698, 210.81277707, 195.37724273,\n",
       "       216.88145835, 192.92912423, 199.42591851, 212.65805175,\n",
       "       195.73047023, 214.25668478, 211.26399829, 206.6114154 ,\n",
       "       192.3833594 , 187.59154292, 201.60281986, 202.00261626,\n",
       "       203.00304671, 232.16075675, 185.10598849, 202.63962341,\n",
       "       217.31467271, 185.44855614, 214.00718907, 188.66347547,\n",
       "       217.70589559, 207.23642772, 195.32592499, 188.01661356,\n",
       "       203.66201652, 202.19932486, 209.14874366, 211.34478223,\n",
       "       212.27453209, 215.3939344 , 196.82595605, 204.44952183,\n",
       "       187.75981193, 204.62098371, 206.19618565, 193.58271352,\n",
       "       213.62232321, 177.91539274, 191.48685849, 202.12361805,\n",
       "       204.5922212 , 189.70961224, 212.28430694, 224.29219107,\n",
       "       194.53448788, 211.70367728, 215.52358798, 191.78755688,\n",
       "       210.26230517, 186.8229027 , 181.55634656, 193.93890011,\n",
       "       182.52990707, 210.50317569, 212.20819253, 187.23113249,\n",
       "       195.5477358 , 189.55929673, 220.99141833, 204.05486266,\n",
       "       211.42002501, 199.17376076, 189.38964326, 206.17870156,\n",
       "       203.75197416, 217.2192141 , 197.53363505, 202.40028897,\n",
       "       206.41077243, 217.95783302, 217.80283969, 189.5002031 ,\n",
       "       196.18730075, 206.48626341, 200.9063637 , 203.348339  ,\n",
       "       220.9145015 , 203.68843113, 224.58327403, 201.88528172,\n",
       "       185.78209541, 193.67283489, 189.41820656, 217.14149068,\n",
       "       209.11235491, 197.21216234, 193.21373392, 201.5361431 ,\n",
       "       197.07840312, 204.65423762, 207.10071698, 198.22705914,\n",
       "       210.5394903 , 213.3873871 , 200.12482848, 197.19413524,\n",
       "       197.66789566, 201.21544915, 196.19785161, 205.58189846,\n",
       "       187.31136371, 196.23734857, 207.04008543, 199.51407713])"
      ]
     },
     "execution_count": 170,
     "metadata": {},
     "output_type": "execute_result"
    }
   ],
   "source": [
    "np.linalg.norm(A - np.mean(A, axis=0), axis=1)"
   ]
  },
  {
   "cell_type": "markdown",
   "metadata": {},
   "source": [
    "# Задание 2.12 (2 балла)\n",
    "\n",
    "Создайте новый массив, который состоит из элементов `A`, измененных по следующим правилам:\n",
    "- если элемент меньше $50$, то он умножается на $2$\n",
    "- в противном случае он умножается на $3$\n",
    "\n",
    "Используйте [np.where()](https://numpy.org/doc/stable/reference/generated/numpy.where.html)"
   ]
  },
  {
   "cell_type": "code",
   "execution_count": 171,
   "metadata": {},
   "outputs": [
    {
     "data": {
      "text/plain": [
       "array([[186,  80, 171, ...,   4, 276,  28],\n",
       "       [  0, 258,   6, ..., 177,  68, 234],\n",
       "       [216,  42, 279, ...,  46, 252, 261],\n",
       "       ...,\n",
       "       [ 84,  76,  52, ..., 210, 174,  88],\n",
       "       [273,  50,  74, ...,  60, 153, 279],\n",
       "       [ 40,  74, 213, ...,  82, 234, 195]])"
      ]
     },
     "execution_count": 171,
     "metadata": {},
     "output_type": "execute_result"
    }
   ],
   "source": [
    "np.where(A < 50, 2 * A, 3 * A)"
   ]
  },
  {
   "cell_type": "markdown",
   "metadata": {},
   "source": [
    "# Задание 2.13 (7 баллов)\n",
    "\n",
    "Разверните массив `A` в одномерный массив. Создайте три новых массива, подсчитав скользящие средние по окнам $3$, $5$, $10$. Найдите сумму этих массивов, выровнив из размерности нулями справа\n",
    "\n",
    "*Tip: реализуйте функцию, которая считает скользящее среднее. Используйте [np.cumsum()](https://numpy.org/doc/stable/reference/generated/numpy.cumsum.html) или [np.convolve()](https://numpy.org/doc/stable/reference/generated/numpy.convolve.html)*"
   ]
  },
  {
   "cell_type": "code",
   "execution_count": 172,
   "metadata": {},
   "outputs": [
    {
     "data": {
      "text/plain": [
       "array([162.4       , 164.7       , 175.46666667, ..., 131.53333333,\n",
       "        59.66666667,  61.33333333])"
      ]
     },
     "execution_count": 172,
     "metadata": {},
     "output_type": "execute_result"
    }
   ],
   "source": [
    "def moving_average(arr: np.ndarray, window_size: int) -> np.ndarray:\n",
    "    return np.convolve(arr[0], np.ones(window_size) / window_size, mode='valid') \n",
    "    \n",
    "V = A.reshape((1, len(A) * len(A[0])))\n",
    "V3 = moving_average(V, 3)\n",
    "V5 = moving_average(V, 5)\n",
    "V10 = moving_average(V, 10)\n",
    "\n",
    "V5 = np.concatenate((V5,  np.zeros(V3.shape[0] - V5.shape[0])))\n",
    "V10 = np.concatenate((V10,  np.zeros(V3.shape[0] - V10.shape[0])))\n",
    "V3 + V5 + V10"
   ]
  },
  {
   "cell_type": "code",
   "execution_count": null,
   "metadata": {},
   "outputs": [],
   "source": []
  },
  {
   "cell_type": "markdown",
   "metadata": {},
   "source": [
    "# Задание 2.14 (8 баллов)\n",
    "\n",
    "Постройте график функции $$f(x) = (5  \\sin(2x) - \\cos^2(x) - 1 + |x^3| - x^2) / (x^2 + 1)$$  \n",
    "\n",
    "и производной от этой функции.  Найдите минимум с помощью `scipy` и обозначьте его на графике. На этой же оси постройте графики скользящего среднего этой функции с окном $1$, $2$, $5$."
   ]
  },
  {
   "cell_type": "code",
   "execution_count": 173,
   "metadata": {},
   "outputs": [
    {
     "name": "stdout",
     "output_type": "stream",
     "text": [
      "Optimization terminated successfully.\n",
      "         Current function value: -4.882074\n",
      "         Iterations: 6\n",
      "         Function evaluations: 16\n",
      "         Gradient evaluations: 8\n"
     ]
    },
    {
     "data": {
      "image/png": "[encoded data removed]",
      "text/plain": [
       "<Figure size 640x480 with 1 Axes>"
      ]
     },
     "metadata": {},
     "output_type": "display_data"
    }
   ],
   "source": [
    "import numpy as np\n",
    "import scipy \n",
    "import matplotlib.pyplot as plt\n",
    "from scipy.misc import derivative\n",
    "from typing import Union, Callable\n",
    "\n",
    "\n",
    "def mov_avg(func: Callable[[np.ndarray], np.ndarray], x: np.ndarray, window: float) -> np.ndarray:\n",
    "    args = np.linspace(x - window / 2, x + window / 2, window * 100)\n",
    "    return func(args).mean(axis=0)\n",
    "\n",
    "def f(x: np.ndarray) -> np.ndarray:\n",
    "    return (5 * np.sin(2 * x) - np.cos(x) ** 2 - 1 + np.abs(x ** 3) - x ** 2) / (x ** 2 + 1)\n",
    "\n",
    "def df(f: Callable[[np.ndarray], np.ndarray], x: np.ndarray) -> np.ndarray:\n",
    "    return derivative(f, x, dx=1e-6)\n",
    "\n",
    "\n",
    "x = np.linspace(-10, 10, 200)  # (-10, 10, 1000)\n",
    "y = f(x) ## (5 * np.sin(2 * x) - np.cos(x) ** 2 - 1 + np.abs(x ** 3) - x ** 2) / (x ** 2 + 1)\n",
    "dy = df(f, x)\n",
    "\n",
    "plt.plot(x, y, label='f(x)')\n",
    "plt.plot(x, dy, label='f\\'(x)')\n",
    "\n",
    "min_f_p = scipy.optimize.fmin_bfgs(f, 0, full_output=True)\n",
    "x_min, y_min = min_f_p[0][0], min_f_p[1]\n",
    "plt.plot(x_min, y_min, '*', label='min ') \n",
    "\n",
    "m_a_1 = mov_avg(f, x, 1)\n",
    "m_a_2 = mov_avg(f, x, 2)\n",
    "m_a_5 = mov_avg(f, x, 5)\n",
    "\n",
    "# print(m_a_1.shape, m_a_2.shape, m_a_5.shape)\n",
    "\n",
    "plt.plot(x, m_a_1, label='f moving average 1') \n",
    "plt.plot(x, m_a_2, label='f moving average 2', color='yellow')  # x[:len(m_a_2)]\n",
    "plt.plot(x, m_a_5, label='f moving average 5', color = 'black')  # x[(len(x) - len(m_a_5)) // 2 : len(x) // 2 + len(m_a_5) // 2]\n",
    "\n",
    "plt.legend()\n",
    "plt.show()"
   ]
  },
  {
   "cell_type": "markdown",
   "metadata": {},
   "source": [
    "# Задание 2.15 (10 баллов)\n",
    "\n",
    "Есть следующий алгоритм семплинирования, на вход функции подается вектор из целых положительных чисел и число семплов."
   ]
  },
  {
   "cell_type": "code",
   "execution_count": 174,
   "metadata": {},
   "outputs": [
    {
     "data": {
      "text/plain": [
       "[3, 0, 0, 3, 3]"
      ]
     },
     "execution_count": 174,
     "metadata": {},
     "output_type": "execute_result"
    }
   ],
   "source": [
    "from typing import List \n",
    "\n",
    "def sample(x: List[int], c: int) -> List[int]:\n",
    "    assert len(x) > 0\n",
    "    \n",
    "    s = np.sum(x)\n",
    "    res = []\n",
    "    for _ in range(c):\n",
    "        val = s * np.random.random()\n",
    "        cur, idx = 0, 0        \n",
    "        while cur + x[idx] <= val:\n",
    "            cur += x[idx]\n",
    "            idx += 1    \n",
    "        res.append(idx)\n",
    "    return res\n",
    "\n",
    "            \n",
    "sample([50, 3, 1, 7, 20], 5)   "
   ]
  },
  {
   "cell_type": "markdown",
   "metadata": {},
   "source": [
    "Реализуйте данный алгоритм более оптимальным способом на массивах `numpy`, без использования циклов. Проверьте корректность и идентичность алгоритмов семплирования с помощью статистических тестов."
   ]
  },
  {
   "cell_type": "code",
   "execution_count": 175,
   "metadata": {},
   "outputs": [
    {
     "data": {
      "text/plain": [
       "array([0, 0, 0, 0, 0])"
      ]
     },
     "execution_count": 175,
     "metadata": {},
     "output_type": "execute_result"
    }
   ],
   "source": [
    "def sample_np(x: np.ndarray, c: int) -> np.ndarray:\n",
    "    assert len(x) > 0\n",
    "    return np.random.choice(np.arange(len(x)), size=c, p=x / np.sum(x))\n",
    "\n",
    "sample_np(np.array([50, 3, 1, 7, 20]), 5)\n"
   ]
  },
  {
   "cell_type": "code",
   "execution_count": 176,
   "metadata": {},
   "outputs": [
    {
     "data": {
      "text/plain": [
       "array([4, 0, 4, 4, 0])"
      ]
     },
     "execution_count": 176,
     "metadata": {},
     "output_type": "execute_result"
    }
   ],
   "source": [
    "def sample_np2(x: np.ndarray, c: int) -> np.ndarray:\n",
    "    assert len(x) > 0\n",
    "    \n",
    "    s = np.sum(x)\n",
    "    val = s * np.random.random(size=c)\n",
    "    cur = np.cumsum(x)\n",
    "    idx = np.searchsorted(cur, val)\n",
    "    return idx\n",
    "\n",
    "sample_np(np.array([50, 3, 1, 7, 20]), 5)"
   ]
  },
  {
   "attachments": {},
   "cell_type": "markdown",
   "metadata": {},
   "source": [
    "Для проверки гипотезы однородности воспользуемся критерием Стьюдента. "
   ]
  },
  {
   "cell_type": "code",
   "execution_count": 177,
   "metadata": {},
   "outputs": [
    {
     "name": "stdout",
     "output_type": "stream",
     "text": [
      "0.8349358203401199 0.40376381926082294\n",
      "0.5021190785477493 0.6155892889570509\n"
     ]
    }
   ],
   "source": [
    "# realize statistic tests\n",
    "from scipy import stats\n",
    "\n",
    "# from scipy.stats import ttest_ind\n",
    "data1 = sample([50, 3, 1, 7, 20, 10, 13, 79, 100, 2], 10000)\n",
    "data2 = list(sample_np([50, 3, 1, 7, 20, 10, 13, 79, 100, 2], 10000))  # TODO why list?\n",
    "data3 = sample_np2([50, 3, 1, 7, 20, 10, 13, 79, 100, 2], 10000)\n",
    "stat, p = stats.ttest_ind(data1, data2)\n",
    "stat2, p2 = stats.ttest_ind(data1, data3)\n",
    "print(stat, p)\n",
    "print(stat2, p2)"
   ]
  },
  {
   "attachments": {},
   "cell_type": "markdown",
   "metadata": {},
   "source": [
    "$p-value > 0.05$, мы не попали в критическую область, значит, нет основания отвергнуть нулевую гипотезу при уровне значимости альфа=0.05. "
   ]
  },
  {
   "attachments": {},
   "cell_type": "markdown",
   "metadata": {},
   "source": [
    "Для проверки гипотезы однородности воспользуемся Критерием Колмагорова-Смирнова"
   ]
  },
  {
   "cell_type": "code",
   "execution_count": 178,
   "metadata": {},
   "outputs": [
    {
     "name": "stdout",
     "output_type": "stream",
     "text": [
      "0.0081 0.898195296299018\n",
      "0.0081 0.898195296299018\n"
     ]
    }
   ],
   "source": [
    "from scipy.stats import ks_2samp\n",
    "\n",
    "#perform Kolmagorov-Smirnov test\n",
    "stat, p = ks_2samp(data1, data2)\n",
    "stat2, p2 = ks_2samp(data1, data3)\n",
    "print(stat, p)\n",
    "print(stat2, p2)\n",
    "\n",
    "\n"
   ]
  },
  {
   "attachments": {},
   "cell_type": "markdown",
   "metadata": {},
   "source": [
    "$p-value > 0.05$, мы не попали в критическую область, значит, нет основания отвергнуть нулевую гипотезу при уровне значимости альфа=0.05. "
   ]
  },
  {
   "cell_type": "code",
   "execution_count": 179,
   "metadata": {},
   "outputs": [
    {
     "data": {
      "image/png": "[encoded data removed]",
      "text/plain": [
       "<Figure size 640x480 with 1 Axes>"
      ]
     },
     "metadata": {},
     "output_type": "display_data"
    }
   ],
   "source": [
    "sns.kdeplot(data=data1,  label='sample')\n",
    "sns.kdeplot(data=data2,  label='numpy_sample')\n",
    "sns.kdeplot(data=data3,  label='numpy_sample2')\n",
    "plt.legend()\n",
    "plt.show()"
   ]
  },
  {
   "cell_type": "markdown",
   "metadata": {},
   "source": [
    "# Задание 2.16 (5 баллов)\n",
    "\n",
    "Есть следующий алгоритм \"случайного блуждания\""
   ]
  },
  {
   "cell_type": "code",
   "execution_count": 180,
   "metadata": {},
   "outputs": [
    {
     "data": {
      "text/plain": [
       "2040"
      ]
     },
     "execution_count": 180,
     "metadata": {},
     "output_type": "execute_result"
    }
   ],
   "source": [
    "import random \n",
    "\n",
    "def walk(n: int):\n",
    "    cur_position = 0\n",
    "    for i in range(n):\n",
    "        cur_position += random.choice([-3, -1, 0, 2, 3])\n",
    "\n",
    "    return cur_position\n",
    "\n",
    "walk(10_000)"
   ]
  },
  {
   "cell_type": "markdown",
   "metadata": {},
   "source": [
    "Реализуйте более эффективную версию с помощью `numpy`, сравните производительность (используя, например, magic `timeit`). Воспользовавшись [kdeplot()](https://seaborn.pydata.org/generated/seaborn.kdeplot.html) или аналогами, постройте график распределения значений `walk(10_000)` на каком-то разумном числе запусков. "
   ]
  },
  {
   "cell_type": "code",
   "execution_count": 181,
   "metadata": {},
   "outputs": [],
   "source": [
    "import timeit "
   ]
  },
  {
   "cell_type": "code",
   "execution_count": 182,
   "metadata": {},
   "outputs": [
    {
     "data": {
      "text/plain": [
       "1854"
      ]
     },
     "execution_count": 182,
     "metadata": {},
     "output_type": "execute_result"
    }
   ],
   "source": [
    "def walk_np(n: int) -> int:\n",
    "    return np.sum(np.random.choice([-3, -1, 0, 2, 3], size=n))\n",
    "\n",
    "walk_np(10_000)"
   ]
  },
  {
   "cell_type": "code",
   "execution_count": 183,
   "metadata": {},
   "outputs": [
    {
     "name": "stdout",
     "output_type": "stream",
     "text": [
      "Function walk:  4.452317166986177\n",
      "Function walk_np:  0.1722837499983143\n"
     ]
    }
   ],
   "source": [
    "print(\"Function walk: \", timeit.timeit('walk(10000)', globals=globals(), number=1000))\n",
    "print(\"Function walk_np: \", timeit.timeit('walk_np(10000)', globals=globals(), number=1000))"
   ]
  },
  {
   "cell_type": "code",
   "execution_count": 184,
   "metadata": {},
   "outputs": [
    {
     "data": {
      "image/png": "[encoded data removed]",
      "text/plain": [
       "<Figure size 640x480 with 1 Axes>"
      ]
     },
     "metadata": {},
     "output_type": "display_data"
    }
   ],
   "source": [
    "walk_values = [walk(10000) for _ in range(1000)]\n",
    "walk_np_values = [walk_np(10000) for _ in range(1000)]\n",
    "sns.kdeplot(walk_values, label='walk')\n",
    "sns.kdeplot(walk_np_values, label='walk_np')\n",
    "plt.legend()\n",
    "plt.show()\n"
   ]
  },
  {
   "cell_type": "code",
   "execution_count": 185,
   "metadata": {},
   "outputs": [
    {
     "name": "stdout",
     "output_type": "stream",
     "text": [
      "44.9 ms ± 403 µs per loop (mean ± std. dev. of 7 runs, 10 loops each)\n"
     ]
    }
   ],
   "source": [
    "%timeit walk(100000)"
   ]
  },
  {
   "cell_type": "code",
   "execution_count": 186,
   "metadata": {},
   "outputs": [
    {
     "name": "stdout",
     "output_type": "stream",
     "text": [
      "1.55 ms ± 20.9 µs per loop (mean ± std. dev. of 7 runs, 1,000 loops each)\n"
     ]
    }
   ],
   "source": [
    "%timeit walk_np(100000)"
   ]
  },
  {
   "cell_type": "code",
   "execution_count": 187,
   "metadata": {},
   "outputs": [
    {
     "data": {
      "text/plain": [
       "(26.488095238095237, 28.94736842105263)"
      ]
     },
     "execution_count": 187,
     "metadata": {},
     "output_type": "execute_result"
    }
   ],
   "source": [
    "4.45*1000/168, 44/1.52"
   ]
  },
  {
   "attachments": {},
   "cell_type": "markdown",
   "metadata": {},
   "source": [
    "Производительность увеличилась в несколько (~26-29) раз. "
   ]
  },
  {
   "cell_type": "markdown",
   "metadata": {},
   "source": [
    "# Задание 2.17 (5 баллов)\n",
    "\n",
    "Имеется функция, которая проделывает достаточно странные манипуляции с массивом `numpy`"
   ]
  },
  {
   "cell_type": "code",
   "execution_count": 188,
   "metadata": {},
   "outputs": [
    {
     "data": {
      "text/plain": [
       "0.785689822647394"
      ]
     },
     "execution_count": 188,
     "metadata": {},
     "output_type": "execute_result"
    }
   ],
   "source": [
    "import numpy.typing as npt\n",
    "\n",
    "def strange_conv(a: npt.NDArray[np.float64]) -> np.float64:\n",
    "    x = a.shape[0]\n",
    "    y = a.shape[1]\n",
    "\n",
    "    t = 1.\n",
    "    for y in range(y - 5):\n",
    "        for x in range(x - 3):\n",
    "            c = 1.5 * a[y+1, x+2] - a[y+5, x+3] * a[y, x] + 0.2 * a[y+4, x]\n",
    "            t = 0.2 * t + 0.8 * c\n",
    "\n",
    "    return t\n",
    "\n",
    "\n",
    "a = np.random.random((10000, 10000))\n",
    "strange_conv(a)\n"
   ]
  },
  {
   "cell_type": "markdown",
   "metadata": {},
   "source": [
    "Оптимизируйте данную функцию с помощью (2 на выбор):\n",
    "- [Numba](https://numba.pydata.org)\n",
    "- `Cython` (+5 баллов)\n",
    "- [Taichi](https://github.com/taichi-dev/taichi) (+5 баллов)\n",
    "- `Pythran `[[1]](https://pythran.readthedocs.io/en/latest/), [[2]](https://serge-sans-paille.github.io/pythran-stories/pythran-tutorial.html) (+2 балла)\n",
    "\n",
    "Сравните производительность."
   ]
  },
  {
   "cell_type": "code",
   "execution_count": 189,
   "metadata": {},
   "outputs": [
    {
     "data": {
      "text/plain": [
       "0.7798722475312345"
      ]
     },
     "execution_count": 189,
     "metadata": {},
     "output_type": "execute_result"
    }
   ],
   "source": [
    "from numba import njit\n",
    "\n",
    "strange_conv_numba = njit(strange_conv)\n",
    "\n",
    "a = np.random.random((10000, 10000))\n",
    "strange_conv_numba(a)"
   ]
  },
  {
   "cell_type": "code",
   "execution_count": 190,
   "metadata": {},
   "outputs": [],
   "source": [
    "import cython"
   ]
  },
  {
   "cell_type": "code",
   "execution_count": 191,
   "metadata": {},
   "outputs": [
    {
     "name": "stdout",
     "output_type": "stream",
     "text": [
      "The Cython extension is already loaded. To reload it, use:\n",
      "  %reload_ext Cython\n"
     ]
    }
   ],
   "source": [
    "%load_ext Cython"
   ]
  },
  {
   "cell_type": "code",
   "execution_count": 192,
   "metadata": {},
   "outputs": [],
   "source": [
    "%%cython\n",
    "\n",
    "cimport numpy\n",
    "\n",
    "def strange_conv_cython(numpy.ndarray['double', ndim=2] a):\n",
    "    cdef int x = a.shape[0]\n",
    "    cdef int y = a.shape[1]\n",
    "\n",
    "    cdef double t = 1.\n",
    "    cdef double c = 0.\n",
    "    for y in range(y - 5):\n",
    "        for x in range(x - 3):\n",
    "            c = 1.5 * a[y+1, x+2] - a[y+5, x+3] * a[y, x] + 0.2 * a[y+4, x]\n",
    "            t = 0.2 * t + 0.8 * c\n",
    "\n",
    "    return t\n"
   ]
  },
  {
   "cell_type": "code",
   "execution_count": 193,
   "metadata": {},
   "outputs": [
    {
     "name": "stdout",
     "output_type": "stream",
     "text": [
      "12.8 s ± 541 ms per loop (mean ± std. dev. of 7 runs, 1 loop each)\n"
     ]
    }
   ],
   "source": [
    "%timeit strange_conv(a)"
   ]
  },
  {
   "cell_type": "code",
   "execution_count": 194,
   "metadata": {},
   "outputs": [
    {
     "name": "stdout",
     "output_type": "stream",
     "text": [
      "28.6 ms ± 108 µs per loop (mean ± std. dev. of 7 runs, 10 loops each)\n"
     ]
    }
   ],
   "source": [
    "%timeit strange_conv_numba(a)"
   ]
  },
  {
   "cell_type": "code",
   "execution_count": 195,
   "metadata": {},
   "outputs": [
    {
     "name": "stdout",
     "output_type": "stream",
     "text": [
      "42.5 ms ± 41.6 µs per loop (mean ± std. dev. of 7 runs, 10 loops each)\n"
     ]
    }
   ],
   "source": [
    "%timeit strange_conv_cython(a)"
   ]
  },
  {
   "attachments": {},
   "cell_type": "markdown",
   "metadata": {},
   "source": [
    "Производительность с помощью Numba улучшается в ~438 раз, производительность с Cython больше в 293 раз"
   ]
  },
  {
   "cell_type": "code",
   "execution_count": 196,
   "metadata": {},
   "outputs": [
    {
     "name": "stdout",
     "output_type": "stream",
     "text": [
      "438.1625441696113 293.1442080378251\n"
     ]
    }
   ],
   "source": [
    "print(12.4*1000/28.3,12.4*1000/42.3)"
   ]
  }
 ],
 "metadata": {
  "kernelspec": {
   "display_name": "Python 3.10.6 ('python-for-data-analysis')",
   "language": "python",
   "name": "python3"
  },
  "language_info": {
   "codemirror_mode": {
    "name": "ipython",
    "version": 3
   },
   "file_extension": ".py",
   "mimetype": "text/x-python",
   "name": "python",
   "nbconvert_exporter": "python",
   "pygments_lexer": "ipython3",
   "version": "3.10.6"
  },
  "orig_nbformat": 4,
  "vscode": {
   "interpreter": {
    "hash": "cdcb8b47a48146c8bfd997adddf099df095524100ba9341af35969a11f235150"
   }
  }
 },
 "nbformat": 4,
 "nbformat_minor": 2
}
