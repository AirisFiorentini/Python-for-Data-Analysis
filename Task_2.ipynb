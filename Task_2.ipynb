{
 "cells": [
  {
   "cell_type": "markdown",
   "metadata": {},
   "source": [
    "# Задание 2.\n",
    "\n",
    "**NB. Все упражнения ниже нужно делать без использования циклов Python в явном (`while`, `for`) и неявном виде (list comprehension, `map`, `reduce` и пр)**\n",
    "\n",
    "Задания по манипуляциям с массивами чаще всего решаются в одно/два выражения. "
   ]
  },
  {
   "cell_type": "code",
   "execution_count": 1,
   "metadata": {},
   "outputs": [
    {
     "data": {
      "text/plain": [
       "array([[48, 22,  4, ..., 25, 26, 13],\n",
       "       [43, 71, 19, ..., 47,  6, 49],\n",
       "       [66, 86, 91, ..., 62, 82, 45],\n",
       "       ...,\n",
       "       [26, 40, 41, ..., 53, 86, 73],\n",
       "       [ 7, 38, 97, ..., 68, 46, 64],\n",
       "       [38, 69, 48, ..., 88, 89,  6]])"
      ]
     },
     "execution_count": 1,
     "metadata": {},
     "output_type": "execute_result"
    }
   ],
   "source": [
    "%matplotlib inline\n",
    "\n",
    "import numpy as np\n",
    "import matplotlib.pyplot as plt\n",
    "import seaborn as sns\n",
    "sns.set_theme()\n",
    "\n",
    "A = np.random.randint(0, 100, size=(200, 50))\n",
    "A"
   ]
  },
  {
   "cell_type": "markdown",
   "metadata": {},
   "source": [
    "# Задание 2.1 (2 балла)\n",
    "\n",
    "Сгенерируйте новый массив, в котором столбцы массива `A` переставлены в случайном порядке"
   ]
  },
  {
   "cell_type": "code",
   "execution_count": 2,
   "metadata": {},
   "outputs": [
    {
     "data": {
      "text/plain": [
       "array([[52, 64, 48, ..., 44, 70, 86],\n",
       "       [23, 95, 43, ..., 17, 10, 19],\n",
       "       [61, 28, 66, ..., 66, 30, 24],\n",
       "       ...,\n",
       "       [32,  9, 26, ..., 78, 86, 39],\n",
       "       [82, 50,  7, ..., 85, 35, 10],\n",
       "       [40, 33, 38, ..., 34, 35, 10]])"
      ]
     },
     "execution_count": 2,
     "metadata": {},
     "output_type": "execute_result"
    }
   ],
   "source": [
    "B = np.transpose(np.random.permutation(np.transpose(A)))\n",
    "B"
   ]
  },
  {
   "cell_type": "markdown",
   "metadata": {},
   "source": [
    "# Задание 2.2 (5 баллов)\n",
    "\n",
    "Сгенерируйте новый массив, который содержит только те строки массива `A`, в которых: \n",
    "- сумма элементов по четным столбцам (индексы $0, 2, \\ldots$) больше среднего значения (по всему массиву) суммы элементов по нечетным столбцам (индексы $1, 3, \\ldots$) "
   ]
  },
  {
   "cell_type": "code",
   "execution_count": 3,
   "metadata": {},
   "outputs": [
    {
     "data": {
      "text/plain": [
       "array([[ 5, 57, 83, ..., 83, 93, 17],\n",
       "       [72, 38, 86, ..., 20,  3, 86],\n",
       "       [10,  3, 33, ...,  8, 67, 54],\n",
       "       ...,\n",
       "       [74, 46, 33, ..., 87, 56, 54],\n",
       "       [11, 29, 93, ..., 15, 87,  6],\n",
       "       [ 7, 38, 97, ..., 68, 46, 64]])"
      ]
     },
     "execution_count": 3,
     "metadata": {},
     "output_type": "execute_result"
    }
   ],
   "source": [
    "C = A[A[:,::2].sum(axis=1) > A[:,1::2].sum(axis=1).mean()]\n",
    "C"
   ]
  },
  {
   "cell_type": "markdown",
   "metadata": {},
   "source": [
    "# Задача 2.3 (3 балла)\n",
    "\n",
    "Найдите индекс строки массива `A`, в которой разница между максимальным и минимальным элементом максимальна"
   ]
  },
  {
   "cell_type": "code",
   "execution_count": 4,
   "metadata": {},
   "outputs": [
    {
     "data": {
      "text/plain": [
       "4"
      ]
     },
     "execution_count": 4,
     "metadata": {},
     "output_type": "execute_result"
    }
   ],
   "source": [
    "i = np.argmax(np.max(A, axis=1) - np.min(A, axis=1))\n",
    "i"
   ]
  },
  {
   "cell_type": "markdown",
   "metadata": {},
   "source": [
    "# Задание 2.4 (7 баллов)\n",
    "\n",
    "Сгенерируйте массив той же размерности, что и `A`, но в котором каждый элемент заменен на его порядковый номер (начиная с 1) в отсортированном по возрастанию массиве из элементов `A`\n",
    "\n",
    "Если `A` выглядит так:\n",
    "$$\n",
    "\\begin{pmatrix}\n",
    "12 & 14\\\\\n",
    "1 & 2\n",
    "\\end{pmatrix}\n",
    "$$\n",
    "то результат должен быть\n",
    "$$\n",
    "\\begin{pmatrix}\n",
    "3 & 4\\\\\n",
    "1 & 2\n",
    "\\end{pmatrix}\n",
    "$$\n",
    "\n",
    "*Tip: рассмотрите возможность неоднократного применения [argsort()](https://numpy.org/doc/stable/reference/generated/numpy.ndarray.argsort.html)*"
   ]
  },
  {
   "cell_type": "code",
   "execution_count": 5,
   "metadata": {},
   "outputs": [
    {
     "data": {
      "text/plain": [
       "array([[9806, 7655, 6238, ..., 3716, 8422, 6093],\n",
       "       [3945, 6129, 4460, ..., 3263, 9428, 3291],\n",
       "       [2508, 2534, 1297, ..., 6666, 2620, 9226],\n",
       "       ...,\n",
       "       [2138,  929, 8449, ..., 7566, 2359,  339],\n",
       "       [4865, 4870, 2590, ..., 7887, 6629,  426],\n",
       "       [ 777,  421, 5439, ..., 1606, 1630, 7707]])"
      ]
     },
     "execution_count": 5,
     "metadata": {},
     "output_type": "execute_result"
    }
   ],
   "source": [
    "D = np.argsort(A.reshape(1, len(A)*len(A[0]))).reshape(len(A),len(A[0])) + 1\n",
    "D"
   ]
  },
  {
   "cell_type": "markdown",
   "metadata": {},
   "source": [
    "# Задание 2.5 (2 балла)\n",
    "\n",
    "Примените $\\min-\\max$ - нормализацию к строкам массива `A`. То есть нужно получить новый массив, в каждой строке которого максимальный элемент равен $1$, минимальный - $0$. "
   ]
  },
  {
   "cell_type": "code",
   "execution_count": 6,
   "metadata": {},
   "outputs": [
    {
     "data": {
      "text/plain": [
       "array([[0.4787234 , 0.20212766, 0.0106383 , ..., 0.23404255, 0.24468085,\n",
       "        0.10638298],\n",
       "       [0.42268041, 0.71134021, 0.17525773, ..., 0.46391753, 0.04123711,\n",
       "        0.48453608],\n",
       "       [0.69148936, 0.90425532, 0.95744681, ..., 0.64893617, 0.86170213,\n",
       "        0.46808511],\n",
       "       ...,\n",
       "       [0.2688172 , 0.41935484, 0.43010753, ..., 0.55913978, 0.91397849,\n",
       "        0.77419355],\n",
       "       [0.07216495, 0.39175258, 1.        , ..., 0.70103093, 0.4742268 ,\n",
       "        0.65979381],\n",
       "       [0.38541667, 0.70833333, 0.48958333, ..., 0.90625   , 0.91666667,\n",
       "        0.05208333]])"
      ]
     },
     "execution_count": 6,
     "metadata": {},
     "output_type": "execute_result"
    }
   ],
   "source": [
    "A_min = np.tile(A.min(axis=1).reshape((-1, 1)), (1, A.shape[1]))\n",
    "A_max = np.tile(A.max(axis=1).reshape((-1, 1)), (1, A.shape[1]))\n",
    "E = (A - A_min) / (A_max - A_min)\n",
    "E"
   ]
  },
  {
   "cell_type": "markdown",
   "metadata": {},
   "source": [
    "# Задание 2.6 (2 балла)\n",
    "\n",
    "Сгенерируйте новый трехмерный массив, размерности $10 \\times 200 \\times 50$. Подмассивы по нулевой оси должны состоять из элементов `A`, умноженных на $1 - 10$ соответственно"
   ]
  },
  {
   "cell_type": "code",
   "execution_count": 7,
   "metadata": {},
   "outputs": [
    {
     "data": {
      "text/plain": [
       "array([[[ 48,  22,   4, ...,  25,  26,  13],\n",
       "        [ 43,  71,  19, ...,  47,   6,  49],\n",
       "        [ 66,  86,  91, ...,  62,  82,  45],\n",
       "        ...,\n",
       "        [ 26,  40,  41, ...,  53,  86,  73],\n",
       "        [  7,  38,  97, ...,  68,  46,  64],\n",
       "        [ 38,  69,  48, ...,  88,  89,   6]],\n",
       "\n",
       "       [[ 96,  44,   8, ...,  50,  52,  26],\n",
       "        [ 86, 142,  38, ...,  94,  12,  98],\n",
       "        [132, 172, 182, ..., 124, 164,  90],\n",
       "        ...,\n",
       "        [ 52,  80,  82, ..., 106, 172, 146],\n",
       "        [ 14,  76, 194, ..., 136,  92, 128],\n",
       "        [ 76, 138,  96, ..., 176, 178,  12]],\n",
       "\n",
       "       [[144,  66,  12, ...,  75,  78,  39],\n",
       "        [129, 213,  57, ..., 141,  18, 147],\n",
       "        [198, 258, 273, ..., 186, 246, 135],\n",
       "        ...,\n",
       "        [ 78, 120, 123, ..., 159, 258, 219],\n",
       "        [ 21, 114, 291, ..., 204, 138, 192],\n",
       "        [114, 207, 144, ..., 264, 267,  18]],\n",
       "\n",
       "       ...,\n",
       "\n",
       "       [[384, 176,  32, ..., 200, 208, 104],\n",
       "        [344, 568, 152, ..., 376,  48, 392],\n",
       "        [528, 688, 728, ..., 496, 656, 360],\n",
       "        ...,\n",
       "        [208, 320, 328, ..., 424, 688, 584],\n",
       "        [ 56, 304, 776, ..., 544, 368, 512],\n",
       "        [304, 552, 384, ..., 704, 712,  48]],\n",
       "\n",
       "       [[432, 198,  36, ..., 225, 234, 117],\n",
       "        [387, 639, 171, ..., 423,  54, 441],\n",
       "        [594, 774, 819, ..., 558, 738, 405],\n",
       "        ...,\n",
       "        [234, 360, 369, ..., 477, 774, 657],\n",
       "        [ 63, 342, 873, ..., 612, 414, 576],\n",
       "        [342, 621, 432, ..., 792, 801,  54]],\n",
       "\n",
       "       [[480, 220,  40, ..., 250, 260, 130],\n",
       "        [430, 710, 190, ..., 470,  60, 490],\n",
       "        [660, 860, 910, ..., 620, 820, 450],\n",
       "        ...,\n",
       "        [260, 400, 410, ..., 530, 860, 730],\n",
       "        [ 70, 380, 970, ..., 680, 460, 640],\n",
       "        [380, 690, 480, ..., 880, 890,  60]]])"
      ]
     },
     "execution_count": 7,
     "metadata": {},
     "output_type": "execute_result"
    }
   ],
   "source": [
    "c = np.arange(1, 11).reshape((-1, 1, 1))   # shape: (10, 1, 1)\n",
    "A * c   # shape: (200, 50) * (10, 1, 1) = (1, 200, 50) * (10, 1, 1) = (10, 200, 50)"
   ]
  },
  {
   "cell_type": "markdown",
   "metadata": {},
   "source": [
    "# Задание 2.7 (2 балла)\n",
    "\n",
    "Создайте новый массив, такой же размерности, как и `A`, в котором сначала сгруппированы четные столбцы `A`, потом  нечетные. Используйте [np.concat()](https://numpy.org/doc/stable/reference/generated/numpy.concatenate.html) "
   ]
  },
  {
   "cell_type": "code",
   "execution_count": 8,
   "metadata": {},
   "outputs": [
    {
     "data": {
      "text/plain": [
       "array([[48,  4, 42, ..., 97, 25, 13],\n",
       "       [43, 19, 76, ..., 55, 47, 49],\n",
       "       [66, 91, 34, ..., 87, 62, 45],\n",
       "       ...,\n",
       "       [26, 41, 10, ..., 94, 53, 73],\n",
       "       [ 7, 97, 40, ..., 22, 68, 64],\n",
       "       [38, 48, 27, ..., 64, 88,  6]])"
      ]
     },
     "execution_count": 8,
     "metadata": {},
     "output_type": "execute_result"
    }
   ],
   "source": [
    "a1 = A[:,1::2]\n",
    "a1\n",
    "a2 = A[:,0::2]\n",
    "F = np.concatenate((a2, a1), axis=1)\n",
    "F"
   ]
  },
  {
   "cell_type": "markdown",
   "metadata": {},
   "source": [
    "# Задание 2.8 (2 балла)\n",
    "\n",
    "Посчитайте количество строк массива `A`, в который все элементы больше 5. Используйте [np.all()](https://numpy.org/doc/stable/reference/generated/numpy.all.html) "
   ]
  },
  {
   "cell_type": "code",
   "execution_count": 9,
   "metadata": {},
   "outputs": [
    {
     "data": {
      "text/plain": [
       "5"
      ]
     },
     "execution_count": 9,
     "metadata": {},
     "output_type": "execute_result"
    }
   ],
   "source": [
    "len(A[np.all(A > 5, axis=1)])"
   ]
  },
  {
   "cell_type": "markdown",
   "metadata": {},
   "source": [
    "# Задание 2.9 (2 балла)\n",
    "\n",
    "Поделите массив `A` горизонтально на 10 частей и создайте новый массив размерности $20 \\times 50$, который является средним этих частей. Используйте [np.split()](https://numpy.org/doc/stable/reference/generated/numpy.split.html)"
   ]
  },
  {
   "cell_type": "code",
   "execution_count": 10,
   "metadata": {},
   "outputs": [
    {
     "data": {
      "text/plain": [
       "array([[56.5, 49.1, 38.5, 54.1, 43.3, 50.2, 49. , 47.7, 55.8, 48.9, 56.6,\n",
       "        51.5, 56. , 61.8, 65.6, 48.2, 60.1, 39.6, 59.6, 42.3, 53.2, 36.8,\n",
       "        48.6, 54.1, 43.9, 40.2, 36.5, 46.7, 43.9, 43.8, 52.5, 46.5, 46.9,\n",
       "        62.7, 39.2, 60. , 46. , 50.6, 37.2, 52.1, 58.4, 52.5, 39.3, 67. ,\n",
       "        47.1, 59.3, 46. , 45.3, 35.3, 50.6],\n",
       "       [71.4, 47.4, 61.9, 61.7, 35.7, 47.6, 54.8, 62. , 49. , 52.9, 50. ,\n",
       "        63.4, 56.9, 69.9, 58.1, 48.7, 44.9, 69.1, 60.5, 48.4, 46.3, 40.5,\n",
       "        49.4, 46.3, 31.2, 59.1, 35.9, 31.7, 58. , 47.5, 52.6, 67.9, 35.2,\n",
       "        51.8, 45.7, 47.2, 53. , 49.7, 61.9, 60. , 49.3, 55.8, 38.6, 52. ,\n",
       "        47.5, 46.1, 48. , 51.9, 44.8, 65.6],\n",
       "       [48.2, 42.3, 53.3, 61.6, 34.9, 48.2, 46.8, 49.2, 43.5, 46.1, 38.5,\n",
       "        50.9, 53.3, 62.3, 60. , 47.6, 68.8, 56.9, 58.4, 44.7, 42.6, 53.3,\n",
       "        53. , 47. , 56.7, 58.3, 59.9, 51.3, 48.2, 33.6, 44.2, 45.6, 42.7,\n",
       "        46.4, 49.3, 41.4, 54.2, 61.4, 57.9, 57.4, 47.1, 47.6, 48.8, 30.3,\n",
       "        30. , 61. , 51.3, 54.2, 45.8, 43.5],\n",
       "       [45.4, 48.4, 45.9, 47.1, 69.7, 35.1, 34.6, 51.1, 37.9, 41.9, 48.4,\n",
       "        37.2, 52. , 50.3, 61.3, 60.4, 57.6, 57.6, 54.3, 41. , 44.3, 55.6,\n",
       "        60.6, 59.6, 42.3, 58.9, 46.3, 33.9, 40. , 36.9, 52.9, 45.3, 55. ,\n",
       "        43.4, 54.8, 42.8, 50. , 55.3, 46.9, 60.7, 36.9, 46.2, 61.7, 39.2,\n",
       "        54.7, 42.6, 55.2, 49.4, 37.4, 52.1],\n",
       "       [39.4, 62. , 48.8, 36.3, 51.7, 58.2, 48.2, 48.2, 48.4, 50.2, 32.6,\n",
       "        47.4, 55.4, 55.5, 44. , 52.6, 50.6, 43.4, 57.9, 44.7, 41.6, 56.2,\n",
       "        60.6, 51.2, 55.7, 58.1, 36. , 68.3, 45.5, 51.6, 57.6, 59.5, 45.3,\n",
       "        46.4, 45.5, 52.8, 54.7, 54.6, 52.5, 46.8, 56.6, 42.7, 53.9, 27. ,\n",
       "        59.1, 42.9, 51.6, 48. , 52.7, 39.8],\n",
       "       [64.8, 47.3, 60. , 58.2, 32.7, 36.9, 40.4, 47.9, 37.3, 50.3, 45.6,\n",
       "        42.7, 37.4, 48.3, 37.8, 41.3, 43.3, 48.9, 57.6, 60.1, 49.2, 58.8,\n",
       "        43.6, 38.7, 31.7, 36.7, 36.8, 56.6, 41.6, 46.8, 45.2, 43.9, 39.2,\n",
       "        40.7, 45.9, 58.9, 44.2, 51.8, 35.2, 72.5, 39.3, 55.9, 41.6, 52.5,\n",
       "        39.2, 43.8, 38.7, 36.4, 62.5, 60.6],\n",
       "       [47. , 56.9, 53.5, 52.5, 49.9, 40.4, 49.7, 48.8, 48.2, 46.1, 49.5,\n",
       "        61.8, 48.9, 53.9, 58.1, 50.5, 39.3, 49.9, 47.9, 49.6, 32.6, 52.3,\n",
       "        37.7, 40.5, 47.5, 45.3, 48.7, 47.4, 49.2, 39.3, 48.8, 38.8, 48.4,\n",
       "        61.1, 50.2, 48.1, 49.4, 34.8, 52. , 47.7, 61. , 46.4, 47. , 58.1,\n",
       "        55.5, 41.9, 45.4, 52. , 64. , 42.7],\n",
       "       [47.7, 40.3, 57.5, 40.9, 70.1, 58.1, 70. , 58.2, 49.9, 33.2, 51.6,\n",
       "        48.7, 36.2, 49.5, 44.4, 55.3, 49.6, 63.8, 58.9, 41.2, 57.9, 52.5,\n",
       "        41.8, 44.4, 56.6, 40.8, 60.5, 53.9, 43.7, 66.3, 21. , 47. , 48. ,\n",
       "        42.8, 47.4, 50.3, 50.8, 61.8, 58.7, 62.1, 50.6, 30.4, 69.8, 36.7,\n",
       "        50.7, 36.7, 52.6, 60.4, 38.5, 51.5],\n",
       "       [35.2, 41.2, 31.2, 52.4, 47.8, 47.8, 36.2, 54.6, 47.8, 37.7, 44.1,\n",
       "        41.1, 45.2, 44.6, 54.6, 54. , 49.8, 47.9, 38.4, 48.4, 55.5, 41.6,\n",
       "        46. , 55.4, 51.4, 54.6, 42.2, 60.9, 60.6, 55.8, 45.9, 42.9, 43. ,\n",
       "        42.5, 55.6, 53.1, 39.6, 35.4, 41. , 46.2, 51.8, 50.8, 59.7, 56.8,\n",
       "        35.9, 41.7, 65.3, 52.2, 63.8, 38.7],\n",
       "       [68.5, 42.2, 48.6, 39.2, 41.9, 51.6, 50.5, 56.2, 47.1, 43.3, 62.5,\n",
       "        45.2, 49.4, 45.3, 54.1, 51.7, 58.5, 41.9, 64.5, 52.3, 44.7, 49.3,\n",
       "        46. , 42.3, 36.3, 49. , 34.8, 44.1, 61.8, 55.2, 41.5, 41.3, 45.2,\n",
       "        63.1, 69.8, 55. , 63.3, 40.2, 45.7, 54.6, 51.5, 60.7, 68.8, 59.4,\n",
       "        52.3, 40.7, 53.3, 47.1, 47.2, 46.6],\n",
       "       [46.2, 40.2, 55.2, 51.5, 46.3, 42.8, 49.2, 40. , 62.1, 55.9, 56. ,\n",
       "        66.7, 63.3, 45.6, 29.9, 41. , 56.2, 32.2, 47.7, 46.3, 56.4, 51.4,\n",
       "        59.9, 51.5, 78. , 49.6, 46.8, 35.7, 60.7, 44.5, 54.4, 64.4, 53.3,\n",
       "        43.5, 53.2, 55. , 42.5, 60.3, 32.3, 45.7, 37.2, 66.6, 43.7, 60.4,\n",
       "        28.2, 64.3, 45.4, 54.4, 54.9, 70.7],\n",
       "       [56.9, 55.7, 47.3, 49.7, 56.7, 47.8, 33.4, 67. , 68.2, 54. , 43.1,\n",
       "        59.2, 52.7, 41.2, 49.5, 51.8, 30.7, 63.7, 45.6, 49.4, 55.3, 54.7,\n",
       "        43.7, 58.9, 40.3, 38.2, 56.6, 46.7, 65.4, 49.4, 46.7, 39.5, 57.2,\n",
       "        24.5, 54.8, 52.9, 52.8, 45.5, 47.4, 39.6, 64.2, 47.1, 37.8, 57.1,\n",
       "        54.8, 46.7, 61.6, 39.3, 40.2, 51.8],\n",
       "       [44.3, 45.1, 51. , 61. , 58.4, 40.3, 47. , 38.5, 54.1, 56.3, 52. ,\n",
       "        35.8, 50.4, 48.7, 47.3, 62.5, 51.8, 56.7, 43.6, 35.1, 46.3, 48.7,\n",
       "        52.2, 46.8, 35.6, 59.7, 47.6, 40.9, 50.1, 58.5, 56.6, 57.5, 27.4,\n",
       "        57.4, 36.6, 43.7, 64.3, 52.3, 61.7, 36.8, 48.2, 66.1, 54.6, 57.1,\n",
       "        54.2, 52.1, 36.3, 53.4, 36.8, 47.6],\n",
       "       [55.6, 30.2, 56.8, 40.1, 33.3, 42.4, 51. , 44.5, 29. , 69.5, 61.1,\n",
       "        63.8, 38.7, 50. , 51.6, 40.2, 54.8, 41. , 61.8, 43.8, 49.3, 51.3,\n",
       "        53.2, 27.4, 43.1, 52.7, 55.9, 52.6, 50.3, 40.1, 35.3, 61.6, 54.2,\n",
       "        48.8, 39. , 68.1, 57.7, 35.2, 47.4, 49. , 31.5, 21.6, 48.6, 53.1,\n",
       "        36.6, 39.8, 44.6, 46.2, 35.8, 52.7],\n",
       "       [50.5, 41.5, 49.6, 60. , 49.9, 49.9, 50.8, 56.3, 56.6, 56.3, 53.3,\n",
       "        56.2, 64.1, 51.3, 53.5, 34. , 49.8, 59.8, 53.2, 49.4, 52.9, 42.4,\n",
       "        31.8, 37.7, 58.7, 60.2, 58.6, 44.9, 44.9, 40.1, 50.7, 34.8, 52. ,\n",
       "        38.6, 56.1, 46.6, 44.8, 56.3, 43.6, 50.5, 55.8, 54.5, 43.3, 56.3,\n",
       "        67.9, 38.5, 42.2, 39.6, 53.6, 51.4],\n",
       "       [61.3, 48.1, 47.4, 44.9, 59.3, 31.7, 37.6, 30.3, 33.2, 52. , 49.9,\n",
       "        50.1, 49.1, 47.4, 55.8, 40.7, 76.7, 47.2, 60.3, 54.9, 43.1, 37.6,\n",
       "        38.8, 57.2, 45.6, 46.8, 60.7, 34.1, 56.4, 43.4, 49.6, 40.2, 36.6,\n",
       "        43.1, 38. , 54.7, 61.1, 57.2, 39.1, 34.8, 49. , 51.7, 51.5, 54. ,\n",
       "        55.6, 66. , 53.2, 51.1, 58.8, 51.1],\n",
       "       [60.1, 44.8, 51.9, 59.6, 42. , 56. , 66.1, 47.1, 47.9, 62. , 58. ,\n",
       "        47.9, 47.9, 43.9, 59.1, 58.5, 24. , 57.3, 49.4, 52.9, 51.6, 53.5,\n",
       "        49.8, 43.4, 40.1, 64.9, 47.5, 59. , 51.5, 51.5, 60.9, 45.5, 53.2,\n",
       "        38.7, 38.9, 54.9, 46.6, 48. , 53.5, 35.7, 50.1, 55.8, 51.3, 68.5,\n",
       "        31.4, 37.1, 59.6, 44.7, 46.9, 45.1],\n",
       "       [26.6, 47.4, 56.5, 65.7, 56.9, 43.8, 47.5, 59. , 50.4, 57.9, 39.5,\n",
       "        53.6, 57.1, 42.6, 61.2, 42.8, 46.7, 53.2, 54.7, 73.1, 41.8, 39. ,\n",
       "        59.3, 62.9, 49.5, 55.7, 54.5, 26.7, 36.6, 32.3, 42.3, 43.1, 39.7,\n",
       "        42.3, 68.9, 37.9, 55.9, 54.6, 43.9, 48.2, 44.5, 50. , 59. , 60.4,\n",
       "        36.6, 37.8, 56.6, 54.4, 61. , 39.6],\n",
       "       [48.2, 36.6, 53.2, 77.5, 51.8, 66.6, 64.3, 48.3, 57.2, 64.6, 61.7,\n",
       "        38.1, 68.3, 57.9, 24.5, 42.1, 40.6, 33.9, 54.7, 52.8, 49.3, 37.2,\n",
       "        50.7, 56. , 35.4, 48.5, 55.1, 48.3, 65.9, 46.4, 56.2, 41.3, 59.3,\n",
       "        41. , 45.9, 40.8, 51.8, 57. , 36.9, 46.9, 56. , 56.8, 61.4, 42.8,\n",
       "        50. , 46.3, 58.4, 49. , 42.5, 51.9],\n",
       "       [59. , 60.6, 47.6, 45.5, 52.6, 42.1, 31.5, 34.7, 41.2, 54.3, 41.4,\n",
       "        36.3, 54. , 43.2, 55.1, 50.7, 34.2, 48.9, 45.2, 53.9, 44.1, 48.3,\n",
       "        41.7, 39.4, 56.2, 65.7, 49.6, 47.9, 52.7, 54.9, 38.1, 49.6, 52.7,\n",
       "        52.3, 66.9, 56.8, 49.9, 47.7, 47.8, 47.1, 30.6, 40.3, 43.5, 41. ,\n",
       "        39.5, 36.1, 51.2, 49.6, 57.9, 57.6]])"
      ]
     },
     "execution_count": 10,
     "metadata": {},
     "output_type": "execute_result"
    }
   ],
   "source": [
    "np.mean(np.split(A, 10), axis=0)"
   ]
  },
  {
   "cell_type": "markdown",
   "metadata": {},
   "source": [
    "# Задание 2.10 (4 балла)\n",
    "\n",
    "\"Разверните\" массив `A` в одномерный массив. Оставьте в нём только уникальные элементы в том же порядке, в котором они встречаются в массиве. Используйте [np.unique()](https://numpy.org/doc/stable/reference/generated/numpy.unique.html)"
   ]
  },
  {
   "cell_type": "code",
   "execution_count": 11,
   "metadata": {},
   "outputs": [
    {
     "data": {
      "text/plain": [
       "array([48, 22,  4, 62, 42, 15, 72, 59, 64, 35, 74, 43, 84, 70, 30, 71, 54,\n",
       "       58, 41, 46, 75, 20, 60, 11, 67, 38, 52, 51, 33, 81, 86, 44,  9, 45,\n",
       "        3, 97, 25, 26, 13, 19, 76, 61, 98, 95,  8,  6, 34, 77, 78, 10, 80,\n",
       "       50, 85, 32,  2, 68, 73, 83,  7, 87, 29, 23, 99, 24, 17, 31, 55, 47,\n",
       "       49, 66, 91, 65, 79, 92, 28, 18, 94, 40, 39, 57, 63,  1, 36,  5, 37,\n",
       "       82, 21, 69, 14,  0, 88, 96, 12, 89, 27, 93, 90, 56, 53, 16])"
      ]
     },
     "execution_count": 11,
     "metadata": {},
     "output_type": "execute_result"
    }
   ],
   "source": [
    "_, ind = np.unique(A, return_index=True)\n",
    "J = A.reshape((1, len(A) * len(A[0])))\n",
    "J[0][np.sort(ind)]  "
   ]
  },
  {
   "cell_type": "markdown",
   "metadata": {},
   "source": [
    "# Задание 2.11 (3 балла)\n",
    "\n",
    "Создайте одномерный массив размерности $200$, в котором каждый элемент - евклидово расстояние между соответствующей строкой `A` и \"средней\" строкой `A`"
   ]
  },
  {
   "cell_type": "code",
   "execution_count": 12,
   "metadata": {},
   "outputs": [
    {
     "data": {
      "text/plain": [
       "array([171.20118312, 194.86101483, 192.7616536 , 204.46218501,\n",
       "       210.85821089, 222.51279761, 175.44436469, 185.74763821,\n",
       "       220.60053286, 207.48921683, 214.93165216, 205.74084451,\n",
       "       195.74188387, 202.32586365, 191.31624369, 195.25876446,\n",
       "       207.63014015, 199.80241515, 216.75314323, 187.85639489,\n",
       "       186.01571197, 219.27602491, 191.6840502 , 199.89973762,\n",
       "       175.45949704, 210.41840485, 217.09155926, 186.00270186,\n",
       "       219.8529852 , 202.27653126, 228.33056103, 208.13131696,\n",
       "       208.31345396, 216.28260471, 209.87073426, 212.57030625,\n",
       "       224.80643919, 206.05027323, 210.80003582, 204.54802639,\n",
       "       204.98210922, 214.66172248, 204.46282083, 185.60825709,\n",
       "       207.33901008, 220.85451116, 198.65561935, 211.65591204,\n",
       "       180.46399946, 202.18900836, 193.49921214, 226.8748005 ,\n",
       "       216.35520585, 214.87153162, 194.31640461, 209.46769465,\n",
       "       223.84848693, 201.07833076, 216.50654748, 221.32847783,\n",
       "       190.41624169, 203.02087356, 199.27178701, 207.39485312,\n",
       "       174.24056675, 188.55759094, 215.91184567, 210.05795653,\n",
       "       205.39670177, 193.71893325, 189.12391467, 199.59197153,\n",
       "       227.31697055, 190.64646627, 195.48328599, 188.42081918,\n",
       "       228.24133083, 220.3934779 , 235.39644241, 194.90460513,\n",
       "       211.64773824, 204.39910739, 191.40531628, 206.87577214,\n",
       "       215.15012224, 205.81369026, 197.28911551, 218.41871509,\n",
       "       211.91747238, 218.78844828, 213.44691401, 176.00311105,\n",
       "       178.60295378, 198.81480101, 182.0415752 , 213.76951396,\n",
       "       195.67157458, 193.55494078, 216.40973892, 196.50332084,\n",
       "       194.22799772, 200.64150892, 204.43782698, 213.85091793,\n",
       "       197.37237674, 193.05150893, 214.8440716 , 189.2590159 ,\n",
       "       211.26593455, 205.89993953, 212.55616928, 219.00765991,\n",
       "       193.16903246, 200.51784235, 228.3087057 , 219.26368851,\n",
       "       188.34467102, 194.75994224, 211.02918068, 212.37251494,\n",
       "       194.64597376, 171.80795994, 208.98080079, 187.81015707,\n",
       "       207.72037719, 182.63448497, 167.75233262, 205.90309638,\n",
       "       212.69298319, 200.1290711 , 214.84604977, 221.50820549,\n",
       "       207.8977275 , 214.24158116, 182.33895662, 212.46445609,\n",
       "       199.94460508, 198.84135661, 195.02652409, 208.52511863,\n",
       "       202.37995232, 210.69334375, 186.68271238, 184.81949329,\n",
       "       206.86185028, 204.73376639, 200.42610883, 208.39866866,\n",
       "       190.66917711, 205.14288947, 205.40724208, 198.8084885 ,\n",
       "       204.73247202, 179.63840096, 216.34103887, 217.7787756 ,\n",
       "       195.01326904, 189.16531157, 211.76908438, 200.4215934 ,\n",
       "       196.91263317, 213.00604475, 195.19837371, 208.42968862,\n",
       "       183.4660053 , 217.78919877, 201.08345307, 204.03799916,\n",
       "       204.32583072, 203.76769886, 214.7752665 , 204.24320087,\n",
       "       224.14311299, 206.11250593, 196.86011556, 179.28358848,\n",
       "       197.94578829, 220.84008943, 207.27982319, 203.92570976,\n",
       "       194.84700434, 197.41011904, 204.96952237, 200.88858877,\n",
       "       206.54523742, 208.04582452, 180.74768353, 205.39782156,\n",
       "       204.60636623, 207.461816  , 199.43032643, 177.25282819,\n",
       "       213.15852106, 214.82126315, 234.9838188 , 207.22064352,\n",
       "       212.08075137, 189.6063952 , 202.59058492, 192.39790825])"
      ]
     },
     "execution_count": 12,
     "metadata": {},
     "output_type": "execute_result"
    }
   ],
   "source": [
    "np.linalg.norm(A - np.mean(A, axis=0), axis=1)"
   ]
  },
  {
   "cell_type": "markdown",
   "metadata": {},
   "source": [
    "# Задание 2.12 (2 балла)\n",
    "\n",
    "Создайте новый массив, который состоит из элементов `A`, измененных по следующим правилам:\n",
    "- если элемент меньше $50$, то он умножается на $2$\n",
    "- в противном случае он умножается на $3$\n",
    "\n",
    "Используйте [np.where()](https://numpy.org/doc/stable/reference/generated/numpy.where.html)"
   ]
  },
  {
   "cell_type": "code",
   "execution_count": 13,
   "metadata": {},
   "outputs": [
    {
     "data": {
      "text/plain": [
       "array([[ 96,  44,   8, ...,  50,  52,  26],\n",
       "       [ 86, 213,  38, ...,  94,  12,  98],\n",
       "       [198, 258, 273, ..., 186, 246,  90],\n",
       "       ...,\n",
       "       [ 52,  80,  82, ..., 159, 258, 219],\n",
       "       [ 14,  76, 291, ..., 204,  92, 192],\n",
       "       [ 76, 207,  96, ..., 264, 267,  12]])"
      ]
     },
     "execution_count": 13,
     "metadata": {},
     "output_type": "execute_result"
    }
   ],
   "source": [
    "np.where(A < 50, 2 * A, 3 * A)"
   ]
  },
  {
   "cell_type": "markdown",
   "metadata": {},
   "source": [
    "# Задание 2.13 (7 баллов)\n",
    "\n",
    "Разверните массив `A` в одномерный массив. Создайте три новых массива, подсчитав скользящие средние по окнам $3$, $5$, $10$. Найдите сумму этих массивов, выровнив из размерности нулями справа\n",
    "\n",
    "*Tip: реализуйте функцию, которая считает скользящее среднее. Используйте [np.cumsum()](https://numpy.org/doc/stable/reference/generated/numpy.cumsum.html) или [np.convolve()](https://numpy.org/doc/stable/reference/generated/numpy.convolve.html)*"
   ]
  },
  {
   "cell_type": "code",
   "execution_count": 14,
   "metadata": {},
   "outputs": [
    {
     "data": {
      "text/plain": [
       "array([102.56666667, 103.23333333, 122.        , ..., 129.93333333,\n",
       "        77.66666667,  61.        ])"
      ]
     },
     "execution_count": 14,
     "metadata": {},
     "output_type": "execute_result"
    }
   ],
   "source": [
    "def moving_average(arr: np.ndarray, window_size: int) -> np.ndarray:\n",
    "    return np.convolve(arr[0], np.ones(window_size) / window_size, mode='valid') \n",
    "    \n",
    "V = A.reshape((1, len(A) * len(A[0])))\n",
    "V3 = moving_average(V, 3)\n",
    "V5 = moving_average(V, 5)\n",
    "V10 = moving_average(V, 10)\n",
    "\n",
    "V5 = np.concatenate((V5,  np.zeros(V3.shape[0] - V5.shape[0])))\n",
    "V10 = np.concatenate((V10,  np.zeros(V3.shape[0] - V10.shape[0])))\n",
    "V3 + V5 + V10"
   ]
  },
  {
   "cell_type": "markdown",
   "metadata": {},
   "source": [
    "# Задание 2.14 (8 баллов)\n",
    "\n",
    "Постройте график функции $$f(x) = (5  \\sin(2x) - \\cos^2(x) - 1 + |x^3| - x^2) / (x^2 + 1)$$  \n",
    "\n",
    "и производной от этой функции.  Найдите минимум с помощью `scipy` и обозначьте его на графике. На этой же оси постройте графики скользящего среднего этой функции с окном $1$, $2$, $5$."
   ]
  },
  {
   "cell_type": "code",
   "execution_count": 15,
   "metadata": {},
   "outputs": [
    {
     "name": "stdout",
     "output_type": "stream",
     "text": [
      "Optimization terminated successfully.\n",
      "         Current function value: -4.882074\n",
      "         Iterations: 6\n",
      "         Function evaluations: 16\n",
      "         Gradient evaluations: 8\n"
     ]
    },
    {
     "data": {
      "image/png": "[encoded data removed]",
      "text/plain": [
       "<Figure size 640x480 with 1 Axes>"
      ]
     },
     "metadata": {},
     "output_type": "display_data"
    }
   ],
   "source": [
    "import numpy as np\n",
    "import scipy \n",
    "import matplotlib.pyplot as plt\n",
    "from scipy.misc import derivative\n",
    "from typing import Union, Callable\n",
    "\n",
    "\n",
    "def mov_avg(func: Callable[[np.ndarray], np.ndarray], x: np.ndarray, window: float) -> np.ndarray:\n",
    "    args = np.linspace(x - window / 2, x + window / 2, window * 100)\n",
    "    return func(args).mean(axis=0)\n",
    "\n",
    "def f(x: np.ndarray) -> np.ndarray:\n",
    "    return (5 * np.sin(2 * x) - np.cos(x) ** 2 - 1 + np.abs(x ** 3) - x ** 2) / (x ** 2 + 1)\n",
    "\n",
    "def df(f: Callable[[np.ndarray], np.ndarray], x: np.ndarray) -> np.ndarray:\n",
    "    return derivative(f, x, dx=1e-6)\n",
    "\n",
    "\n",
    "x = np.linspace(-10, 10, 200)  # (-10, 10, 1000)\n",
    "y = f(x) ## (5 * np.sin(2 * x) - np.cos(x) ** 2 - 1 + np.abs(x ** 3) - x ** 2) / (x ** 2 + 1)\n",
    "dy = df(f, x)\n",
    "\n",
    "plt.plot(x, y, label='f(x)')\n",
    "plt.plot(x, dy, label='f\\'(x)')\n",
    "\n",
    "min_f_p = scipy.optimize.fmin_bfgs(f, 0, full_output=True)\n",
    "x_min, y_min = min_f_p[0][0], min_f_p[1]\n",
    "plt.plot(x_min, y_min, '*', label='min ') \n",
    "\n",
    "m_a_1 = mov_avg(f, x, 1)\n",
    "m_a_2 = mov_avg(f, x, 2)\n",
    "m_a_5 = mov_avg(f, x, 5)\n",
    "\n",
    "# print(m_a_1.shape, m_a_2.shape, m_a_5.shape)\n",
    "\n",
    "plt.plot(x, m_a_1, label='f moving average 1') \n",
    "plt.plot(x, m_a_2, label='f moving average 2', color='yellow') \n",
    "plt.plot(x, m_a_5, label='f moving average 5', color = 'black')\n",
    "\n",
    "plt.legend()\n",
    "plt.show()"
   ]
  },
  {
   "cell_type": "markdown",
   "metadata": {},
   "source": [
    "# Задание 2.15 (10 баллов)\n",
    "\n",
    "Есть следующий алгоритм семплинирования, на вход функции подается вектор из целых положительных чисел и число семплов."
   ]
  },
  {
   "cell_type": "code",
   "execution_count": 16,
   "metadata": {},
   "outputs": [
    {
     "data": {
      "text/plain": [
       "[0, 0, 0, 0, 3]"
      ]
     },
     "execution_count": 16,
     "metadata": {},
     "output_type": "execute_result"
    }
   ],
   "source": [
    "from typing import List \n",
    "\n",
    "def sample(x: List[int], c: int) -> List[int]:\n",
    "    assert len(x) > 0\n",
    "    \n",
    "    s = np.sum(x)\n",
    "    res = []\n",
    "    for _ in range(c):\n",
    "        val = s * np.random.random()\n",
    "        cur, idx = 0, 0        \n",
    "        while cur + x[idx] <= val:\n",
    "            cur += x[idx]\n",
    "            idx += 1    \n",
    "        res.append(idx)\n",
    "    return res\n",
    "\n",
    "            \n",
    "sample([50, 3, 1, 7, 20], 5)   "
   ]
  },
  {
   "cell_type": "markdown",
   "metadata": {},
   "source": [
    "Реализуйте данный алгоритм более оптимальным способом на массивах `numpy`, без использования циклов. Проверьте корректность и идентичность алгоритмов семплирования с помощью статистических тестов."
   ]
  },
  {
   "cell_type": "code",
   "execution_count": 17,
   "metadata": {},
   "outputs": [
    {
     "data": {
      "text/plain": [
       "array([1, 0, 0, 3, 4])"
      ]
     },
     "execution_count": 17,
     "metadata": {},
     "output_type": "execute_result"
    }
   ],
   "source": [
    "def sample_np(x: np.ndarray, c: int) -> np.ndarray:\n",
    "    assert len(x) > 0\n",
    "    return np.random.choice(np.arange(len(x)), size=c, p=x / np.sum(x))\n",
    "\n",
    "sample_np(np.array([50, 3, 1, 7, 20]), 5)\n"
   ]
  },
  {
   "cell_type": "code",
   "execution_count": 18,
   "metadata": {},
   "outputs": [
    {
     "data": {
      "text/plain": [
       "array([4, 0, 0, 0, 0])"
      ]
     },
     "execution_count": 18,
     "metadata": {},
     "output_type": "execute_result"
    }
   ],
   "source": [
    "def sample_np2(x: np.ndarray, c: int) -> np.ndarray:\n",
    "    assert len(x) > 0\n",
    "    \n",
    "    s = np.sum(x)\n",
    "    val = s * np.random.random(size=c)\n",
    "    cur = np.cumsum(x)\n",
    "    idx = np.searchsorted(cur, val)\n",
    "    return idx\n",
    "\n",
    "sample_np(np.array([50, 3, 1, 7, 20]), 5)"
   ]
  },
  {
   "attachments": {},
   "cell_type": "markdown",
   "metadata": {},
   "source": [
    "Для проверки гипотезы однородности воспользуемся критерием Стьюдента. "
   ]
  },
  {
   "cell_type": "code",
   "execution_count": 19,
   "metadata": {},
   "outputs": [
    {
     "name": "stdout",
     "output_type": "stream",
     "text": [
      "0.040602456334582135 0.9676132312236914\n",
      "0.1860865558122246 0.852378772111383\n"
     ]
    }
   ],
   "source": [
    "# realize statistic tests\n",
    "from scipy import stats\n",
    "\n",
    "# from scipy.stats import ttest_ind\n",
    "data1 = sample([50, 3, 1, 7, 20, 10, 13, 79, 100, 2], 10000)\n",
    "data2 = sample_np([50, 3, 1, 7, 20, 10, 13, 79, 100, 2], 10000)\n",
    "data3 = sample_np2([50, 3, 1, 7, 20, 10, 13, 79, 100, 2], 10000)\n",
    "stat, p = stats.ttest_ind(data1, data2)\n",
    "stat2, p2 = stats.ttest_ind(data1, data3)\n",
    "print(stat, p)\n",
    "print(stat2, p2)"
   ]
  },
  {
   "attachments": {},
   "cell_type": "markdown",
   "metadata": {},
   "source": [
    "$p-value > 0.05$, мы не попали в критическую область, значит, нет основания отвергнуть нулевую гипотезу при уровне значимости альфа=0.05. "
   ]
  },
  {
   "attachments": {},
   "cell_type": "markdown",
   "metadata": {},
   "source": [
    "Для проверки гипотезы однородности воспользуемся Критерием Колмагорова-Смирнова"
   ]
  },
  {
   "cell_type": "code",
   "execution_count": 20,
   "metadata": {},
   "outputs": [
    {
     "name": "stdout",
     "output_type": "stream",
     "text": [
      "0.0095 0.7576249852868608\n",
      "0.0053 0.9989767752700422\n"
     ]
    }
   ],
   "source": [
    "from scipy.stats import ks_2samp\n",
    "\n",
    "#perform Kolmagorov-Smirnov test\n",
    "stat, p = ks_2samp(data1, data2)\n",
    "stat2, p2 = ks_2samp(data1, data3)\n",
    "print(stat, p)\n",
    "print(stat2, p2)"
   ]
  },
  {
   "attachments": {},
   "cell_type": "markdown",
   "metadata": {},
   "source": [
    "$p-value > 0.05$, мы не попали в критическую область, значит, нет основания отвергнуть нулевую гипотезу при уровне значимости альфа=0.05. "
   ]
  },
  {
   "cell_type": "code",
   "execution_count": 21,
   "metadata": {},
   "outputs": [
    {
     "data": {
      "image/png": "[encoded data removed]",
      "text/plain": [
       "<Figure size 640x480 with 1 Axes>"
      ]
     },
     "metadata": {},
     "output_type": "display_data"
    }
   ],
   "source": [
    "sns.kdeplot(data=data1, label='sample')\n",
    "sns.kdeplot(data=data2, label='numpy_sample')\n",
    "sns.kdeplot(data=data3, label='numpy_sample2')\n",
    "plt.legend()\n",
    "plt.show()"
   ]
  },
  {
   "cell_type": "markdown",
   "metadata": {},
   "source": [
    "# Задание 2.16 (5 баллов)\n",
    "\n",
    "Есть следующий алгоритм \"случайного блуждания\""
   ]
  },
  {
   "cell_type": "code",
   "execution_count": 22,
   "metadata": {},
   "outputs": [
    {
     "data": {
      "text/plain": [
       "1867"
      ]
     },
     "execution_count": 22,
     "metadata": {},
     "output_type": "execute_result"
    }
   ],
   "source": [
    "import random \n",
    "\n",
    "def walk(n: int):\n",
    "    cur_position = 0\n",
    "    for i in range(n):\n",
    "        cur_position += random.choice([-3, -1, 0, 2, 3])\n",
    "\n",
    "    return cur_position\n",
    "\n",
    "walk(10_000)"
   ]
  },
  {
   "cell_type": "markdown",
   "metadata": {},
   "source": [
    "Реализуйте более эффективную версию с помощью `numpy`, сравните производительность (используя, например, magic `timeit`). Воспользовавшись [kdeplot()](https://seaborn.pydata.org/generated/seaborn.kdeplot.html) или аналогами, постройте график распределения значений `walk(10_000)` на каком-то разумном числе запусков. "
   ]
  },
  {
   "cell_type": "code",
   "execution_count": 23,
   "metadata": {},
   "outputs": [],
   "source": [
    "import timeit "
   ]
  },
  {
   "cell_type": "code",
   "execution_count": 24,
   "metadata": {},
   "outputs": [
    {
     "data": {
      "text/plain": [
       "2099"
      ]
     },
     "execution_count": 24,
     "metadata": {},
     "output_type": "execute_result"
    }
   ],
   "source": [
    "def walk_np(n: int) -> int:\n",
    "    return np.sum(np.random.choice([-3, -1, 0, 2, 3], size=n))\n",
    "\n",
    "walk_np(10_000)"
   ]
  },
  {
   "cell_type": "code",
   "execution_count": 25,
   "metadata": {},
   "outputs": [
    {
     "name": "stdout",
     "output_type": "stream",
     "text": [
      "Function walk:  4.569619082991267\n",
      "Function walk_np:  0.17657283297739923\n"
     ]
    }
   ],
   "source": [
    "print(\"Function walk: \", timeit.timeit('walk(10000)', globals=globals(), number=1000))\n",
    "print(\"Function walk_np: \", timeit.timeit('walk_np(10000)', globals=globals(), number=1000))"
   ]
  },
  {
   "cell_type": "code",
   "execution_count": 26,
   "metadata": {},
   "outputs": [
    {
     "data": {
      "image/png": "[encoded data removed]",
      "text/plain": [
       "<Figure size 640x480 with 1 Axes>"
      ]
     },
     "metadata": {},
     "output_type": "display_data"
    }
   ],
   "source": [
    "walk_values = [walk(10000) for _ in range(1000)]\n",
    "walk_np_values = [walk_np(10000) for _ in range(1000)]\n",
    "sns.kdeplot(walk_values, label='walk')\n",
    "sns.kdeplot(walk_np_values, label='walk_np')\n",
    "plt.legend()\n",
    "plt.show()\n"
   ]
  },
  {
   "cell_type": "code",
   "execution_count": 27,
   "metadata": {},
   "outputs": [
    {
     "name": "stdout",
     "output_type": "stream",
     "text": [
      "46 ms ± 624 µs per loop (mean ± std. dev. of 7 runs, 10 loops each)\n"
     ]
    }
   ],
   "source": [
    "%timeit walk(100000)"
   ]
  },
  {
   "cell_type": "code",
   "execution_count": 28,
   "metadata": {},
   "outputs": [
    {
     "name": "stdout",
     "output_type": "stream",
     "text": [
      "1.56 ms ± 19.3 µs per loop (mean ± std. dev. of 7 runs, 1,000 loops each)\n"
     ]
    }
   ],
   "source": [
    "%timeit walk_np(100000)"
   ]
  },
  {
   "cell_type": "code",
   "execution_count": 29,
   "metadata": {},
   "outputs": [
    {
     "data": {
      "text/plain": [
       "(26.488095238095237, 28.94736842105263)"
      ]
     },
     "execution_count": 29,
     "metadata": {},
     "output_type": "execute_result"
    }
   ],
   "source": [
    "4.45*1000/168, 44/1.52"
   ]
  },
  {
   "attachments": {},
   "cell_type": "markdown",
   "metadata": {},
   "source": [
    "Производительность увеличилась в несколько (~26-29) раз. "
   ]
  },
  {
   "cell_type": "markdown",
   "metadata": {},
   "source": [
    "# Задание 2.17 (5 баллов)\n",
    "\n",
    "Имеется функция, которая проделывает достаточно странные манипуляции с массивом `numpy`"
   ]
  },
  {
   "cell_type": "code",
   "execution_count": 30,
   "metadata": {},
   "outputs": [
    {
     "data": {
      "text/plain": [
       "1.363663053123986"
      ]
     },
     "execution_count": 30,
     "metadata": {},
     "output_type": "execute_result"
    }
   ],
   "source": [
    "import numpy.typing as npt\n",
    "\n",
    "def strange_conv(a: npt.NDArray[np.float64]) -> np.float64:\n",
    "    x = a.shape[0]\n",
    "    y = a.shape[1]\n",
    "\n",
    "    t = 1.\n",
    "    for y in range(y - 5):\n",
    "        for x in range(x - 3):\n",
    "            c = 1.5 * a[y+1, x+2] - a[y+5, x+3] * a[y, x] + 0.2 * a[y+4, x]\n",
    "            t = 0.2 * t + 0.8 * c\n",
    "\n",
    "    return t\n",
    "\n",
    "\n",
    "a = np.random.random((10000, 10000))\n",
    "strange_conv(a)\n"
   ]
  },
  {
   "cell_type": "markdown",
   "metadata": {},
   "source": [
    "Оптимизируйте данную функцию с помощью (2 на выбор):\n",
    "- [Numba](https://numba.pydata.org)\n",
    "- `Cython` (+5 баллов)\n",
    "- [Taichi](https://github.com/taichi-dev/taichi) (+5 баллов)\n",
    "- `Pythran `[[1]](https://pythran.readthedocs.io/en/latest/), [[2]](https://serge-sans-paille.github.io/pythran-stories/pythran-tutorial.html) (+2 балла)\n",
    "\n",
    "Сравните производительность."
   ]
  },
  {
   "cell_type": "code",
   "execution_count": 31,
   "metadata": {},
   "outputs": [
    {
     "data": {
      "text/plain": [
       "0.5264368548334256"
      ]
     },
     "execution_count": 31,
     "metadata": {},
     "output_type": "execute_result"
    }
   ],
   "source": [
    "from numba import njit\n",
    "\n",
    "strange_conv_numba = njit(strange_conv)\n",
    "\n",
    "a = np.random.random((10000, 10000))\n",
    "strange_conv_numba(a)"
   ]
  },
  {
   "cell_type": "code",
   "execution_count": 32,
   "metadata": {},
   "outputs": [],
   "source": [
    "import cython"
   ]
  },
  {
   "cell_type": "code",
   "execution_count": 33,
   "metadata": {},
   "outputs": [],
   "source": [
    "%load_ext Cython"
   ]
  },
  {
   "cell_type": "code",
   "execution_count": 34,
   "metadata": {},
   "outputs": [],
   "source": [
    "%%cython\n",
    "\n",
    "cimport numpy\n",
    "\n",
    "def strange_conv_cython(numpy.ndarray['double', ndim=2] a):\n",
    "    cdef int x = a.shape[0]\n",
    "    cdef int y = a.shape[1]\n",
    "\n",
    "    cdef double t = 1.\n",
    "    cdef double c = 0.\n",
    "    for y in range(y - 5):\n",
    "        for x in range(x - 3):\n",
    "            c = 1.5 * a[y+1, x+2] - a[y+5, x+3] * a[y, x] + 0.2 * a[y+4, x]\n",
    "            t = 0.2 * t + 0.8 * c\n",
    "\n",
    "    return t\n"
   ]
  },
  {
   "cell_type": "code",
   "execution_count": 35,
   "metadata": {},
   "outputs": [
    {
     "name": "stdout",
     "output_type": "stream",
     "text": [
      "12.1 s ± 115 ms per loop (mean ± std. dev. of 7 runs, 1 loop each)\n"
     ]
    }
   ],
   "source": [
    "%timeit strange_conv(a)"
   ]
  },
  {
   "cell_type": "code",
   "execution_count": 36,
   "metadata": {},
   "outputs": [
    {
     "name": "stdout",
     "output_type": "stream",
     "text": [
      "29.1 ms ± 624 µs per loop (mean ± std. dev. of 7 runs, 10 loops each)\n"
     ]
    }
   ],
   "source": [
    "%timeit strange_conv_numba(a)"
   ]
  },
  {
   "cell_type": "code",
   "execution_count": 37,
   "metadata": {},
   "outputs": [
    {
     "name": "stdout",
     "output_type": "stream",
     "text": [
      "43.1 ms ± 293 µs per loop (mean ± std. dev. of 7 runs, 10 loops each)\n"
     ]
    }
   ],
   "source": [
    "%timeit strange_conv_cython(a)"
   ]
  },
  {
   "attachments": {},
   "cell_type": "markdown",
   "metadata": {},
   "source": [
    "Производительность с помощью Numba улучшается в ~438 раз, производительность с Cython больше в 293 раз"
   ]
  },
  {
   "cell_type": "code",
   "execution_count": 38,
   "metadata": {},
   "outputs": [
    {
     "name": "stdout",
     "output_type": "stream",
     "text": [
      "438.1625441696113 293.1442080378251\n"
     ]
    }
   ],
   "source": [
    "print(12.4*1000/28.3,12.4*1000/42.3)"
   ]
  }
 ],
 "metadata": {
  "kernelspec": {
   "display_name": "Python 3.10.6 ('python-for-data-analysis')",
   "language": "python",
   "name": "python3"
  },
  "language_info": {
   "codemirror_mode": {
    "name": "ipython",
    "version": 3
   },
   "file_extension": ".py",
   "mimetype": "text/x-python",
   "name": "python",
   "nbconvert_exporter": "python",
   "pygments_lexer": "ipython3",
   "version": "3.10.6"
  },
  "orig_nbformat": 4,
  "vscode": {
   "interpreter": {
    "hash": "cdcb8b47a48146c8bfd997adddf099df095524100ba9341af35969a11f235150"
   }
  }
 },
 "nbformat": 4,
 "nbformat_minor": 2
}
